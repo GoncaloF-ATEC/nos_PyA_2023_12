{
 "cells": [
  {
   "cell_type": "code",
   "outputs": [],
   "source": [
    "import pandas as pd\n",
    "import sqlite3\n",
    "import oracledb\n",
    "import pdfkit"
   ],
   "metadata": {
    "collapsed": false,
    "ExecuteTime": {
     "end_time": "2024-01-05T11:33:41.165639Z",
     "start_time": "2024-01-05T11:33:41.098843Z"
    }
   },
   "id": "8b1ba1faf2ac018e",
   "execution_count": 114
  },
  {
   "cell_type": "code",
   "outputs": [
    {
     "name": "stdout",
     "output_type": "stream",
     "text": [
      "Requirement already satisfied: openpyxl in /Users/goncalof/anaconda3/envs/newConda/lib/python3.8/site-packages (3.1.2)\r\n",
      "Requirement already satisfied: et-xmlfile in /Users/goncalof/anaconda3/envs/newConda/lib/python3.8/site-packages (from openpyxl) (1.1.0)\r\n",
      "Requirement already satisfied: xlsxwriter in /Users/goncalof/anaconda3/envs/newConda/lib/python3.8/site-packages (3.1.9)\r\n"
     ]
    }
   ],
   "source": [
    "!pip install openpyxl\n",
    "!pip install xlsxwriter"
   ],
   "metadata": {
    "collapsed": false,
    "ExecuteTime": {
     "end_time": "2024-01-05T11:33:44.825681Z",
     "start_time": "2024-01-05T11:33:41.167640Z"
    }
   },
   "id": "51af31f78add0237",
   "execution_count": 115
  },
  {
   "cell_type": "markdown",
   "source": [
    "! <- corre um comando"
   ],
   "metadata": {
    "collapsed": false
   },
   "id": "5dd7929f41e206c4"
  },
  {
   "cell_type": "code",
   "outputs": [
    {
     "name": "stdout",
     "output_type": "stream",
     "text": [
      "out.csv           out3.csv          teste.html        teste2.html\r\n",
      "out1.xlsx         out3.xlsx         teste.json        teste2.json\r\n",
      "out2.csv          save_testes.ipynb teste.tex         teste3.json\r\n",
      "out2.xlsx         savetoDB.db       teste.xlsx\r\n"
     ]
    }
   ],
   "source": [
    "!ls"
   ],
   "metadata": {
    "collapsed": false,
    "ExecuteTime": {
     "end_time": "2024-01-05T11:33:44.984128Z",
     "start_time": "2024-01-05T11:33:44.829604Z"
    }
   },
   "id": "63241d2d286018b8",
   "execution_count": 116
  },
  {
   "cell_type": "code",
   "execution_count": 117,
   "id": "initial_id",
   "metadata": {
    "collapsed": true,
    "ExecuteTime": {
     "end_time": "2024-01-05T11:33:44.993729Z",
     "start_time": "2024-01-05T11:33:44.986373Z"
    }
   },
   "outputs": [
    {
     "data": {
      "text/plain": "'2.0.3'"
     },
     "execution_count": 117,
     "metadata": {},
     "output_type": "execute_result"
    }
   ],
   "source": [
    "pd.__version__"
   ]
  },
  {
   "cell_type": "code",
   "outputs": [],
   "source": [
    "#df.to_excel()\n",
    "#df.to_json()\n",
    "#df.to_sql()\n",
    "#df.to_csv()\n",
    "#df.to_html()"
   ],
   "metadata": {
    "collapsed": false,
    "ExecuteTime": {
     "end_time": "2024-01-05T11:33:44.995482Z",
     "start_time": "2024-01-05T11:33:44.992351Z"
    }
   },
   "id": "3aa9655e32124f17",
   "execution_count": 118
  },
  {
   "cell_type": "code",
   "outputs": [],
   "source": [
    "data = {'product_name': ['Computer','Tablet','Monitor','Printer'],\n",
    "        'price': [900,300,675,150]\n",
    "        }\n",
    "\n",
    "df = pd.DataFrame(data, columns= ['product_name','price'])\n",
    "\n",
    "#df"
   ],
   "metadata": {
    "collapsed": false,
    "ExecuteTime": {
     "end_time": "2024-01-05T11:33:45.013164Z",
     "start_time": "2024-01-05T11:33:44.998483Z"
    }
   },
   "id": "fa9a51f491d93d48",
   "execution_count": 119
  },
  {
   "cell_type": "code",
   "outputs": [],
   "source": [
    "data = {'product_name': ['Computer2','Tablet2','Monitor2','Printer2'],\n",
    "        'price': [9002,3002,6752,1502]\n",
    "        }\n",
    "\n",
    "df2 = pd.DataFrame(data, columns= ['product_name','price'])"
   ],
   "metadata": {
    "collapsed": false,
    "ExecuteTime": {
     "end_time": "2024-01-05T11:33:45.014018Z",
     "start_time": "2024-01-05T11:33:45.003823Z"
    }
   },
   "id": "8c2bf3345a8350c0",
   "execution_count": 120
  },
  {
   "cell_type": "markdown",
   "source": [
    "# save to excel\n",
    "\n",
    "* !pip install xlsxwriter"
   ],
   "metadata": {
    "collapsed": false
   },
   "id": "c3641862f7f2ab42"
  },
  {
   "cell_type": "code",
   "outputs": [
    {
     "ename": "BadZipFile",
     "evalue": "File is not a zip file",
     "output_type": "error",
     "traceback": [
      "\u001B[0;31m---------------------------------------------------------------------------\u001B[0m",
      "\u001B[0;31mBadZipFile\u001B[0m                                Traceback (most recent call last)",
      "Cell \u001B[0;32mIn[121], line 1\u001B[0m\n\u001B[0;32m----> 1\u001B[0m w \u001B[38;5;241m=\u001B[39m \u001B[43mpd\u001B[49m\u001B[38;5;241;43m.\u001B[39;49m\u001B[43mExcelWriter\u001B[49m\u001B[43m(\u001B[49m\u001B[38;5;124;43m\"\u001B[39;49m\u001B[38;5;124;43mteste.xlsx\u001B[39;49m\u001B[38;5;124;43m\"\u001B[39;49m\u001B[43m,\u001B[49m\u001B[43m \u001B[49m\u001B[43mmode\u001B[49m\u001B[38;5;241;43m=\u001B[39;49m\u001B[38;5;124;43m\"\u001B[39;49m\u001B[38;5;124;43ma\u001B[39;49m\u001B[38;5;124;43m\"\u001B[39;49m\u001B[43m,\u001B[49m\u001B[43m \u001B[49m\u001B[43mengine\u001B[49m\u001B[38;5;241;43m=\u001B[39;49m\u001B[38;5;124;43m\"\u001B[39;49m\u001B[38;5;124;43mopenpyxl\u001B[39;49m\u001B[38;5;124;43m\"\u001B[39;49m\u001B[43m)\u001B[49m\n\u001B[1;32m      2\u001B[0m df\u001B[38;5;241m.\u001B[39mto_excel(w, sheet_name\u001B[38;5;241m=\u001B[39m\u001B[38;5;124m\"\u001B[39m\u001B[38;5;124mfolha_1\u001B[39m\u001B[38;5;124m\"\u001B[39m)\n\u001B[1;32m      3\u001B[0m df\u001B[38;5;241m.\u001B[39mto_excel(w, sheet_name\u001B[38;5;241m=\u001B[39m\u001B[38;5;124m\"\u001B[39m\u001B[38;5;124mfolha_2\u001B[39m\u001B[38;5;124m\"\u001B[39m)\n",
      "File \u001B[0;32m~/anaconda3/envs/newConda/lib/python3.8/site-packages/pandas/io/excel/_openpyxl.py:74\u001B[0m, in \u001B[0;36mOpenpyxlWriter.__init__\u001B[0;34m(self, path, engine, date_format, datetime_format, mode, storage_options, if_sheet_exists, engine_kwargs, **kwargs)\u001B[0m\n\u001B[1;32m     71\u001B[0m \u001B[38;5;28;01mfrom\u001B[39;00m \u001B[38;5;21;01mopenpyxl\u001B[39;00m \u001B[38;5;28;01mimport\u001B[39;00m load_workbook\n\u001B[1;32m     73\u001B[0m \u001B[38;5;28;01mtry\u001B[39;00m:\n\u001B[0;32m---> 74\u001B[0m     \u001B[38;5;28mself\u001B[39m\u001B[38;5;241m.\u001B[39m_book \u001B[38;5;241m=\u001B[39m \u001B[43mload_workbook\u001B[49m\u001B[43m(\u001B[49m\u001B[38;5;28;43mself\u001B[39;49m\u001B[38;5;241;43m.\u001B[39;49m\u001B[43m_handles\u001B[49m\u001B[38;5;241;43m.\u001B[39;49m\u001B[43mhandle\u001B[49m\u001B[43m,\u001B[49m\u001B[43m \u001B[49m\u001B[38;5;241;43m*\u001B[39;49m\u001B[38;5;241;43m*\u001B[39;49m\u001B[43mengine_kwargs\u001B[49m\u001B[43m)\u001B[49m\n\u001B[1;32m     75\u001B[0m \u001B[38;5;28;01mexcept\u001B[39;00m \u001B[38;5;167;01mTypeError\u001B[39;00m:\n\u001B[1;32m     76\u001B[0m     \u001B[38;5;28mself\u001B[39m\u001B[38;5;241m.\u001B[39m_handles\u001B[38;5;241m.\u001B[39mhandle\u001B[38;5;241m.\u001B[39mclose()\n",
      "File \u001B[0;32m~/anaconda3/envs/newConda/lib/python3.8/site-packages/openpyxl/reader/excel.py:344\u001B[0m, in \u001B[0;36mload_workbook\u001B[0;34m(filename, read_only, keep_vba, data_only, keep_links, rich_text)\u001B[0m\n\u001B[1;32m    314\u001B[0m \u001B[38;5;28;01mdef\u001B[39;00m \u001B[38;5;21mload_workbook\u001B[39m(filename, read_only\u001B[38;5;241m=\u001B[39m\u001B[38;5;28;01mFalse\u001B[39;00m, keep_vba\u001B[38;5;241m=\u001B[39mKEEP_VBA,\n\u001B[1;32m    315\u001B[0m                   data_only\u001B[38;5;241m=\u001B[39m\u001B[38;5;28;01mFalse\u001B[39;00m, keep_links\u001B[38;5;241m=\u001B[39m\u001B[38;5;28;01mTrue\u001B[39;00m, rich_text\u001B[38;5;241m=\u001B[39m\u001B[38;5;28;01mFalse\u001B[39;00m):\n\u001B[1;32m    316\u001B[0m \u001B[38;5;250m    \u001B[39m\u001B[38;5;124;03m\"\"\"Open the given filename and return the workbook\u001B[39;00m\n\u001B[1;32m    317\u001B[0m \n\u001B[1;32m    318\u001B[0m \u001B[38;5;124;03m    :param filename: the path to open or a file-like object\u001B[39;00m\n\u001B[0;32m   (...)\u001B[0m\n\u001B[1;32m    342\u001B[0m \n\u001B[1;32m    343\u001B[0m \u001B[38;5;124;03m    \"\"\"\u001B[39;00m\n\u001B[0;32m--> 344\u001B[0m     reader \u001B[38;5;241m=\u001B[39m \u001B[43mExcelReader\u001B[49m\u001B[43m(\u001B[49m\u001B[43mfilename\u001B[49m\u001B[43m,\u001B[49m\u001B[43m \u001B[49m\u001B[43mread_only\u001B[49m\u001B[43m,\u001B[49m\u001B[43m \u001B[49m\u001B[43mkeep_vba\u001B[49m\u001B[43m,\u001B[49m\n\u001B[1;32m    345\u001B[0m \u001B[43m                         \u001B[49m\u001B[43mdata_only\u001B[49m\u001B[43m,\u001B[49m\u001B[43m \u001B[49m\u001B[43mkeep_links\u001B[49m\u001B[43m,\u001B[49m\u001B[43m \u001B[49m\u001B[43mrich_text\u001B[49m\u001B[43m)\u001B[49m\n\u001B[1;32m    346\u001B[0m     reader\u001B[38;5;241m.\u001B[39mread()\n\u001B[1;32m    347\u001B[0m     \u001B[38;5;28;01mreturn\u001B[39;00m reader\u001B[38;5;241m.\u001B[39mwb\n",
      "File \u001B[0;32m~/anaconda3/envs/newConda/lib/python3.8/site-packages/openpyxl/reader/excel.py:123\u001B[0m, in \u001B[0;36mExcelReader.__init__\u001B[0;34m(self, fn, read_only, keep_vba, data_only, keep_links, rich_text)\u001B[0m\n\u001B[1;32m    121\u001B[0m \u001B[38;5;28;01mdef\u001B[39;00m \u001B[38;5;21m__init__\u001B[39m(\u001B[38;5;28mself\u001B[39m, fn, read_only\u001B[38;5;241m=\u001B[39m\u001B[38;5;28;01mFalse\u001B[39;00m, keep_vba\u001B[38;5;241m=\u001B[39mKEEP_VBA,\n\u001B[1;32m    122\u001B[0m              data_only\u001B[38;5;241m=\u001B[39m\u001B[38;5;28;01mFalse\u001B[39;00m, keep_links\u001B[38;5;241m=\u001B[39m\u001B[38;5;28;01mTrue\u001B[39;00m, rich_text\u001B[38;5;241m=\u001B[39m\u001B[38;5;28;01mFalse\u001B[39;00m):\n\u001B[0;32m--> 123\u001B[0m     \u001B[38;5;28mself\u001B[39m\u001B[38;5;241m.\u001B[39marchive \u001B[38;5;241m=\u001B[39m \u001B[43m_validate_archive\u001B[49m\u001B[43m(\u001B[49m\u001B[43mfn\u001B[49m\u001B[43m)\u001B[49m\n\u001B[1;32m    124\u001B[0m     \u001B[38;5;28mself\u001B[39m\u001B[38;5;241m.\u001B[39mvalid_files \u001B[38;5;241m=\u001B[39m \u001B[38;5;28mself\u001B[39m\u001B[38;5;241m.\u001B[39marchive\u001B[38;5;241m.\u001B[39mnamelist()\n\u001B[1;32m    125\u001B[0m     \u001B[38;5;28mself\u001B[39m\u001B[38;5;241m.\u001B[39mread_only \u001B[38;5;241m=\u001B[39m read_only\n",
      "File \u001B[0;32m~/anaconda3/envs/newConda/lib/python3.8/site-packages/openpyxl/reader/excel.py:95\u001B[0m, in \u001B[0;36m_validate_archive\u001B[0;34m(filename)\u001B[0m\n\u001B[1;32m     88\u001B[0m             msg \u001B[38;5;241m=\u001B[39m (\u001B[38;5;124m'\u001B[39m\u001B[38;5;124mopenpyxl does not support \u001B[39m\u001B[38;5;132;01m%s\u001B[39;00m\u001B[38;5;124m file format, \u001B[39m\u001B[38;5;124m'\u001B[39m\n\u001B[1;32m     89\u001B[0m                    \u001B[38;5;124m'\u001B[39m\u001B[38;5;124mplease check you can open \u001B[39m\u001B[38;5;124m'\u001B[39m\n\u001B[1;32m     90\u001B[0m                    \u001B[38;5;124m'\u001B[39m\u001B[38;5;124mit with Excel first. \u001B[39m\u001B[38;5;124m'\u001B[39m\n\u001B[1;32m     91\u001B[0m                    \u001B[38;5;124m'\u001B[39m\u001B[38;5;124mSupported formats are: \u001B[39m\u001B[38;5;132;01m%s\u001B[39;00m\u001B[38;5;124m'\u001B[39m) \u001B[38;5;241m%\u001B[39m (file_format,\n\u001B[1;32m     92\u001B[0m                                                    \u001B[38;5;124m'\u001B[39m\u001B[38;5;124m,\u001B[39m\u001B[38;5;124m'\u001B[39m\u001B[38;5;241m.\u001B[39mjoin(SUPPORTED_FORMATS))\n\u001B[1;32m     93\u001B[0m         \u001B[38;5;28;01mraise\u001B[39;00m InvalidFileException(msg)\n\u001B[0;32m---> 95\u001B[0m archive \u001B[38;5;241m=\u001B[39m \u001B[43mZipFile\u001B[49m\u001B[43m(\u001B[49m\u001B[43mfilename\u001B[49m\u001B[43m,\u001B[49m\u001B[43m \u001B[49m\u001B[38;5;124;43m'\u001B[39;49m\u001B[38;5;124;43mr\u001B[39;49m\u001B[38;5;124;43m'\u001B[39;49m\u001B[43m)\u001B[49m\n\u001B[1;32m     96\u001B[0m \u001B[38;5;28;01mreturn\u001B[39;00m archive\n",
      "File \u001B[0;32m~/anaconda3/envs/newConda/lib/python3.8/zipfile.py:1269\u001B[0m, in \u001B[0;36mZipFile.__init__\u001B[0;34m(self, file, mode, compression, allowZip64, compresslevel, strict_timestamps)\u001B[0m\n\u001B[1;32m   1267\u001B[0m \u001B[38;5;28;01mtry\u001B[39;00m:\n\u001B[1;32m   1268\u001B[0m     \u001B[38;5;28;01mif\u001B[39;00m mode \u001B[38;5;241m==\u001B[39m \u001B[38;5;124m'\u001B[39m\u001B[38;5;124mr\u001B[39m\u001B[38;5;124m'\u001B[39m:\n\u001B[0;32m-> 1269\u001B[0m         \u001B[38;5;28;43mself\u001B[39;49m\u001B[38;5;241;43m.\u001B[39;49m\u001B[43m_RealGetContents\u001B[49m\u001B[43m(\u001B[49m\u001B[43m)\u001B[49m\n\u001B[1;32m   1270\u001B[0m     \u001B[38;5;28;01melif\u001B[39;00m mode \u001B[38;5;129;01min\u001B[39;00m (\u001B[38;5;124m'\u001B[39m\u001B[38;5;124mw\u001B[39m\u001B[38;5;124m'\u001B[39m, \u001B[38;5;124m'\u001B[39m\u001B[38;5;124mx\u001B[39m\u001B[38;5;124m'\u001B[39m):\n\u001B[1;32m   1271\u001B[0m         \u001B[38;5;66;03m# set the modified flag so central directory gets written\u001B[39;00m\n\u001B[1;32m   1272\u001B[0m         \u001B[38;5;66;03m# even if no files are added to the archive\u001B[39;00m\n\u001B[1;32m   1273\u001B[0m         \u001B[38;5;28mself\u001B[39m\u001B[38;5;241m.\u001B[39m_didModify \u001B[38;5;241m=\u001B[39m \u001B[38;5;28;01mTrue\u001B[39;00m\n",
      "File \u001B[0;32m~/anaconda3/envs/newConda/lib/python3.8/zipfile.py:1336\u001B[0m, in \u001B[0;36mZipFile._RealGetContents\u001B[0;34m(self)\u001B[0m\n\u001B[1;32m   1334\u001B[0m     \u001B[38;5;28;01mraise\u001B[39;00m BadZipFile(\u001B[38;5;124m\"\u001B[39m\u001B[38;5;124mFile is not a zip file\u001B[39m\u001B[38;5;124m\"\u001B[39m)\n\u001B[1;32m   1335\u001B[0m \u001B[38;5;28;01mif\u001B[39;00m \u001B[38;5;129;01mnot\u001B[39;00m endrec:\n\u001B[0;32m-> 1336\u001B[0m     \u001B[38;5;28;01mraise\u001B[39;00m BadZipFile(\u001B[38;5;124m\"\u001B[39m\u001B[38;5;124mFile is not a zip file\u001B[39m\u001B[38;5;124m\"\u001B[39m)\n\u001B[1;32m   1337\u001B[0m \u001B[38;5;28;01mif\u001B[39;00m \u001B[38;5;28mself\u001B[39m\u001B[38;5;241m.\u001B[39mdebug \u001B[38;5;241m>\u001B[39m \u001B[38;5;241m1\u001B[39m:\n\u001B[1;32m   1338\u001B[0m     \u001B[38;5;28mprint\u001B[39m(endrec)\n",
      "\u001B[0;31mBadZipFile\u001B[0m: File is not a zip file"
     ]
    }
   ],
   "source": [
    "w = pd.ExcelWriter(\"teste.xlsx\", mode=\"a\", engine=\"openpyxl\")\n",
    "df.to_excel(w, sheet_name=\"folha_1\")\n",
    "df.to_excel(w, sheet_name=\"folha_2\")"
   ],
   "metadata": {
    "collapsed": false,
    "ExecuteTime": {
     "end_time": "2024-01-05T11:33:45.081315Z",
     "start_time": "2024-01-05T11:33:45.007972Z"
    }
   },
   "id": "3b5111db6b3f7798",
   "execution_count": 121
  },
  {
   "cell_type": "markdown",
   "source": [
    "if_sheet_exists – Takes values {‘error’, ‘new’, ‘replace’, ‘overlay’}, default ‘error’.\n",
    " mode – {‘w’, ‘a’}, default ‘w’. W for write, a for append."
   ],
   "metadata": {
    "collapsed": false
   },
   "id": "1d3368c1ad70c324"
  },
  {
   "cell_type": "code",
   "outputs": [],
   "source": [
    "with pd.ExcelWriter(\"out3.xlsx\", engine=\"openpyxl\", mode=\"a\", if_sheet_exists=\"overlay\") as w:\n",
    "        df.to_excel(w, sheet_name=\"Folha1\")\n",
    "        df2.to_excel(w, sheet_name=\"Folha2\")"
   ],
   "metadata": {
    "collapsed": false,
    "ExecuteTime": {
     "start_time": "2024-01-05T11:33:45.081073Z"
    }
   },
   "id": "80bb82b9fb06ea0c",
   "execution_count": null
  },
  {
   "cell_type": "code",
   "outputs": [],
   "source": [
    "df.to_csv(\"out.csv\")"
   ],
   "metadata": {
    "collapsed": false,
    "ExecuteTime": {
     "end_time": "2024-01-05T11:33:45.097739Z",
     "start_time": "2024-01-05T11:33:45.083530Z"
    }
   },
   "id": "5999406f5552ead3",
   "execution_count": null
  },
  {
   "cell_type": "code",
   "outputs": [],
   "source": [
    "df.to_csv(\"out2.csv\", index=False)"
   ],
   "metadata": {
    "collapsed": false,
    "ExecuteTime": {
     "start_time": "2024-01-05T11:33:45.086911Z"
    }
   },
   "id": "3c684e94755ba686",
   "execution_count": null
  },
  {
   "cell_type": "code",
   "outputs": [],
   "source": [
    "pd.read_csv(\"out.csv\")"
   ],
   "metadata": {
    "collapsed": false,
    "ExecuteTime": {
     "start_time": "2024-01-05T11:33:45.089251Z"
    }
   },
   "id": "2b39cd6bcb5ba3b5",
   "execution_count": null
  },
  {
   "cell_type": "code",
   "outputs": [],
   "source": [
    "df"
   ],
   "metadata": {
    "collapsed": false,
    "ExecuteTime": {
     "start_time": "2024-01-05T11:33:45.092892Z"
    }
   },
   "id": "f08af67c49ad8d8b",
   "execution_count": null
  },
  {
   "cell_type": "code",
   "outputs": [],
   "source": [
    "df.to_csv(\"out3.csv\", index=False, header=False)"
   ],
   "metadata": {
    "collapsed": false,
    "ExecuteTime": {
     "start_time": "2024-01-05T11:33:45.096809Z"
    }
   },
   "id": "bbc9366a39a66d78",
   "execution_count": null
  },
  {
   "cell_type": "code",
   "outputs": [],
   "source": [
    "df.to_csv(\"out3.csv\", mode=\"a\", index=False, header=False)"
   ],
   "metadata": {
    "collapsed": false,
    "ExecuteTime": {
     "end_time": "2024-01-05T11:33:45.100321Z",
     "start_time": "2024-01-05T11:33:45.099384Z"
    }
   },
   "id": "294711bbfb4830b0",
   "execution_count": null
  },
  {
   "cell_type": "code",
   "outputs": [],
   "source": [
    "df.to_latex(\"teste.tex\")"
   ],
   "metadata": {
    "collapsed": false,
    "ExecuteTime": {
     "start_time": "2024-01-05T11:33:45.102572Z"
    }
   },
   "id": "75705bda86b7b020",
   "execution_count": null
  },
  {
   "cell_type": "code",
   "outputs": [],
   "source": [
    "conn = sqlite3.connect(\"savetoDB.db\")\n",
    "\n",
    "df.to_sql(\"tabela2\", conn, if_exists=\"append\", index=False)"
   ],
   "metadata": {
    "collapsed": false,
    "ExecuteTime": {
     "start_time": "2024-01-05T11:33:45.105976Z"
    }
   },
   "id": "53298f0d2cc96365",
   "execution_count": null
  },
  {
   "cell_type": "code",
   "outputs": [],
   "source": [
    "\"\"\"\n",
    "connection = oracledb.connect(\n",
    "        user=\"demopython\",\n",
    "        password=\"\",\n",
    "        dsn=\"localhost/xepdb1\")\n",
    "\n",
    "df.to_sql(\"tabela\", conn)\n",
    "\"\"\""
   ],
   "metadata": {
    "collapsed": false,
    "ExecuteTime": {
     "start_time": "2024-01-05T11:33:45.108192Z"
    }
   },
   "id": "dffdd683395da46b",
   "execution_count": null
  },
  {
   "cell_type": "code",
   "outputs": [],
   "source": [
    "df.to_html(\"teste2.html\", index=False)"
   ],
   "metadata": {
    "collapsed": false,
    "ExecuteTime": {
     "end_time": "2024-01-05T11:33:45.128750Z",
     "start_time": "2024-01-05T11:33:45.110413Z"
    }
   },
   "id": "f20eaba2962fba3a",
   "execution_count": null
  },
  {
   "cell_type": "markdown",
   "source": [
    "pip install wkhtmltopdf\n",
    "pip install pdfkit"
   ],
   "metadata": {
    "collapsed": false
   },
   "id": "baf261e1d5537391"
  },
  {
   "cell_type": "code",
   "outputs": [],
   "source": [
    "# pdfkit.from_file(\"teste2.html\", \"dados.pdf\")"
   ],
   "metadata": {
    "collapsed": false,
    "ExecuteTime": {
     "start_time": "2024-01-05T11:33:45.111834Z"
    }
   },
   "id": "e95d5083cd400d4d",
   "execution_count": null
  },
  {
   "cell_type": "code",
   "outputs": [],
   "source": [
    "# df.to_json(\"teste2.json\",mode=\"a\", orient=\"split\", index=False)"
   ],
   "metadata": {
    "collapsed": false,
    "ExecuteTime": {
     "start_time": "2024-01-05T11:33:45.113146Z"
    }
   },
   "id": "4bfb5394b010cbd6",
   "execution_count": null
  },
  {
   "cell_type": "code",
   "outputs": [],
   "source": [
    "%%sql\n"
   ],
   "metadata": {
    "collapsed": false,
    "SqlCellData": {
     "variableName$1": "df_sql"
    },
    "ExecuteTime": {
     "start_time": "2024-01-05T11:33:45.114518Z"
    }
   },
   "id": "71c5734cf5e0b545"
  },
  {
   "cell_type": "code",
   "outputs": [],
   "source": [
    "df.to_json(\"teste3.json\", mode=\"a\", orient=\"records\")"
   ],
   "metadata": {
    "collapsed": false,
    "ExecuteTime": {
     "start_time": "2024-01-05T11:33:45.115781Z"
    }
   },
   "id": "d87b2208fd48971",
   "execution_count": null
  }
 ],
 "metadata": {
  "kernelspec": {
   "display_name": "Python 3",
   "language": "python",
   "name": "python3"
  },
  "language_info": {
   "codemirror_mode": {
    "name": "ipython",
    "version": 2
   },
   "file_extension": ".py",
   "mimetype": "text/x-python",
   "name": "python",
   "nbconvert_exporter": "python",
   "pygments_lexer": "ipython2",
   "version": "2.7.6"
  }
 },
 "nbformat": 4,
 "nbformat_minor": 5
}
