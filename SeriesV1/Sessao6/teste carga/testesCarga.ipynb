{
 "cells": [
  {
   "cell_type": "code",
   "execution_count": 1,
   "id": "initial_id",
   "metadata": {
    "collapsed": true,
    "ExecuteTime": {
     "end_time": "2024-01-05T12:00:46.209460Z",
     "start_time": "2024-01-05T12:00:45.686647Z"
    }
   },
   "outputs": [],
   "source": [
    "import pandas as pd\n",
    "import sqlite3"
   ]
  },
  {
   "cell_type": "markdown",
   "source": [
    "usar este [dataset](https://www.kaggle.com/datasets/4e614ec846ab778f6a2ff166232d5a65f5e6786b4f5781690588bd2cccd71cb6)"
   ],
   "metadata": {
    "collapsed": false
   },
   "id": "e71238f87c67af18"
  },
  {
   "cell_type": "code",
   "outputs": [],
   "source": [
    "data = pd.read_csv(\"\")"
   ],
   "metadata": {
    "collapsed": false,
    "ExecuteTime": {
     "end_time": "2024-01-05T12:29:04.761903Z",
     "start_time": "2024-01-05T12:28:13.971388Z"
    }
   },
   "id": "33e04cdee0542b93",
   "execution_count": 11
  },
  {
   "cell_type": "code",
   "outputs": [
    {
     "data": {
      "text/plain": "113607321"
     },
     "execution_count": 4,
     "metadata": {},
     "output_type": "execute_result"
    }
   ],
   "source": [
    "data.__len__()"
   ],
   "metadata": {
    "collapsed": false,
    "ExecuteTime": {
     "end_time": "2024-01-05T12:03:19.693657Z",
     "start_time": "2024-01-05T12:03:19.688726Z"
    }
   },
   "id": "9655acd82d87fa3c",
   "execution_count": 4
  },
  {
   "cell_type": "code",
   "outputs": [],
   "source": [
    "data.to_csv(\"teste.csv\")"
   ],
   "metadata": {
    "collapsed": false,
    "ExecuteTime": {
     "end_time": "2024-01-05T12:17:41.346577Z",
     "start_time": "2024-01-05T12:11:42.927603Z"
    }
   },
   "id": "65229339ac4500e5",
   "execution_count": 6
  },
  {
   "cell_type": "code",
   "outputs": [],
   "source": [
    "data2 = pd.read_csv(\"teste.csv\")"
   ],
   "metadata": {
    "collapsed": false,
    "ExecuteTime": {
     "end_time": "2024-01-05T12:21:12.607820Z",
     "start_time": "2024-01-05T12:19:41.359281Z"
    }
   },
   "id": "206ff3f5cea30241",
   "execution_count": 7
  },
  {
   "cell_type": "code",
   "outputs": [
    {
     "data": {
      "text/plain": "   198801  1  103  100  000000190  0  35843  34353\n0  198801  1  103  100  120991000  0   1590   4154\n1  198801  1  103  100  210390900  0   4500   2565\n2  198801  1  103  100  220890200  0   3000    757\n3  198801  1  103  100  240220000  0  26000  40668\n4  198801  1  103  100  250410000  0      5   8070",
      "text/html": "<div>\n<style scoped>\n    .dataframe tbody tr th:only-of-type {\n        vertical-align: middle;\n    }\n\n    .dataframe tbody tr th {\n        vertical-align: top;\n    }\n\n    .dataframe thead th {\n        text-align: right;\n    }\n</style>\n<table border=\"1\" class=\"dataframe\">\n  <thead>\n    <tr style=\"text-align: right;\">\n      <th></th>\n      <th>198801</th>\n      <th>1</th>\n      <th>103</th>\n      <th>100</th>\n      <th>000000190</th>\n      <th>0</th>\n      <th>35843</th>\n      <th>34353</th>\n    </tr>\n  </thead>\n  <tbody>\n    <tr>\n      <th>0</th>\n      <td>198801</td>\n      <td>1</td>\n      <td>103</td>\n      <td>100</td>\n      <td>120991000</td>\n      <td>0</td>\n      <td>1590</td>\n      <td>4154</td>\n    </tr>\n    <tr>\n      <th>1</th>\n      <td>198801</td>\n      <td>1</td>\n      <td>103</td>\n      <td>100</td>\n      <td>210390900</td>\n      <td>0</td>\n      <td>4500</td>\n      <td>2565</td>\n    </tr>\n    <tr>\n      <th>2</th>\n      <td>198801</td>\n      <td>1</td>\n      <td>103</td>\n      <td>100</td>\n      <td>220890200</td>\n      <td>0</td>\n      <td>3000</td>\n      <td>757</td>\n    </tr>\n    <tr>\n      <th>3</th>\n      <td>198801</td>\n      <td>1</td>\n      <td>103</td>\n      <td>100</td>\n      <td>240220000</td>\n      <td>0</td>\n      <td>26000</td>\n      <td>40668</td>\n    </tr>\n    <tr>\n      <th>4</th>\n      <td>198801</td>\n      <td>1</td>\n      <td>103</td>\n      <td>100</td>\n      <td>250410000</td>\n      <td>0</td>\n      <td>5</td>\n      <td>8070</td>\n    </tr>\n  </tbody>\n</table>\n</div>"
     },
     "execution_count": 8,
     "metadata": {},
     "output_type": "execute_result"
    }
   ],
   "source": [
    "data.head()"
   ],
   "metadata": {
    "collapsed": false,
    "ExecuteTime": {
     "end_time": "2024-01-05T12:21:20.769682Z",
     "start_time": "2024-01-05T12:21:20.726234Z"
    }
   },
   "id": "af4da8c974d25019",
   "execution_count": 8
  },
  {
   "cell_type": "code",
   "outputs": [
    {
     "data": {
      "text/plain": "   Unnamed: 0  198801  1  103  100  000000190  0  35843  34353\n0           0  198801  1  103  100  120991000  0   1590   4154\n1           1  198801  1  103  100  210390900  0   4500   2565\n2           2  198801  1  103  100  220890200  0   3000    757\n3           3  198801  1  103  100  240220000  0  26000  40668\n4           4  198801  1  103  100  250410000  0      5   8070",
      "text/html": "<div>\n<style scoped>\n    .dataframe tbody tr th:only-of-type {\n        vertical-align: middle;\n    }\n\n    .dataframe tbody tr th {\n        vertical-align: top;\n    }\n\n    .dataframe thead th {\n        text-align: right;\n    }\n</style>\n<table border=\"1\" class=\"dataframe\">\n  <thead>\n    <tr style=\"text-align: right;\">\n      <th></th>\n      <th>Unnamed: 0</th>\n      <th>198801</th>\n      <th>1</th>\n      <th>103</th>\n      <th>100</th>\n      <th>000000190</th>\n      <th>0</th>\n      <th>35843</th>\n      <th>34353</th>\n    </tr>\n  </thead>\n  <tbody>\n    <tr>\n      <th>0</th>\n      <td>0</td>\n      <td>198801</td>\n      <td>1</td>\n      <td>103</td>\n      <td>100</td>\n      <td>120991000</td>\n      <td>0</td>\n      <td>1590</td>\n      <td>4154</td>\n    </tr>\n    <tr>\n      <th>1</th>\n      <td>1</td>\n      <td>198801</td>\n      <td>1</td>\n      <td>103</td>\n      <td>100</td>\n      <td>210390900</td>\n      <td>0</td>\n      <td>4500</td>\n      <td>2565</td>\n    </tr>\n    <tr>\n      <th>2</th>\n      <td>2</td>\n      <td>198801</td>\n      <td>1</td>\n      <td>103</td>\n      <td>100</td>\n      <td>220890200</td>\n      <td>0</td>\n      <td>3000</td>\n      <td>757</td>\n    </tr>\n    <tr>\n      <th>3</th>\n      <td>3</td>\n      <td>198801</td>\n      <td>1</td>\n      <td>103</td>\n      <td>100</td>\n      <td>240220000</td>\n      <td>0</td>\n      <td>26000</td>\n      <td>40668</td>\n    </tr>\n    <tr>\n      <th>4</th>\n      <td>4</td>\n      <td>198801</td>\n      <td>1</td>\n      <td>103</td>\n      <td>100</td>\n      <td>250410000</td>\n      <td>0</td>\n      <td>5</td>\n      <td>8070</td>\n    </tr>\n  </tbody>\n</table>\n</div>"
     },
     "execution_count": 9,
     "metadata": {},
     "output_type": "execute_result"
    }
   ],
   "source": [
    "data2.head()"
   ],
   "metadata": {
    "collapsed": false,
    "ExecuteTime": {
     "end_time": "2024-01-05T12:21:32.714491Z",
     "start_time": "2024-01-05T12:21:32.708563Z"
    }
   },
   "id": "4d1015e8aabe9355",
   "execution_count": 9
  }
 ],
 "metadata": {
  "kernelspec": {
   "display_name": "Python 3",
   "language": "python",
   "name": "python3"
  },
  "language_info": {
   "codemirror_mode": {
    "name": "ipython",
    "version": 2
   },
   "file_extension": ".py",
   "mimetype": "text/x-python",
   "name": "python",
   "nbconvert_exporter": "python",
   "pygments_lexer": "ipython2",
   "version": "2.7.6"
  }
 },
 "nbformat": 4,
 "nbformat_minor": 5
}
