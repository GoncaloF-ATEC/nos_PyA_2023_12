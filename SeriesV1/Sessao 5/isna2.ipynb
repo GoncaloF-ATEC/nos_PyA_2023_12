{
 "cells": [
  {
   "cell_type": "code",
   "execution_count": 24,
   "id": "initial_id",
   "metadata": {
    "collapsed": true,
    "ExecuteTime": {
     "end_time": "2023-12-29T10:59:29.396460Z",
     "start_time": "2023-12-29T10:59:29.390840Z"
    }
   },
   "outputs": [],
   "source": [
    "import pandas as pd\n",
    "from datetime import date, datetime"
   ]
  },
  {
   "cell_type": "code",
   "outputs": [],
   "source": [
    "df = pd.read_csv(\"UID_ISO_FIPS_LookUp_Table.csv\")"
   ],
   "metadata": {
    "collapsed": false,
    "ExecuteTime": {
     "end_time": "2023-12-29T10:59:30.301243Z",
     "start_time": "2023-12-29T10:59:30.291959Z"
    }
   },
   "id": "f45793f607ec8af9",
   "execution_count": 25
  },
  {
   "cell_type": "code",
   "outputs": [
    {
     "data": {
      "text/plain": "202"
     },
     "execution_count": 26,
     "metadata": {},
     "output_type": "execute_result"
    }
   ],
   "source": [
    "df.Province_State.isna().sum()"
   ],
   "metadata": {
    "collapsed": false,
    "ExecuteTime": {
     "end_time": "2023-12-29T10:59:31.514108Z",
     "start_time": "2023-12-29T10:59:31.510646Z"
    }
   },
   "id": "dd97726b2a7ffb67",
   "execution_count": 26
  },
  {
   "cell_type": "code",
   "outputs": [],
   "source": [
    "df.Province_State = df.Province_State.fillna(\"Unknown\")"
   ],
   "metadata": {
    "collapsed": false,
    "ExecuteTime": {
     "end_time": "2023-12-29T10:58:32.945072Z",
     "start_time": "2023-12-29T10:58:32.926060Z"
    }
   },
   "id": "918dbb4fe051e3fe",
   "execution_count": 21
  },
  {
   "cell_type": "code",
   "outputs": [
    {
     "data": {
      "text/plain": "Province_State\nTexas                257\nUnknown              225\nGeorgia              162\nVirginia             136\nKentucky             123\n                    ... \nMichoacan              1\nMorelos                1\nNayarit                1\nNuevo Leon             1\nVeteran Hospitals      1\nName: count, Length: 746, dtype: int64"
     },
     "execution_count": 23,
     "metadata": {},
     "output_type": "execute_result"
    }
   ],
   "source": [
    "df.Province_State.value_counts()"
   ],
   "metadata": {
    "collapsed": false,
    "ExecuteTime": {
     "end_time": "2023-12-29T10:58:59.276120Z",
     "start_time": "2023-12-29T10:58:59.271935Z"
    }
   },
   "id": "1b10c201272225f9",
   "execution_count": 23
  },
  {
   "cell_type": "code",
   "outputs": [
    {
     "data": {
      "text/plain": "202"
     },
     "execution_count": 27,
     "metadata": {},
     "output_type": "execute_result"
    }
   ],
   "source": [
    "df.Province_State.isna().sum()"
   ],
   "metadata": {
    "collapsed": false,
    "ExecuteTime": {
     "end_time": "2023-12-29T10:59:45.638293Z",
     "start_time": "2023-12-29T10:59:45.633084Z"
    }
   },
   "id": "db963988b36b4dc",
   "execution_count": 27
  },
  {
   "cell_type": "code",
   "outputs": [
    {
     "data": {
      "text/plain": "0"
     },
     "execution_count": 29,
     "metadata": {},
     "output_type": "execute_result"
    }
   ],
   "source": [
    "# df.Province_State = df.Province_State.fillna(\"Unknown\")\n",
    "df.loc[:, \"Province_State\"] = df.loc[:, \"Province_State\"].fillna(\"Unknown\")\n",
    "\n",
    "df.Province_State.isna().sum()"
   ],
   "metadata": {
    "collapsed": false,
    "ExecuteTime": {
     "end_time": "2023-12-29T11:00:40.435372Z",
     "start_time": "2023-12-29T11:00:40.432018Z"
    }
   },
   "id": "15b8de7daf9cfa7b",
   "execution_count": 29
  },
  {
   "cell_type": "markdown",
   "source": [
    "df.loc[30: 80, \"Province_State\"] <- mostra valores dos index 30 a 80 da coll \"Province_State\""
   ],
   "metadata": {
    "collapsed": false
   },
   "id": "55977214e69807ec"
  },
  {
   "cell_type": "code",
   "outputs": [
    {
     "data": {
      "text/plain": "30                Unknown\n31                Unknown\n32                Unknown\n33                Unknown\n34                Unknown\n35                Unknown\n36                   Acre\n37                Alagoas\n38                  Amapa\n39               Amazonas\n40                  Bahia\n41                  Ceara\n42       Distrito Federal\n43         Espirito Santo\n44                  Goias\n45               Maranhao\n46            Mato Grosso\n47     Mato Grosso do Sul\n48           Minas Gerais\n49                   Para\n50                Paraiba\n51                 Parana\n52             Pernambuco\n53                  Piaui\n54         Rio de Janeiro\n55    Rio Grande do Norte\n56      Rio Grande do Sul\n57               Rondonia\n58                Roraima\n59         Santa Catarina\n60              Sao Paulo\n61                Sergipe\n62              Tocantins\n63                Unknown\n64                Unknown\n65                Unknown\n66                Unknown\n67                Unknown\n68                Unknown\n69                Unknown\n70                Unknown\n71                Unknown\n72                Unknown\n73                Unknown\n74                Unknown\n75            Antofagasta\n76              Araucania\n77     Arica y Parinacota\n78                Atacama\n79                  Aysen\n80                 Biobio\nName: Province_State, dtype: object"
     },
     "execution_count": 30,
     "metadata": {},
     "output_type": "execute_result"
    }
   ],
   "source": [
    "df.loc[30: 80, \"Province_State\"] "
   ],
   "metadata": {
    "collapsed": false,
    "ExecuteTime": {
     "end_time": "2023-12-29T11:00:57.423382Z",
     "start_time": "2023-12-29T11:00:57.420055Z"
    }
   },
   "id": "731ec8da6f654447",
   "execution_count": 30
  },
  {
   "cell_type": "code",
   "outputs": [
    {
     "data": {
      "text/plain": "           UID iso2 iso3  code3     FIPS      Admin2 Province_State  \\\n26        5610   BE  BEL   56.0      NaN         NaN        Unknown   \n63        7628   BR  BRA   76.0      NaN         NaN        Unknown   \n91       15217   CL  CHL  152.0      NaN         NaN        Unknown   \n126      17034   CO  COL  170.0      NaN         NaN        Unknown   \n185      27617   DE  DEU  276.0      NaN         NaN        Unknown   \n...        ...  ...  ...    ...      ...         ...            ...   \n1172  84090051   US  USA  840.0  90051.0  Unassigned       Virginia   \n1173  84090053   US  USA  840.0  90053.0  Unassigned     Washington   \n1174  84090054   US  USA  840.0  90054.0  Unassigned  West Virginia   \n1175  84090055   US  USA  840.0  90055.0  Unassigned      Wisconsin   \n1176  84090056   US  USA  840.0  90056.0  Unassigned        Wyoming   \n\n     Country_Region  Lat  Long_                   Combined_Key  Population  \n26          Belgium  NaN    NaN               Unknown, Belgium         NaN  \n63           Brazil  NaN    NaN                Unknown, Brazil         NaN  \n91            Chile  NaN    NaN                 Unknown, Chile         NaN  \n126        Colombia  NaN    NaN              Unknown, Colombia         NaN  \n185         Germany  NaN    NaN               Unknown, Germany         NaN  \n...             ...  ...    ...                            ...         ...  \n1172             US  NaN    NaN       Unassigned, Virginia, US         NaN  \n1173             US  NaN    NaN     Unassigned, Washington, US         NaN  \n1174             US  NaN    NaN  Unassigned, West Virginia, US         NaN  \n1175             US  NaN    NaN      Unassigned, Wisconsin, US         NaN  \n1176             US  NaN    NaN        Unassigned, Wyoming, US         NaN  \n\n[146 rows x 12 columns]",
      "text/html": "<div>\n<style scoped>\n    .dataframe tbody tr th:only-of-type {\n        vertical-align: middle;\n    }\n\n    .dataframe tbody tr th {\n        vertical-align: top;\n    }\n\n    .dataframe thead th {\n        text-align: right;\n    }\n</style>\n<table border=\"1\" class=\"dataframe\">\n  <thead>\n    <tr style=\"text-align: right;\">\n      <th></th>\n      <th>UID</th>\n      <th>iso2</th>\n      <th>iso3</th>\n      <th>code3</th>\n      <th>FIPS</th>\n      <th>Admin2</th>\n      <th>Province_State</th>\n      <th>Country_Region</th>\n      <th>Lat</th>\n      <th>Long_</th>\n      <th>Combined_Key</th>\n      <th>Population</th>\n    </tr>\n  </thead>\n  <tbody>\n    <tr>\n      <th>26</th>\n      <td>5610</td>\n      <td>BE</td>\n      <td>BEL</td>\n      <td>56.0</td>\n      <td>NaN</td>\n      <td>NaN</td>\n      <td>Unknown</td>\n      <td>Belgium</td>\n      <td>NaN</td>\n      <td>NaN</td>\n      <td>Unknown, Belgium</td>\n      <td>NaN</td>\n    </tr>\n    <tr>\n      <th>63</th>\n      <td>7628</td>\n      <td>BR</td>\n      <td>BRA</td>\n      <td>76.0</td>\n      <td>NaN</td>\n      <td>NaN</td>\n      <td>Unknown</td>\n      <td>Brazil</td>\n      <td>NaN</td>\n      <td>NaN</td>\n      <td>Unknown, Brazil</td>\n      <td>NaN</td>\n    </tr>\n    <tr>\n      <th>91</th>\n      <td>15217</td>\n      <td>CL</td>\n      <td>CHL</td>\n      <td>152.0</td>\n      <td>NaN</td>\n      <td>NaN</td>\n      <td>Unknown</td>\n      <td>Chile</td>\n      <td>NaN</td>\n      <td>NaN</td>\n      <td>Unknown, Chile</td>\n      <td>NaN</td>\n    </tr>\n    <tr>\n      <th>126</th>\n      <td>17034</td>\n      <td>CO</td>\n      <td>COL</td>\n      <td>170.0</td>\n      <td>NaN</td>\n      <td>NaN</td>\n      <td>Unknown</td>\n      <td>Colombia</td>\n      <td>NaN</td>\n      <td>NaN</td>\n      <td>Unknown, Colombia</td>\n      <td>NaN</td>\n    </tr>\n    <tr>\n      <th>185</th>\n      <td>27617</td>\n      <td>DE</td>\n      <td>DEU</td>\n      <td>276.0</td>\n      <td>NaN</td>\n      <td>NaN</td>\n      <td>Unknown</td>\n      <td>Germany</td>\n      <td>NaN</td>\n      <td>NaN</td>\n      <td>Unknown, Germany</td>\n      <td>NaN</td>\n    </tr>\n    <tr>\n      <th>...</th>\n      <td>...</td>\n      <td>...</td>\n      <td>...</td>\n      <td>...</td>\n      <td>...</td>\n      <td>...</td>\n      <td>...</td>\n      <td>...</td>\n      <td>...</td>\n      <td>...</td>\n      <td>...</td>\n      <td>...</td>\n    </tr>\n    <tr>\n      <th>1172</th>\n      <td>84090051</td>\n      <td>US</td>\n      <td>USA</td>\n      <td>840.0</td>\n      <td>90051.0</td>\n      <td>Unassigned</td>\n      <td>Virginia</td>\n      <td>US</td>\n      <td>NaN</td>\n      <td>NaN</td>\n      <td>Unassigned, Virginia, US</td>\n      <td>NaN</td>\n    </tr>\n    <tr>\n      <th>1173</th>\n      <td>84090053</td>\n      <td>US</td>\n      <td>USA</td>\n      <td>840.0</td>\n      <td>90053.0</td>\n      <td>Unassigned</td>\n      <td>Washington</td>\n      <td>US</td>\n      <td>NaN</td>\n      <td>NaN</td>\n      <td>Unassigned, Washington, US</td>\n      <td>NaN</td>\n    </tr>\n    <tr>\n      <th>1174</th>\n      <td>84090054</td>\n      <td>US</td>\n      <td>USA</td>\n      <td>840.0</td>\n      <td>90054.0</td>\n      <td>Unassigned</td>\n      <td>West Virginia</td>\n      <td>US</td>\n      <td>NaN</td>\n      <td>NaN</td>\n      <td>Unassigned, West Virginia, US</td>\n      <td>NaN</td>\n    </tr>\n    <tr>\n      <th>1175</th>\n      <td>84090055</td>\n      <td>US</td>\n      <td>USA</td>\n      <td>840.0</td>\n      <td>90055.0</td>\n      <td>Unassigned</td>\n      <td>Wisconsin</td>\n      <td>US</td>\n      <td>NaN</td>\n      <td>NaN</td>\n      <td>Unassigned, Wisconsin, US</td>\n      <td>NaN</td>\n    </tr>\n    <tr>\n      <th>1176</th>\n      <td>84090056</td>\n      <td>US</td>\n      <td>USA</td>\n      <td>840.0</td>\n      <td>90056.0</td>\n      <td>Unassigned</td>\n      <td>Wyoming</td>\n      <td>US</td>\n      <td>NaN</td>\n      <td>NaN</td>\n      <td>Unassigned, Wyoming, US</td>\n      <td>NaN</td>\n    </tr>\n  </tbody>\n</table>\n<p>146 rows × 12 columns</p>\n</div>"
     },
     "execution_count": 32,
     "metadata": {},
     "output_type": "execute_result"
    }
   ],
   "source": [
    "resp = df.query(\"Lat.isnull()\")\n",
    "index = resp.query(\"code3.isnull()\").index\n",
    "\n",
    "\n",
    "resp = resp.drop(index)\n",
    "\n",
    "resp"
   ],
   "metadata": {
    "collapsed": false,
    "ExecuteTime": {
     "end_time": "2023-12-29T11:06:02.044149Z",
     "start_time": "2023-12-29T11:06:02.032316Z"
    }
   },
   "id": "ee34beb10b3057cc",
   "execution_count": 32
  }
 ],
 "metadata": {
  "kernelspec": {
   "display_name": "Python 3",
   "language": "python",
   "name": "python3"
  },
  "language_info": {
   "codemirror_mode": {
    "name": "ipython",
    "version": 2
   },
   "file_extension": ".py",
   "mimetype": "text/x-python",
   "name": "python",
   "nbconvert_exporter": "python",
   "pygments_lexer": "ipython2",
   "version": "2.7.6"
  }
 },
 "nbformat": 4,
 "nbformat_minor": 5
}
