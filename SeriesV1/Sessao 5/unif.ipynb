{
 "cells": [
  {
   "cell_type": "code",
   "execution_count": 1,
   "id": "initial_id",
   "metadata": {
    "collapsed": true,
    "ExecuteTime": {
     "end_time": "2024-01-02T20:41:22.726559Z",
     "start_time": "2024-01-02T20:41:19.096920Z"
    }
   },
   "outputs": [],
   "source": [
    "import pandas as pd\n",
    "import datetime"
   ]
  },
  {
   "cell_type": "code",
   "outputs": [
    {
     "data": {
      "text/plain": "           Date     Network    Upload  Download     Total\n0    2022-12-21  NOS-F368-5   47,7 MB  135,3 MB    183 MB\n1    2022-12-22  NOS-F368-5    259 MB  447,5 MB  706,5 MB\n2    2022-12-23  NOS-F368-5  263,7 MB  552,7 MB  816,4 MB\n3    2022-12-24  NOS-F368-5    275 MB  660,4 MB  935,4 MB\n4    2022-12-25  NOS-F368-5  100,6 MB  193,6 MB  294,2 MB\n..          ...         ...       ...       ...       ...\n346  2023-11-08       Wi-Fi  110,7 MB  262,7 MB  373,3 MB\n347  2023-11-08       Wi-Fi  110,7 MB  262,7 MB  373,3 MB\n348  2023-11-08       Wi-Fi  110,7 MB  262,7 MB  373,3 MB\n349  2023-11-08       Wi-Fi  110,7 MB  262,7 MB  373,3 MB\n350  2023-11-08       Wi-Fi  110,7 MB  262,7 MB  373,3 MB\n\n[351 rows x 5 columns]",
      "text/html": "<div>\n<style scoped>\n    .dataframe tbody tr th:only-of-type {\n        vertical-align: middle;\n    }\n\n    .dataframe tbody tr th {\n        vertical-align: top;\n    }\n\n    .dataframe thead th {\n        text-align: right;\n    }\n</style>\n<table border=\"1\" class=\"dataframe\">\n  <thead>\n    <tr style=\"text-align: right;\">\n      <th></th>\n      <th>Date</th>\n      <th>Network</th>\n      <th>Upload</th>\n      <th>Download</th>\n      <th>Total</th>\n    </tr>\n  </thead>\n  <tbody>\n    <tr>\n      <th>0</th>\n      <td>2022-12-21</td>\n      <td>NOS-F368-5</td>\n      <td>47,7 MB</td>\n      <td>135,3 MB</td>\n      <td>183 MB</td>\n    </tr>\n    <tr>\n      <th>1</th>\n      <td>2022-12-22</td>\n      <td>NOS-F368-5</td>\n      <td>259 MB</td>\n      <td>447,5 MB</td>\n      <td>706,5 MB</td>\n    </tr>\n    <tr>\n      <th>2</th>\n      <td>2022-12-23</td>\n      <td>NOS-F368-5</td>\n      <td>263,7 MB</td>\n      <td>552,7 MB</td>\n      <td>816,4 MB</td>\n    </tr>\n    <tr>\n      <th>3</th>\n      <td>2022-12-24</td>\n      <td>NOS-F368-5</td>\n      <td>275 MB</td>\n      <td>660,4 MB</td>\n      <td>935,4 MB</td>\n    </tr>\n    <tr>\n      <th>4</th>\n      <td>2022-12-25</td>\n      <td>NOS-F368-5</td>\n      <td>100,6 MB</td>\n      <td>193,6 MB</td>\n      <td>294,2 MB</td>\n    </tr>\n    <tr>\n      <th>...</th>\n      <td>...</td>\n      <td>...</td>\n      <td>...</td>\n      <td>...</td>\n      <td>...</td>\n    </tr>\n    <tr>\n      <th>346</th>\n      <td>2023-11-08</td>\n      <td>Wi-Fi</td>\n      <td>110,7 MB</td>\n      <td>262,7 MB</td>\n      <td>373,3 MB</td>\n    </tr>\n    <tr>\n      <th>347</th>\n      <td>2023-11-08</td>\n      <td>Wi-Fi</td>\n      <td>110,7 MB</td>\n      <td>262,7 MB</td>\n      <td>373,3 MB</td>\n    </tr>\n    <tr>\n      <th>348</th>\n      <td>2023-11-08</td>\n      <td>Wi-Fi</td>\n      <td>110,7 MB</td>\n      <td>262,7 MB</td>\n      <td>373,3 MB</td>\n    </tr>\n    <tr>\n      <th>349</th>\n      <td>2023-11-08</td>\n      <td>Wi-Fi</td>\n      <td>110,7 MB</td>\n      <td>262,7 MB</td>\n      <td>373,3 MB</td>\n    </tr>\n    <tr>\n      <th>350</th>\n      <td>2023-11-08</td>\n      <td>Wi-Fi</td>\n      <td>110,7 MB</td>\n      <td>262,7 MB</td>\n      <td>373,3 MB</td>\n    </tr>\n  </tbody>\n</table>\n<p>351 rows × 5 columns</p>\n</div>"
     },
     "execution_count": 2,
     "metadata": {},
     "output_type": "execute_result"
    }
   ],
   "source": [
    "data = pd.read_csv(\"Network.csv\")\n",
    "\n",
    "data"
   ],
   "metadata": {
    "collapsed": false,
    "ExecuteTime": {
     "end_time": "2024-01-02T20:41:22.806168Z",
     "start_time": "2024-01-02T20:41:22.728470Z"
    }
   },
   "id": "c9e1e451b480c968",
   "execution_count": 2
  },
  {
   "cell_type": "code",
   "outputs": [
    {
     "data": {
      "text/plain": "0      False\n1      False\n2      False\n3      False\n4      False\n       ...  \n346    False\n347    False\n348    False\n349    False\n350    False\nName: Total, Length: 351, dtype: bool"
     },
     "execution_count": 3,
     "metadata": {},
     "output_type": "execute_result"
    }
   ],
   "source": [
    "kbs = data.Total.str.contains(\"KB\")\n",
    "\n",
    "kbs"
   ],
   "metadata": {
    "collapsed": false,
    "ExecuteTime": {
     "end_time": "2024-01-02T20:41:22.816145Z",
     "start_time": "2024-01-02T20:41:22.812161Z"
    }
   },
   "id": "833abaeff0b6a229",
   "execution_count": 3
  },
  {
   "cell_type": "code",
   "outputs": [
    {
     "data": {
      "text/plain": "Index([ 54,  59, 110, 125, 138, 144, 162, 192, 203, 244, 255, 258, 260, 265,\n       268, 275, 278],\n      dtype='int64')"
     },
     "execution_count": 4,
     "metadata": {},
     "output_type": "execute_result"
    }
   ],
   "source": [
    "i = data[kbs].index\n",
    "i"
   ],
   "metadata": {
    "collapsed": false,
    "ExecuteTime": {
     "end_time": "2024-01-02T20:41:22.824671Z",
     "start_time": "2024-01-02T20:41:22.820066Z"
    }
   },
   "id": "460c71fa652964c9",
   "execution_count": 4
  },
  {
   "cell_type": "code",
   "outputs": [
    {
     "data": {
      "text/plain": "           Date     Network    Upload  Download     Total\n0    2022-12-21  NOS-F368-5   47,7 MB  135,3 MB    183 MB\n1    2022-12-22  NOS-F368-5    259 MB  447,5 MB  706,5 MB\n2    2022-12-23  NOS-F368-5  263,7 MB  552,7 MB  816,4 MB\n3    2022-12-24  NOS-F368-5    275 MB  660,4 MB  935,4 MB\n4    2022-12-25  NOS-F368-5  100,6 MB  193,6 MB  294,2 MB\n..          ...         ...       ...       ...       ...\n346  2023-11-08       Wi-Fi  110,7 MB  262,7 MB  373,3 MB\n347  2023-11-08       Wi-Fi  110,7 MB  262,7 MB  373,3 MB\n348  2023-11-08       Wi-Fi  110,7 MB  262,7 MB  373,3 MB\n349  2023-11-08       Wi-Fi  110,7 MB  262,7 MB  373,3 MB\n350  2023-11-08       Wi-Fi  110,7 MB  262,7 MB  373,3 MB\n\n[334 rows x 5 columns]",
      "text/html": "<div>\n<style scoped>\n    .dataframe tbody tr th:only-of-type {\n        vertical-align: middle;\n    }\n\n    .dataframe tbody tr th {\n        vertical-align: top;\n    }\n\n    .dataframe thead th {\n        text-align: right;\n    }\n</style>\n<table border=\"1\" class=\"dataframe\">\n  <thead>\n    <tr style=\"text-align: right;\">\n      <th></th>\n      <th>Date</th>\n      <th>Network</th>\n      <th>Upload</th>\n      <th>Download</th>\n      <th>Total</th>\n    </tr>\n  </thead>\n  <tbody>\n    <tr>\n      <th>0</th>\n      <td>2022-12-21</td>\n      <td>NOS-F368-5</td>\n      <td>47,7 MB</td>\n      <td>135,3 MB</td>\n      <td>183 MB</td>\n    </tr>\n    <tr>\n      <th>1</th>\n      <td>2022-12-22</td>\n      <td>NOS-F368-5</td>\n      <td>259 MB</td>\n      <td>447,5 MB</td>\n      <td>706,5 MB</td>\n    </tr>\n    <tr>\n      <th>2</th>\n      <td>2022-12-23</td>\n      <td>NOS-F368-5</td>\n      <td>263,7 MB</td>\n      <td>552,7 MB</td>\n      <td>816,4 MB</td>\n    </tr>\n    <tr>\n      <th>3</th>\n      <td>2022-12-24</td>\n      <td>NOS-F368-5</td>\n      <td>275 MB</td>\n      <td>660,4 MB</td>\n      <td>935,4 MB</td>\n    </tr>\n    <tr>\n      <th>4</th>\n      <td>2022-12-25</td>\n      <td>NOS-F368-5</td>\n      <td>100,6 MB</td>\n      <td>193,6 MB</td>\n      <td>294,2 MB</td>\n    </tr>\n    <tr>\n      <th>...</th>\n      <td>...</td>\n      <td>...</td>\n      <td>...</td>\n      <td>...</td>\n      <td>...</td>\n    </tr>\n    <tr>\n      <th>346</th>\n      <td>2023-11-08</td>\n      <td>Wi-Fi</td>\n      <td>110,7 MB</td>\n      <td>262,7 MB</td>\n      <td>373,3 MB</td>\n    </tr>\n    <tr>\n      <th>347</th>\n      <td>2023-11-08</td>\n      <td>Wi-Fi</td>\n      <td>110,7 MB</td>\n      <td>262,7 MB</td>\n      <td>373,3 MB</td>\n    </tr>\n    <tr>\n      <th>348</th>\n      <td>2023-11-08</td>\n      <td>Wi-Fi</td>\n      <td>110,7 MB</td>\n      <td>262,7 MB</td>\n      <td>373,3 MB</td>\n    </tr>\n    <tr>\n      <th>349</th>\n      <td>2023-11-08</td>\n      <td>Wi-Fi</td>\n      <td>110,7 MB</td>\n      <td>262,7 MB</td>\n      <td>373,3 MB</td>\n    </tr>\n    <tr>\n      <th>350</th>\n      <td>2023-11-08</td>\n      <td>Wi-Fi</td>\n      <td>110,7 MB</td>\n      <td>262,7 MB</td>\n      <td>373,3 MB</td>\n    </tr>\n  </tbody>\n</table>\n<p>334 rows × 5 columns</p>\n</div>"
     },
     "execution_count": 5,
     "metadata": {},
     "output_type": "execute_result"
    }
   ],
   "source": [
    "data.drop(i, inplace=True)\n",
    "\n",
    "data"
   ],
   "metadata": {
    "collapsed": false,
    "ExecuteTime": {
     "end_time": "2024-01-02T20:41:22.864362Z",
     "start_time": "2024-01-02T20:41:22.832681Z"
    }
   },
   "id": "b18572342a4a397d",
   "execution_count": 5
  },
  {
   "cell_type": "markdown",
   "source": [
    "data.drop <- por defeito remove linhas, se for coll tem de ser indicado axis = 1"
   ],
   "metadata": {
    "collapsed": false
   },
   "id": "e6e5defd3c3807ae"
  },
  {
   "cell_type": "code",
   "outputs": [
    {
     "data": {
      "text/plain": "           Date    Upload  Download     Total\n0    2022-12-21   47,7 MB  135,3 MB    183 MB\n1    2022-12-22    259 MB  447,5 MB  706,5 MB\n2    2022-12-23  263,7 MB  552,7 MB  816,4 MB\n3    2022-12-24    275 MB  660,4 MB  935,4 MB\n4    2022-12-25  100,6 MB  193,6 MB  294,2 MB\n..          ...       ...       ...       ...\n346  2023-11-08  110,7 MB  262,7 MB  373,3 MB\n347  2023-11-08  110,7 MB  262,7 MB  373,3 MB\n348  2023-11-08  110,7 MB  262,7 MB  373,3 MB\n349  2023-11-08  110,7 MB  262,7 MB  373,3 MB\n350  2023-11-08  110,7 MB  262,7 MB  373,3 MB\n\n[334 rows x 4 columns]",
      "text/html": "<div>\n<style scoped>\n    .dataframe tbody tr th:only-of-type {\n        vertical-align: middle;\n    }\n\n    .dataframe tbody tr th {\n        vertical-align: top;\n    }\n\n    .dataframe thead th {\n        text-align: right;\n    }\n</style>\n<table border=\"1\" class=\"dataframe\">\n  <thead>\n    <tr style=\"text-align: right;\">\n      <th></th>\n      <th>Date</th>\n      <th>Upload</th>\n      <th>Download</th>\n      <th>Total</th>\n    </tr>\n  </thead>\n  <tbody>\n    <tr>\n      <th>0</th>\n      <td>2022-12-21</td>\n      <td>47,7 MB</td>\n      <td>135,3 MB</td>\n      <td>183 MB</td>\n    </tr>\n    <tr>\n      <th>1</th>\n      <td>2022-12-22</td>\n      <td>259 MB</td>\n      <td>447,5 MB</td>\n      <td>706,5 MB</td>\n    </tr>\n    <tr>\n      <th>2</th>\n      <td>2022-12-23</td>\n      <td>263,7 MB</td>\n      <td>552,7 MB</td>\n      <td>816,4 MB</td>\n    </tr>\n    <tr>\n      <th>3</th>\n      <td>2022-12-24</td>\n      <td>275 MB</td>\n      <td>660,4 MB</td>\n      <td>935,4 MB</td>\n    </tr>\n    <tr>\n      <th>4</th>\n      <td>2022-12-25</td>\n      <td>100,6 MB</td>\n      <td>193,6 MB</td>\n      <td>294,2 MB</td>\n    </tr>\n    <tr>\n      <th>...</th>\n      <td>...</td>\n      <td>...</td>\n      <td>...</td>\n      <td>...</td>\n    </tr>\n    <tr>\n      <th>346</th>\n      <td>2023-11-08</td>\n      <td>110,7 MB</td>\n      <td>262,7 MB</td>\n      <td>373,3 MB</td>\n    </tr>\n    <tr>\n      <th>347</th>\n      <td>2023-11-08</td>\n      <td>110,7 MB</td>\n      <td>262,7 MB</td>\n      <td>373,3 MB</td>\n    </tr>\n    <tr>\n      <th>348</th>\n      <td>2023-11-08</td>\n      <td>110,7 MB</td>\n      <td>262,7 MB</td>\n      <td>373,3 MB</td>\n    </tr>\n    <tr>\n      <th>349</th>\n      <td>2023-11-08</td>\n      <td>110,7 MB</td>\n      <td>262,7 MB</td>\n      <td>373,3 MB</td>\n    </tr>\n    <tr>\n      <th>350</th>\n      <td>2023-11-08</td>\n      <td>110,7 MB</td>\n      <td>262,7 MB</td>\n      <td>373,3 MB</td>\n    </tr>\n  </tbody>\n</table>\n<p>334 rows × 4 columns</p>\n</div>"
     },
     "execution_count": 6,
     "metadata": {},
     "output_type": "execute_result"
    }
   ],
   "source": [
    "data.drop(\"Network\", axis=1, inplace=True)\n",
    "\n",
    "data"
   ],
   "metadata": {
    "collapsed": false,
    "ExecuteTime": {
     "end_time": "2024-01-02T20:41:22.865674Z",
     "start_time": "2024-01-02T20:41:22.836041Z"
    }
   },
   "id": "e8af15c51336e0a9",
   "execution_count": 6
  },
  {
   "cell_type": "code",
   "outputs": [
    {
     "data": {
      "text/plain": "2.0"
     },
     "execution_count": 7,
     "metadata": {},
     "output_type": "execute_result"
    }
   ],
   "source": [
    "\n",
    "\n",
    "def uniform_size(size: str) -> float:\n",
    "    mbToGb = 1024 # 1 GB = 1024 MB\n",
    "    \n",
    "    if type(size) == float:\n",
    "        return size\n",
    "    \n",
    "    if type(size) == int:\n",
    "        return float(size)\n",
    "    \n",
    "    \n",
    "    try:\n",
    "        # separar num da unidade \"47,7 MB\" -> (\"47,7\", \"MB\") ou [\"47,7\", \"MB\"]\n",
    "        sep = size.split(\" \")\n",
    "        \n",
    "        #converter o num para float  \"47,7\" -> 47.7\n",
    "        sep[0] = float(sep[0].replace(\",\",\".\"))\n",
    "        \n",
    "        # #uniformizar o valor, converter tudo para MB\n",
    "        if sep[1].upper() == \"GB\":\n",
    "            res = sep[0] * mbToGb\n",
    "            return res\n",
    "        \n",
    "        #devolver o valor em MB\n",
    "        return sep[0]\n",
    "    except:\n",
    "        return 0\n",
    "    \n",
    "    return 0\n",
    "\n",
    "\n",
    "uniform_size(\"2 Mb\")\n"
   ],
   "metadata": {
    "collapsed": false,
    "ExecuteTime": {
     "end_time": "2024-01-02T20:41:22.894745Z",
     "start_time": "2024-01-02T20:41:22.851646Z"
    }
   },
   "id": "f8b537913c552fc2",
   "execution_count": 7
  },
  {
   "cell_type": "code",
   "outputs": [
    {
     "data": {
      "text/plain": "           Date  Upload  Download  Total\n0    2022-12-21    47.7     135.3  183.0\n1    2022-12-22   259.0     447.5  706.5\n2    2022-12-23   263.7     552.7  816.4\n3    2022-12-24   275.0     660.4  935.4\n4    2022-12-25   100.6     193.6  294.2\n..          ...     ...       ...    ...\n346  2023-11-08   110.7     262.7  373.3\n347  2023-11-08   110.7     262.7  373.3\n348  2023-11-08   110.7     262.7  373.3\n349  2023-11-08   110.7     262.7  373.3\n350  2023-11-08   110.7     262.7  373.3\n\n[334 rows x 4 columns]",
      "text/html": "<div>\n<style scoped>\n    .dataframe tbody tr th:only-of-type {\n        vertical-align: middle;\n    }\n\n    .dataframe tbody tr th {\n        vertical-align: top;\n    }\n\n    .dataframe thead th {\n        text-align: right;\n    }\n</style>\n<table border=\"1\" class=\"dataframe\">\n  <thead>\n    <tr style=\"text-align: right;\">\n      <th></th>\n      <th>Date</th>\n      <th>Upload</th>\n      <th>Download</th>\n      <th>Total</th>\n    </tr>\n  </thead>\n  <tbody>\n    <tr>\n      <th>0</th>\n      <td>2022-12-21</td>\n      <td>47.7</td>\n      <td>135.3</td>\n      <td>183.0</td>\n    </tr>\n    <tr>\n      <th>1</th>\n      <td>2022-12-22</td>\n      <td>259.0</td>\n      <td>447.5</td>\n      <td>706.5</td>\n    </tr>\n    <tr>\n      <th>2</th>\n      <td>2022-12-23</td>\n      <td>263.7</td>\n      <td>552.7</td>\n      <td>816.4</td>\n    </tr>\n    <tr>\n      <th>3</th>\n      <td>2022-12-24</td>\n      <td>275.0</td>\n      <td>660.4</td>\n      <td>935.4</td>\n    </tr>\n    <tr>\n      <th>4</th>\n      <td>2022-12-25</td>\n      <td>100.6</td>\n      <td>193.6</td>\n      <td>294.2</td>\n    </tr>\n    <tr>\n      <th>...</th>\n      <td>...</td>\n      <td>...</td>\n      <td>...</td>\n      <td>...</td>\n    </tr>\n    <tr>\n      <th>346</th>\n      <td>2023-11-08</td>\n      <td>110.7</td>\n      <td>262.7</td>\n      <td>373.3</td>\n    </tr>\n    <tr>\n      <th>347</th>\n      <td>2023-11-08</td>\n      <td>110.7</td>\n      <td>262.7</td>\n      <td>373.3</td>\n    </tr>\n    <tr>\n      <th>348</th>\n      <td>2023-11-08</td>\n      <td>110.7</td>\n      <td>262.7</td>\n      <td>373.3</td>\n    </tr>\n    <tr>\n      <th>349</th>\n      <td>2023-11-08</td>\n      <td>110.7</td>\n      <td>262.7</td>\n      <td>373.3</td>\n    </tr>\n    <tr>\n      <th>350</th>\n      <td>2023-11-08</td>\n      <td>110.7</td>\n      <td>262.7</td>\n      <td>373.3</td>\n    </tr>\n  </tbody>\n</table>\n<p>334 rows × 4 columns</p>\n</div>"
     },
     "execution_count": 8,
     "metadata": {},
     "output_type": "execute_result"
    }
   ],
   "source": [
    "data.Upload = data.apply(lambda x: uniform_size(x.Upload), axis = 1)\n",
    "data.Download = data.apply(lambda x: uniform_size(x.Download), axis = 1)\n",
    "data.Total = data.apply(lambda x: uniform_size(x.Total), axis = 1)\n",
    "\n",
    "data"
   ],
   "metadata": {
    "collapsed": false,
    "ExecuteTime": {
     "end_time": "2024-01-02T20:41:22.971195Z",
     "start_time": "2024-01-02T20:41:22.854816Z"
    }
   },
   "id": "fc498dc902a59ac6",
   "execution_count": 8
  },
  {
   "cell_type": "code",
   "outputs": [
    {
     "data": {
      "text/plain": "Date\n2023-11-08    8\n2023-01-04    2\n2023-09-23    2\n2023-09-22    2\n2023-04-25    2\n             ..\n2023-04-11    1\n2023-04-10    1\n2023-04-09    1\n2023-04-08    1\n2023-05-29    1\nName: count, Length: 313, dtype: int64"
     },
     "execution_count": 9,
     "metadata": {},
     "output_type": "execute_result"
    }
   ],
   "source": [
    "data.Date.value_counts()"
   ],
   "metadata": {
    "collapsed": false,
    "ExecuteTime": {
     "end_time": "2024-01-02T20:41:22.972206Z",
     "start_time": "2024-01-02T20:41:22.878392Z"
    }
   },
   "id": "bdadc1a46a315fe5",
   "execution_count": 9
  },
  {
   "cell_type": "code",
   "outputs": [
    {
     "data": {
      "text/plain": "            Upload  Download    Total\nDate                                 \n2022-12-21    47.7    135.30   183.00\n2022-12-22   259.0    447.50   706.50\n2022-12-23   263.7    552.70   816.40\n2022-12-24   275.0    660.40   935.40\n2022-12-25   100.6    193.60   294.20\n...            ...       ...      ...\n2023-11-04   180.4    826.40  1034.24\n2023-11-05   441.5   3645.44  4096.00\n2023-11-06   949.8   6297.60  7270.40\n2023-11-07   754.0   1331.20  2109.44\n2023-11-08   885.6   2101.60  2986.40\n\n[313 rows x 3 columns]",
      "text/html": "<div>\n<style scoped>\n    .dataframe tbody tr th:only-of-type {\n        vertical-align: middle;\n    }\n\n    .dataframe tbody tr th {\n        vertical-align: top;\n    }\n\n    .dataframe thead th {\n        text-align: right;\n    }\n</style>\n<table border=\"1\" class=\"dataframe\">\n  <thead>\n    <tr style=\"text-align: right;\">\n      <th></th>\n      <th>Upload</th>\n      <th>Download</th>\n      <th>Total</th>\n    </tr>\n    <tr>\n      <th>Date</th>\n      <th></th>\n      <th></th>\n      <th></th>\n    </tr>\n  </thead>\n  <tbody>\n    <tr>\n      <th>2022-12-21</th>\n      <td>47.7</td>\n      <td>135.30</td>\n      <td>183.00</td>\n    </tr>\n    <tr>\n      <th>2022-12-22</th>\n      <td>259.0</td>\n      <td>447.50</td>\n      <td>706.50</td>\n    </tr>\n    <tr>\n      <th>2022-12-23</th>\n      <td>263.7</td>\n      <td>552.70</td>\n      <td>816.40</td>\n    </tr>\n    <tr>\n      <th>2022-12-24</th>\n      <td>275.0</td>\n      <td>660.40</td>\n      <td>935.40</td>\n    </tr>\n    <tr>\n      <th>2022-12-25</th>\n      <td>100.6</td>\n      <td>193.60</td>\n      <td>294.20</td>\n    </tr>\n    <tr>\n      <th>...</th>\n      <td>...</td>\n      <td>...</td>\n      <td>...</td>\n    </tr>\n    <tr>\n      <th>2023-11-04</th>\n      <td>180.4</td>\n      <td>826.40</td>\n      <td>1034.24</td>\n    </tr>\n    <tr>\n      <th>2023-11-05</th>\n      <td>441.5</td>\n      <td>3645.44</td>\n      <td>4096.00</td>\n    </tr>\n    <tr>\n      <th>2023-11-06</th>\n      <td>949.8</td>\n      <td>6297.60</td>\n      <td>7270.40</td>\n    </tr>\n    <tr>\n      <th>2023-11-07</th>\n      <td>754.0</td>\n      <td>1331.20</td>\n      <td>2109.44</td>\n    </tr>\n    <tr>\n      <th>2023-11-08</th>\n      <td>885.6</td>\n      <td>2101.60</td>\n      <td>2986.40</td>\n    </tr>\n  </tbody>\n</table>\n<p>313 rows × 3 columns</p>\n</div>"
     },
     "execution_count": 10,
     "metadata": {},
     "output_type": "execute_result"
    }
   ],
   "source": [
    "data = data.groupby(\"Date\").sum()\n",
    "data"
   ],
   "metadata": {
    "collapsed": false,
    "ExecuteTime": {
     "end_time": "2024-01-02T20:41:22.974032Z",
     "start_time": "2024-01-02T20:41:22.888488Z"
    }
   },
   "id": "65beaed9ac26f593",
   "execution_count": 10
  },
  {
   "cell_type": "code",
   "outputs": [
    {
     "data": {
      "text/plain": "str"
     },
     "execution_count": 11,
     "metadata": {},
     "output_type": "execute_result"
    }
   ],
   "source": [
    "type(data.index[0])"
   ],
   "metadata": {
    "collapsed": false,
    "ExecuteTime": {
     "end_time": "2024-01-02T20:41:23.004687Z",
     "start_time": "2024-01-02T20:41:22.898238Z"
    }
   },
   "id": "f44ccb21cc77ddcc",
   "execution_count": 11
  },
  {
   "cell_type": "code",
   "outputs": [],
   "source": [
    "def strToDate(date_str:str):\n",
    "    split_date = date_str.split(\"-\")\n",
    "    myDate = datetime.date(int(split_date[0]), int(split_date[1]), int(split_date[2]))\n",
    "    myDate.strftime(\"%d%m%Y\")\n",
    "    return myDate.strftime(\"%d %b %Y\")"
   ],
   "metadata": {
    "collapsed": false,
    "ExecuteTime": {
     "end_time": "2024-01-02T20:41:23.005785Z",
     "start_time": "2024-01-02T20:41:22.905543Z"
    }
   },
   "id": "8b6d5ffb5fc381b6",
   "execution_count": 12
  },
  {
   "cell_type": "code",
   "outputs": [
    {
     "data": {
      "text/plain": "             Upload  Download    Total\nDate                                  \n21 Dec 2022    47.7    135.30   183.00\n22 Dec 2022   259.0    447.50   706.50\n23 Dec 2022   263.7    552.70   816.40\n24 Dec 2022   275.0    660.40   935.40\n25 Dec 2022   100.6    193.60   294.20\n...             ...       ...      ...\n04 Nov 2023   180.4    826.40  1034.24\n05 Nov 2023   441.5   3645.44  4096.00\n06 Nov 2023   949.8   6297.60  7270.40\n07 Nov 2023   754.0   1331.20  2109.44\n08 Nov 2023   885.6   2101.60  2986.40\n\n[313 rows x 3 columns]",
      "text/html": "<div>\n<style scoped>\n    .dataframe tbody tr th:only-of-type {\n        vertical-align: middle;\n    }\n\n    .dataframe tbody tr th {\n        vertical-align: top;\n    }\n\n    .dataframe thead th {\n        text-align: right;\n    }\n</style>\n<table border=\"1\" class=\"dataframe\">\n  <thead>\n    <tr style=\"text-align: right;\">\n      <th></th>\n      <th>Upload</th>\n      <th>Download</th>\n      <th>Total</th>\n    </tr>\n    <tr>\n      <th>Date</th>\n      <th></th>\n      <th></th>\n      <th></th>\n    </tr>\n  </thead>\n  <tbody>\n    <tr>\n      <th>21 Dec 2022</th>\n      <td>47.7</td>\n      <td>135.30</td>\n      <td>183.00</td>\n    </tr>\n    <tr>\n      <th>22 Dec 2022</th>\n      <td>259.0</td>\n      <td>447.50</td>\n      <td>706.50</td>\n    </tr>\n    <tr>\n      <th>23 Dec 2022</th>\n      <td>263.7</td>\n      <td>552.70</td>\n      <td>816.40</td>\n    </tr>\n    <tr>\n      <th>24 Dec 2022</th>\n      <td>275.0</td>\n      <td>660.40</td>\n      <td>935.40</td>\n    </tr>\n    <tr>\n      <th>25 Dec 2022</th>\n      <td>100.6</td>\n      <td>193.60</td>\n      <td>294.20</td>\n    </tr>\n    <tr>\n      <th>...</th>\n      <td>...</td>\n      <td>...</td>\n      <td>...</td>\n    </tr>\n    <tr>\n      <th>04 Nov 2023</th>\n      <td>180.4</td>\n      <td>826.40</td>\n      <td>1034.24</td>\n    </tr>\n    <tr>\n      <th>05 Nov 2023</th>\n      <td>441.5</td>\n      <td>3645.44</td>\n      <td>4096.00</td>\n    </tr>\n    <tr>\n      <th>06 Nov 2023</th>\n      <td>949.8</td>\n      <td>6297.60</td>\n      <td>7270.40</td>\n    </tr>\n    <tr>\n      <th>07 Nov 2023</th>\n      <td>754.0</td>\n      <td>1331.20</td>\n      <td>2109.44</td>\n    </tr>\n    <tr>\n      <th>08 Nov 2023</th>\n      <td>885.6</td>\n      <td>2101.60</td>\n      <td>2986.40</td>\n    </tr>\n  </tbody>\n</table>\n<p>313 rows × 3 columns</p>\n</div>"
     },
     "execution_count": 13,
     "metadata": {},
     "output_type": "execute_result"
    }
   ],
   "source": [
    "data.index = data.index.map(lambda x: strToDate(x))\n",
    "data"
   ],
   "metadata": {
    "collapsed": false,
    "ExecuteTime": {
     "end_time": "2024-01-02T20:41:23.008135Z",
     "start_time": "2024-01-02T20:41:22.916586Z"
    }
   },
   "id": "a7f38bdfa28f7e49",
   "execution_count": 13
  },
  {
   "cell_type": "code",
   "outputs": [
    {
     "data": {
      "text/plain": "str"
     },
     "execution_count": 14,
     "metadata": {},
     "output_type": "execute_result"
    }
   ],
   "source": [
    "type(data.index[0])"
   ],
   "metadata": {
    "collapsed": false,
    "ExecuteTime": {
     "end_time": "2024-01-02T20:41:23.008842Z",
     "start_time": "2024-01-02T20:41:22.924602Z"
    }
   },
   "id": "8c41e4f084ee9b4d",
   "execution_count": 14
  },
  {
   "cell_type": "code",
   "outputs": [
    {
     "data": {
      "text/plain": "40.0"
     },
     "execution_count": 15,
     "metadata": {},
     "output_type": "execute_result"
    }
   ],
   "source": [
    "def calc_precentagem(valor, total):\n",
    "    return (valor * 100) / total\n",
    "\n",
    "calc_precentagem(40, 100)"
   ],
   "metadata": {
    "collapsed": false,
    "ExecuteTime": {
     "end_time": "2024-01-02T20:41:23.009624Z",
     "start_time": "2024-01-02T20:41:22.927519Z"
    }
   },
   "id": "e6a4fd3e6035b7e3",
   "execution_count": 15
  },
  {
   "cell_type": "code",
   "outputs": [],
   "source": [
    "data.Total = data.apply(lambda x: x.Upload + x.Download, axis=1)"
   ],
   "metadata": {
    "collapsed": false,
    "ExecuteTime": {
     "end_time": "2024-01-02T20:41:23.026248Z",
     "start_time": "2024-01-02T20:41:22.932018Z"
    }
   },
   "id": "9a85e43bc303a3e0",
   "execution_count": 16
  },
  {
   "cell_type": "code",
   "outputs": [
    {
     "data": {
      "text/plain": "             Upload  Download    Total  Upload_Percentage  Download_Percentage\nDate                                                                          \n21 Dec 2022    47.7    135.30   183.00          26.065574            73.934426\n22 Dec 2022   259.0    447.50   706.50          36.659590            63.340410\n23 Dec 2022   263.7    552.70   816.40          32.300343            67.699657\n24 Dec 2022   275.0    660.40   935.40          29.399188            70.600812\n25 Dec 2022   100.6    193.60   294.20          34.194426            65.805574\n...             ...       ...      ...                ...                  ...\n04 Nov 2023   180.4    826.40  1006.80          17.918157            82.081843\n05 Nov 2023   441.5   3645.44  4086.94          10.802703            89.197297\n06 Nov 2023   949.8   6297.60  7247.40          13.105390            86.894610\n07 Nov 2023   754.0   1331.20  2085.20          36.159601            63.840399\n08 Nov 2023   885.6   2101.60  2987.20          29.646492            70.353508\n\n[313 rows x 5 columns]",
      "text/html": "<div>\n<style scoped>\n    .dataframe tbody tr th:only-of-type {\n        vertical-align: middle;\n    }\n\n    .dataframe tbody tr th {\n        vertical-align: top;\n    }\n\n    .dataframe thead th {\n        text-align: right;\n    }\n</style>\n<table border=\"1\" class=\"dataframe\">\n  <thead>\n    <tr style=\"text-align: right;\">\n      <th></th>\n      <th>Upload</th>\n      <th>Download</th>\n      <th>Total</th>\n      <th>Upload_Percentage</th>\n      <th>Download_Percentage</th>\n    </tr>\n    <tr>\n      <th>Date</th>\n      <th></th>\n      <th></th>\n      <th></th>\n      <th></th>\n      <th></th>\n    </tr>\n  </thead>\n  <tbody>\n    <tr>\n      <th>21 Dec 2022</th>\n      <td>47.7</td>\n      <td>135.30</td>\n      <td>183.00</td>\n      <td>26.065574</td>\n      <td>73.934426</td>\n    </tr>\n    <tr>\n      <th>22 Dec 2022</th>\n      <td>259.0</td>\n      <td>447.50</td>\n      <td>706.50</td>\n      <td>36.659590</td>\n      <td>63.340410</td>\n    </tr>\n    <tr>\n      <th>23 Dec 2022</th>\n      <td>263.7</td>\n      <td>552.70</td>\n      <td>816.40</td>\n      <td>32.300343</td>\n      <td>67.699657</td>\n    </tr>\n    <tr>\n      <th>24 Dec 2022</th>\n      <td>275.0</td>\n      <td>660.40</td>\n      <td>935.40</td>\n      <td>29.399188</td>\n      <td>70.600812</td>\n    </tr>\n    <tr>\n      <th>25 Dec 2022</th>\n      <td>100.6</td>\n      <td>193.60</td>\n      <td>294.20</td>\n      <td>34.194426</td>\n      <td>65.805574</td>\n    </tr>\n    <tr>\n      <th>...</th>\n      <td>...</td>\n      <td>...</td>\n      <td>...</td>\n      <td>...</td>\n      <td>...</td>\n    </tr>\n    <tr>\n      <th>04 Nov 2023</th>\n      <td>180.4</td>\n      <td>826.40</td>\n      <td>1006.80</td>\n      <td>17.918157</td>\n      <td>82.081843</td>\n    </tr>\n    <tr>\n      <th>05 Nov 2023</th>\n      <td>441.5</td>\n      <td>3645.44</td>\n      <td>4086.94</td>\n      <td>10.802703</td>\n      <td>89.197297</td>\n    </tr>\n    <tr>\n      <th>06 Nov 2023</th>\n      <td>949.8</td>\n      <td>6297.60</td>\n      <td>7247.40</td>\n      <td>13.105390</td>\n      <td>86.894610</td>\n    </tr>\n    <tr>\n      <th>07 Nov 2023</th>\n      <td>754.0</td>\n      <td>1331.20</td>\n      <td>2085.20</td>\n      <td>36.159601</td>\n      <td>63.840399</td>\n    </tr>\n    <tr>\n      <th>08 Nov 2023</th>\n      <td>885.6</td>\n      <td>2101.60</td>\n      <td>2987.20</td>\n      <td>29.646492</td>\n      <td>70.353508</td>\n    </tr>\n  </tbody>\n</table>\n<p>313 rows × 5 columns</p>\n</div>"
     },
     "execution_count": 17,
     "metadata": {},
     "output_type": "execute_result"
    }
   ],
   "source": [
    "data = data.assign(Upload_Percentage=  lambda x: calc_precentagem(x.Upload, x.Total))\n",
    "data = data.assign(Download_Percentage=  lambda x: calc_precentagem(x.Download, x.Total))\n",
    "\n",
    "data"
   ],
   "metadata": {
    "collapsed": false,
    "ExecuteTime": {
     "end_time": "2024-01-02T20:41:23.035307Z",
     "start_time": "2024-01-02T20:41:22.942592Z"
    }
   },
   "id": "8091aa5ec3dc2877",
   "execution_count": 17
  },
  {
   "cell_type": "code",
   "outputs": [],
   "source": [
    "data = data.assign(total_precentagem=  lambda x: x.Download_Percentage + x.Upload_Percentage)"
   ],
   "metadata": {
    "collapsed": false,
    "ExecuteTime": {
     "end_time": "2024-01-02T20:41:23.036686Z",
     "start_time": "2024-01-02T20:41:22.952880Z"
    }
   },
   "id": "debc51e62e172c1c",
   "execution_count": 18
  },
  {
   "cell_type": "code",
   "outputs": [
    {
     "data": {
      "text/plain": "             Upload  Download    Total  Upload_Percentage  \\\nDate                                                        \n21 Dec 2022    47.7    135.30   183.00          26.065574   \n22 Dec 2022   259.0    447.50   706.50          36.659590   \n23 Dec 2022   263.7    552.70   816.40          32.300343   \n24 Dec 2022   275.0    660.40   935.40          29.399188   \n25 Dec 2022   100.6    193.60   294.20          34.194426   \n...             ...       ...      ...                ...   \n04 Nov 2023   180.4    826.40  1006.80          17.918157   \n05 Nov 2023   441.5   3645.44  4086.94          10.802703   \n06 Nov 2023   949.8   6297.60  7247.40          13.105390   \n07 Nov 2023   754.0   1331.20  2085.20          36.159601   \n08 Nov 2023   885.6   2101.60  2987.20          29.646492   \n\n             Download_Percentage  total_precentagem  \nDate                                                 \n21 Dec 2022            73.934426              100.0  \n22 Dec 2022            63.340410              100.0  \n23 Dec 2022            67.699657              100.0  \n24 Dec 2022            70.600812              100.0  \n25 Dec 2022            65.805574              100.0  \n...                          ...                ...  \n04 Nov 2023            82.081843              100.0  \n05 Nov 2023            89.197297              100.0  \n06 Nov 2023            86.894610              100.0  \n07 Nov 2023            63.840399              100.0  \n08 Nov 2023            70.353508              100.0  \n\n[313 rows x 6 columns]",
      "text/html": "<div>\n<style scoped>\n    .dataframe tbody tr th:only-of-type {\n        vertical-align: middle;\n    }\n\n    .dataframe tbody tr th {\n        vertical-align: top;\n    }\n\n    .dataframe thead th {\n        text-align: right;\n    }\n</style>\n<table border=\"1\" class=\"dataframe\">\n  <thead>\n    <tr style=\"text-align: right;\">\n      <th></th>\n      <th>Upload</th>\n      <th>Download</th>\n      <th>Total</th>\n      <th>Upload_Percentage</th>\n      <th>Download_Percentage</th>\n      <th>total_precentagem</th>\n    </tr>\n    <tr>\n      <th>Date</th>\n      <th></th>\n      <th></th>\n      <th></th>\n      <th></th>\n      <th></th>\n      <th></th>\n    </tr>\n  </thead>\n  <tbody>\n    <tr>\n      <th>21 Dec 2022</th>\n      <td>47.7</td>\n      <td>135.30</td>\n      <td>183.00</td>\n      <td>26.065574</td>\n      <td>73.934426</td>\n      <td>100.0</td>\n    </tr>\n    <tr>\n      <th>22 Dec 2022</th>\n      <td>259.0</td>\n      <td>447.50</td>\n      <td>706.50</td>\n      <td>36.659590</td>\n      <td>63.340410</td>\n      <td>100.0</td>\n    </tr>\n    <tr>\n      <th>23 Dec 2022</th>\n      <td>263.7</td>\n      <td>552.70</td>\n      <td>816.40</td>\n      <td>32.300343</td>\n      <td>67.699657</td>\n      <td>100.0</td>\n    </tr>\n    <tr>\n      <th>24 Dec 2022</th>\n      <td>275.0</td>\n      <td>660.40</td>\n      <td>935.40</td>\n      <td>29.399188</td>\n      <td>70.600812</td>\n      <td>100.0</td>\n    </tr>\n    <tr>\n      <th>25 Dec 2022</th>\n      <td>100.6</td>\n      <td>193.60</td>\n      <td>294.20</td>\n      <td>34.194426</td>\n      <td>65.805574</td>\n      <td>100.0</td>\n    </tr>\n    <tr>\n      <th>...</th>\n      <td>...</td>\n      <td>...</td>\n      <td>...</td>\n      <td>...</td>\n      <td>...</td>\n      <td>...</td>\n    </tr>\n    <tr>\n      <th>04 Nov 2023</th>\n      <td>180.4</td>\n      <td>826.40</td>\n      <td>1006.80</td>\n      <td>17.918157</td>\n      <td>82.081843</td>\n      <td>100.0</td>\n    </tr>\n    <tr>\n      <th>05 Nov 2023</th>\n      <td>441.5</td>\n      <td>3645.44</td>\n      <td>4086.94</td>\n      <td>10.802703</td>\n      <td>89.197297</td>\n      <td>100.0</td>\n    </tr>\n    <tr>\n      <th>06 Nov 2023</th>\n      <td>949.8</td>\n      <td>6297.60</td>\n      <td>7247.40</td>\n      <td>13.105390</td>\n      <td>86.894610</td>\n      <td>100.0</td>\n    </tr>\n    <tr>\n      <th>07 Nov 2023</th>\n      <td>754.0</td>\n      <td>1331.20</td>\n      <td>2085.20</td>\n      <td>36.159601</td>\n      <td>63.840399</td>\n      <td>100.0</td>\n    </tr>\n    <tr>\n      <th>08 Nov 2023</th>\n      <td>885.6</td>\n      <td>2101.60</td>\n      <td>2987.20</td>\n      <td>29.646492</td>\n      <td>70.353508</td>\n      <td>100.0</td>\n    </tr>\n  </tbody>\n</table>\n<p>313 rows × 6 columns</p>\n</div>"
     },
     "execution_count": 19,
     "metadata": {},
     "output_type": "execute_result"
    }
   ],
   "source": [
    "data"
   ],
   "metadata": {
    "collapsed": false,
    "ExecuteTime": {
     "end_time": "2024-01-02T20:41:23.054467Z",
     "start_time": "2024-01-02T20:41:22.959214Z"
    }
   },
   "id": "e5cc3d0301a7121e",
   "execution_count": 19
  },
  {
   "cell_type": "code",
   "outputs": [
    {
     "data": {
      "text/plain": "datetime.datetime(2010, 12, 10, 0, 0)"
     },
     "execution_count": 20,
     "metadata": {},
     "output_type": "execute_result"
    }
   ],
   "source": [
    "\"\"\"\n",
    "DD-MM-AAAA\n",
    "DD/MM/AAAA\n",
    "DD.MM.AAAA\n",
    "\n",
    "\n",
    "\"\"\"\n",
    "\n",
    "date_int = \"2010Dec10\"\n",
    "date_obj = datetime.datetime.strptime(date_int, '%Y%b%d')\n",
    "\n",
    "date_obj"
   ],
   "metadata": {
    "collapsed": false,
    "ExecuteTime": {
     "end_time": "2024-01-02T20:41:23.057539Z",
     "start_time": "2024-01-02T20:41:22.968960Z"
    }
   },
   "id": "1841e01ab5c5bfd2",
   "execution_count": 20
  },
  {
   "cell_type": "code",
   "outputs": [],
   "source": [],
   "metadata": {
    "collapsed": false,
    "ExecuteTime": {
     "end_time": "2024-01-02T20:41:23.058066Z",
     "start_time": "2024-01-02T20:41:22.974557Z"
    }
   },
   "id": "ca398a2467e1f7ee",
   "execution_count": 20
  }
 ],
 "metadata": {
  "kernelspec": {
   "display_name": "Python 3",
   "language": "python",
   "name": "python3"
  },
  "language_info": {
   "codemirror_mode": {
    "name": "ipython",
    "version": 2
   },
   "file_extension": ".py",
   "mimetype": "text/x-python",
   "name": "python",
   "nbconvert_exporter": "python",
   "pygments_lexer": "ipython2",
   "version": "2.7.6"
  }
 },
 "nbformat": 4,
 "nbformat_minor": 5
}
