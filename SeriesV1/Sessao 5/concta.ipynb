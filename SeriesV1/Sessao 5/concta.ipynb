{
 "cells": [
  {
   "cell_type": "code",
   "execution_count": 29,
   "id": "initial_id",
   "metadata": {
    "collapsed": true,
    "ExecuteTime": {
     "end_time": "2023-12-29T09:56:47.207659Z",
     "start_time": "2023-12-29T09:56:47.203426Z"
    }
   },
   "outputs": [],
   "source": [
    "import pandas as pd\n",
    "from datetime import date, datetime"
   ]
  },
  {
   "cell_type": "code",
   "outputs": [
    {
     "data": {
      "text/plain": "'2.0.3'"
     },
     "execution_count": 8,
     "metadata": {},
     "output_type": "execute_result"
    }
   ],
   "source": [
    "pd.__version__"
   ],
   "metadata": {
    "collapsed": false,
    "ExecuteTime": {
     "end_time": "2023-12-29T09:43:46.184085Z",
     "start_time": "2023-12-29T09:43:46.178860Z"
    }
   },
   "id": "a7758662a0d7bff1",
   "execution_count": 8
  },
  {
   "cell_type": "code",
   "outputs": [
    {
     "data": {
      "text/plain": "     Nome  nota\nv1   Joao    20\nV2  Maria    10\nV2   Rita    14",
      "text/html": "<div>\n<style scoped>\n    .dataframe tbody tr th:only-of-type {\n        vertical-align: middle;\n    }\n\n    .dataframe tbody tr th {\n        vertical-align: top;\n    }\n\n    .dataframe thead th {\n        text-align: right;\n    }\n</style>\n<table border=\"1\" class=\"dataframe\">\n  <thead>\n    <tr style=\"text-align: right;\">\n      <th></th>\n      <th>Nome</th>\n      <th>nota</th>\n    </tr>\n  </thead>\n  <tbody>\n    <tr>\n      <th>v1</th>\n      <td>Joao</td>\n      <td>20</td>\n    </tr>\n    <tr>\n      <th>V2</th>\n      <td>Maria</td>\n      <td>10</td>\n    </tr>\n    <tr>\n      <th>V2</th>\n      <td>Rita</td>\n      <td>14</td>\n    </tr>\n  </tbody>\n</table>\n</div>"
     },
     "execution_count": 17,
     "metadata": {},
     "output_type": "execute_result"
    }
   ],
   "source": [
    "dict = {\"Nome\":[\"Joao\", \"Maria\", \"Rita\"], \"nota\":[20,10,14]}\n",
    "\n",
    "df = pd.DataFrame(dict, index= [\"v1\", \"V2\", \"V2\"])\n",
    "\n",
    "#df = pd.DataFrame(dict)\n",
    "df"
   ],
   "metadata": {
    "collapsed": false,
    "ExecuteTime": {
     "end_time": "2023-12-29T09:48:51.747388Z",
     "start_time": "2023-12-29T09:48:51.741040Z"
    }
   },
   "id": "d66bc549a00e8bb3",
   "execution_count": 17
  },
  {
   "cell_type": "code",
   "outputs": [
    {
     "data": {
      "text/plain": "    Nome  nota  nota2\n0    Rui    20     20\n1  Pedro    20     20",
      "text/html": "<div>\n<style scoped>\n    .dataframe tbody tr th:only-of-type {\n        vertical-align: middle;\n    }\n\n    .dataframe tbody tr th {\n        vertical-align: top;\n    }\n\n    .dataframe thead th {\n        text-align: right;\n    }\n</style>\n<table border=\"1\" class=\"dataframe\">\n  <thead>\n    <tr style=\"text-align: right;\">\n      <th></th>\n      <th>Nome</th>\n      <th>nota</th>\n      <th>nota2</th>\n    </tr>\n  </thead>\n  <tbody>\n    <tr>\n      <th>0</th>\n      <td>Rui</td>\n      <td>20</td>\n      <td>20</td>\n    </tr>\n    <tr>\n      <th>1</th>\n      <td>Pedro</td>\n      <td>20</td>\n      <td>20</td>\n    </tr>\n  </tbody>\n</table>\n</div>"
     },
     "execution_count": 18,
     "metadata": {},
     "output_type": "execute_result"
    }
   ],
   "source": [
    "nova_nota = {\"Nome\":[\"Rui\", \"Pedro\"], \"nota\":[20,20], \"nota2\":[20,20]}\n",
    "\n",
    "df2 = pd.DataFrame(nova_nota)\n",
    "\n",
    "df2"
   ],
   "metadata": {
    "collapsed": false,
    "ExecuteTime": {
     "end_time": "2023-12-29T09:49:05.461944Z",
     "start_time": "2023-12-29T09:49:05.452383Z"
    }
   },
   "id": "3c0a3477f3b98193",
   "execution_count": 18
  },
  {
   "cell_type": "code",
   "outputs": [
    {
     "data": {
      "text/plain": "     Nome  nota  nota2\nv1   Joao    20    NaN\nV2  Maria    10    NaN\nV2   Rita    14    NaN\n0     Rui    20   20.0\n1   Pedro    20   20.0",
      "text/html": "<div>\n<style scoped>\n    .dataframe tbody tr th:only-of-type {\n        vertical-align: middle;\n    }\n\n    .dataframe tbody tr th {\n        vertical-align: top;\n    }\n\n    .dataframe thead th {\n        text-align: right;\n    }\n</style>\n<table border=\"1\" class=\"dataframe\">\n  <thead>\n    <tr style=\"text-align: right;\">\n      <th></th>\n      <th>Nome</th>\n      <th>nota</th>\n      <th>nota2</th>\n    </tr>\n  </thead>\n  <tbody>\n    <tr>\n      <th>v1</th>\n      <td>Joao</td>\n      <td>20</td>\n      <td>NaN</td>\n    </tr>\n    <tr>\n      <th>V2</th>\n      <td>Maria</td>\n      <td>10</td>\n      <td>NaN</td>\n    </tr>\n    <tr>\n      <th>V2</th>\n      <td>Rita</td>\n      <td>14</td>\n      <td>NaN</td>\n    </tr>\n    <tr>\n      <th>0</th>\n      <td>Rui</td>\n      <td>20</td>\n      <td>20.0</td>\n    </tr>\n    <tr>\n      <th>1</th>\n      <td>Pedro</td>\n      <td>20</td>\n      <td>20.0</td>\n    </tr>\n  </tbody>\n</table>\n</div>"
     },
     "execution_count": 19,
     "metadata": {},
     "output_type": "execute_result"
    }
   ],
   "source": [
    "novo_df = pd.concat([df,df2])\n",
    "\n",
    "novo_df"
   ],
   "metadata": {
    "collapsed": false,
    "ExecuteTime": {
     "end_time": "2023-12-29T09:49:17.316695Z",
     "start_time": "2023-12-29T09:49:17.310410Z"
    }
   },
   "id": "b6baeead3b56ce37",
   "execution_count": 19
  },
  {
   "cell_type": "code",
   "outputs": [
    {
     "data": {
      "text/plain": "   Nome  nota  nota2\n0  Joao    20    NaN\n0   Rui    20   20.0",
      "text/html": "<div>\n<style scoped>\n    .dataframe tbody tr th:only-of-type {\n        vertical-align: middle;\n    }\n\n    .dataframe tbody tr th {\n        vertical-align: top;\n    }\n\n    .dataframe thead th {\n        text-align: right;\n    }\n</style>\n<table border=\"1\" class=\"dataframe\">\n  <thead>\n    <tr style=\"text-align: right;\">\n      <th></th>\n      <th>Nome</th>\n      <th>nota</th>\n      <th>nota2</th>\n    </tr>\n  </thead>\n  <tbody>\n    <tr>\n      <th>0</th>\n      <td>Joao</td>\n      <td>20</td>\n      <td>NaN</td>\n    </tr>\n    <tr>\n      <th>0</th>\n      <td>Rui</td>\n      <td>20</td>\n      <td>20.0</td>\n    </tr>\n  </tbody>\n</table>\n</div>"
     },
     "execution_count": 16,
     "metadata": {},
     "output_type": "execute_result"
    }
   ],
   "source": [
    "novo_df.loc[0]"
   ],
   "metadata": {
    "collapsed": false,
    "ExecuteTime": {
     "end_time": "2023-12-29T09:46:12.929066Z",
     "start_time": "2023-12-29T09:46:12.921325Z"
    }
   },
   "id": "b729f6080ae1d929",
   "execution_count": 16
  },
  {
   "cell_type": "code",
   "outputs": [],
   "source": [
    "nova_df2 = novo_df.reset_index()"
   ],
   "metadata": {
    "collapsed": false,
    "ExecuteTime": {
     "end_time": "2023-12-29T09:53:27.726064Z",
     "start_time": "2023-12-29T09:53:27.720733Z"
    }
   },
   "id": "7ce0e587552241fe",
   "execution_count": 22
  },
  {
   "cell_type": "code",
   "outputs": [
    {
     "data": {
      "text/plain": "  index   Nome  nota  nota2        Data\n0    v1   Joao    20    NaN  2023-12-29\n1    V2  Maria    10    NaN  2023-12-29\n2    V2   Rita    14    NaN  2023-12-29\n3     0    Rui    20   20.0  2023-12-29\n4     1  Pedro    20   20.0  2023-12-29",
      "text/html": "<div>\n<style scoped>\n    .dataframe tbody tr th:only-of-type {\n        vertical-align: middle;\n    }\n\n    .dataframe tbody tr th {\n        vertical-align: top;\n    }\n\n    .dataframe thead th {\n        text-align: right;\n    }\n</style>\n<table border=\"1\" class=\"dataframe\">\n  <thead>\n    <tr style=\"text-align: right;\">\n      <th></th>\n      <th>index</th>\n      <th>Nome</th>\n      <th>nota</th>\n      <th>nota2</th>\n      <th>Data</th>\n    </tr>\n  </thead>\n  <tbody>\n    <tr>\n      <th>0</th>\n      <td>v1</td>\n      <td>Joao</td>\n      <td>20</td>\n      <td>NaN</td>\n      <td>2023-12-29</td>\n    </tr>\n    <tr>\n      <th>1</th>\n      <td>V2</td>\n      <td>Maria</td>\n      <td>10</td>\n      <td>NaN</td>\n      <td>2023-12-29</td>\n    </tr>\n    <tr>\n      <th>2</th>\n      <td>V2</td>\n      <td>Rita</td>\n      <td>14</td>\n      <td>NaN</td>\n      <td>2023-12-29</td>\n    </tr>\n    <tr>\n      <th>3</th>\n      <td>0</td>\n      <td>Rui</td>\n      <td>20</td>\n      <td>20.0</td>\n      <td>2023-12-29</td>\n    </tr>\n    <tr>\n      <th>4</th>\n      <td>1</td>\n      <td>Pedro</td>\n      <td>20</td>\n      <td>20.0</td>\n      <td>2023-12-29</td>\n    </tr>\n  </tbody>\n</table>\n</div>"
     },
     "execution_count": 32,
     "metadata": {},
     "output_type": "execute_result"
    }
   ],
   "source": [
    "# = [\"Data1\",\"Data1\",\"Data1\",\"Data1\",\"Data1\"]\n",
    "#nova_df2[\"Data\"] = \"Data1\"\n",
    "nova_df2[\"Data\"] = date.today()\n",
    "nova_df2"
   ],
   "metadata": {
    "collapsed": false,
    "ExecuteTime": {
     "end_time": "2023-12-29T09:57:28.451441Z",
     "start_time": "2023-12-29T09:57:28.436784Z"
    }
   },
   "id": "8e2ba5feee4b5460",
   "execution_count": 32
  },
  {
   "cell_type": "code",
   "outputs": [
    {
     "data": {
      "text/plain": "   variable  value\n0     index     v1\n1     index     V2\n2     index     V2\n3     index      0\n4     index      1\n5      Nome   Joao\n6      Nome  Maria\n7      Nome   Rita\n8      Nome    Rui\n9      Nome  Pedro\n10     nota     20\n11     nota     10\n12     nota     14\n13     nota     20\n14     nota     20\n15    nota2    NaN\n16    nota2    NaN\n17    nota2    NaN\n18    nota2   20.0\n19    nota2   20.0",
      "text/html": "<div>\n<style scoped>\n    .dataframe tbody tr th:only-of-type {\n        vertical-align: middle;\n    }\n\n    .dataframe tbody tr th {\n        vertical-align: top;\n    }\n\n    .dataframe thead th {\n        text-align: right;\n    }\n</style>\n<table border=\"1\" class=\"dataframe\">\n  <thead>\n    <tr style=\"text-align: right;\">\n      <th></th>\n      <th>variable</th>\n      <th>value</th>\n    </tr>\n  </thead>\n  <tbody>\n    <tr>\n      <th>0</th>\n      <td>index</td>\n      <td>v1</td>\n    </tr>\n    <tr>\n      <th>1</th>\n      <td>index</td>\n      <td>V2</td>\n    </tr>\n    <tr>\n      <th>2</th>\n      <td>index</td>\n      <td>V2</td>\n    </tr>\n    <tr>\n      <th>3</th>\n      <td>index</td>\n      <td>0</td>\n    </tr>\n    <tr>\n      <th>4</th>\n      <td>index</td>\n      <td>1</td>\n    </tr>\n    <tr>\n      <th>5</th>\n      <td>Nome</td>\n      <td>Joao</td>\n    </tr>\n    <tr>\n      <th>6</th>\n      <td>Nome</td>\n      <td>Maria</td>\n    </tr>\n    <tr>\n      <th>7</th>\n      <td>Nome</td>\n      <td>Rita</td>\n    </tr>\n    <tr>\n      <th>8</th>\n      <td>Nome</td>\n      <td>Rui</td>\n    </tr>\n    <tr>\n      <th>9</th>\n      <td>Nome</td>\n      <td>Pedro</td>\n    </tr>\n    <tr>\n      <th>10</th>\n      <td>nota</td>\n      <td>20</td>\n    </tr>\n    <tr>\n      <th>11</th>\n      <td>nota</td>\n      <td>10</td>\n    </tr>\n    <tr>\n      <th>12</th>\n      <td>nota</td>\n      <td>14</td>\n    </tr>\n    <tr>\n      <th>13</th>\n      <td>nota</td>\n      <td>20</td>\n    </tr>\n    <tr>\n      <th>14</th>\n      <td>nota</td>\n      <td>20</td>\n    </tr>\n    <tr>\n      <th>15</th>\n      <td>nota2</td>\n      <td>NaN</td>\n    </tr>\n    <tr>\n      <th>16</th>\n      <td>nota2</td>\n      <td>NaN</td>\n    </tr>\n    <tr>\n      <th>17</th>\n      <td>nota2</td>\n      <td>NaN</td>\n    </tr>\n    <tr>\n      <th>18</th>\n      <td>nota2</td>\n      <td>20.0</td>\n    </tr>\n    <tr>\n      <th>19</th>\n      <td>nota2</td>\n      <td>20.0</td>\n    </tr>\n  </tbody>\n</table>\n</div>"
     },
     "execution_count": 34,
     "metadata": {},
     "output_type": "execute_result"
    }
   ],
   "source": [
    "out = pd.melt(nova_df2)\n",
    "\n",
    "out.head(20)"
   ],
   "metadata": {
    "collapsed": false,
    "ExecuteTime": {
     "end_time": "2023-12-29T09:59:34.963201Z",
     "start_time": "2023-12-29T09:59:34.950730Z"
    }
   },
   "id": "4af1c4fb0da798e3",
   "execution_count": 34
  },
  {
   "cell_type": "code",
   "outputs": [
    {
     "data": {
      "text/plain": "  index   Nome  nota  nota2        Data\n0    v1   Joao    20    NaN  2023-12-29\n1    V2  Maria    10    NaN  2023-12-29\n2    V2   Rita    14    NaN  2023-12-29\n3     0    Rui    20   20.0  2023-12-29\n4     1  Pedro    20   20.0  2023-12-29",
      "text/html": "<div>\n<style scoped>\n    .dataframe tbody tr th:only-of-type {\n        vertical-align: middle;\n    }\n\n    .dataframe tbody tr th {\n        vertical-align: top;\n    }\n\n    .dataframe thead th {\n        text-align: right;\n    }\n</style>\n<table border=\"1\" class=\"dataframe\">\n  <thead>\n    <tr style=\"text-align: right;\">\n      <th></th>\n      <th>index</th>\n      <th>Nome</th>\n      <th>nota</th>\n      <th>nota2</th>\n      <th>Data</th>\n    </tr>\n  </thead>\n  <tbody>\n    <tr>\n      <th>0</th>\n      <td>v1</td>\n      <td>Joao</td>\n      <td>20</td>\n      <td>NaN</td>\n      <td>2023-12-29</td>\n    </tr>\n    <tr>\n      <th>1</th>\n      <td>V2</td>\n      <td>Maria</td>\n      <td>10</td>\n      <td>NaN</td>\n      <td>2023-12-29</td>\n    </tr>\n    <tr>\n      <th>2</th>\n      <td>V2</td>\n      <td>Rita</td>\n      <td>14</td>\n      <td>NaN</td>\n      <td>2023-12-29</td>\n    </tr>\n    <tr>\n      <th>3</th>\n      <td>0</td>\n      <td>Rui</td>\n      <td>20</td>\n      <td>20.0</td>\n      <td>2023-12-29</td>\n    </tr>\n    <tr>\n      <th>4</th>\n      <td>1</td>\n      <td>Pedro</td>\n      <td>20</td>\n      <td>20.0</td>\n      <td>2023-12-29</td>\n    </tr>\n  </tbody>\n</table>\n</div>"
     },
     "execution_count": 35,
     "metadata": {},
     "output_type": "execute_result"
    }
   ],
   "source": [
    "nova_df2"
   ],
   "metadata": {
    "collapsed": false,
    "ExecuteTime": {
     "end_time": "2023-12-29T10:00:35.737412Z",
     "start_time": "2023-12-29T10:00:35.730890Z"
    }
   },
   "id": "dcf224d7f5798867",
   "execution_count": 35
  },
  {
   "cell_type": "code",
   "outputs": [
    {
     "data": {
      "text/plain": "  index   Nome  nota  nota2        Data\n1    V2  Maria    10    NaN  2023-12-29\n2    V2   Rita    14    NaN  2023-12-29\n0    v1   Joao    20    NaN  2023-12-29\n3     0    Rui    20   20.0  2023-12-29\n4     1  Pedro    20   20.0  2023-12-29",
      "text/html": "<div>\n<style scoped>\n    .dataframe tbody tr th:only-of-type {\n        vertical-align: middle;\n    }\n\n    .dataframe tbody tr th {\n        vertical-align: top;\n    }\n\n    .dataframe thead th {\n        text-align: right;\n    }\n</style>\n<table border=\"1\" class=\"dataframe\">\n  <thead>\n    <tr style=\"text-align: right;\">\n      <th></th>\n      <th>index</th>\n      <th>Nome</th>\n      <th>nota</th>\n      <th>nota2</th>\n      <th>Data</th>\n    </tr>\n  </thead>\n  <tbody>\n    <tr>\n      <th>1</th>\n      <td>V2</td>\n      <td>Maria</td>\n      <td>10</td>\n      <td>NaN</td>\n      <td>2023-12-29</td>\n    </tr>\n    <tr>\n      <th>2</th>\n      <td>V2</td>\n      <td>Rita</td>\n      <td>14</td>\n      <td>NaN</td>\n      <td>2023-12-29</td>\n    </tr>\n    <tr>\n      <th>0</th>\n      <td>v1</td>\n      <td>Joao</td>\n      <td>20</td>\n      <td>NaN</td>\n      <td>2023-12-29</td>\n    </tr>\n    <tr>\n      <th>3</th>\n      <td>0</td>\n      <td>Rui</td>\n      <td>20</td>\n      <td>20.0</td>\n      <td>2023-12-29</td>\n    </tr>\n    <tr>\n      <th>4</th>\n      <td>1</td>\n      <td>Pedro</td>\n      <td>20</td>\n      <td>20.0</td>\n      <td>2023-12-29</td>\n    </tr>\n  </tbody>\n</table>\n</div>"
     },
     "execution_count": 36,
     "metadata": {},
     "output_type": "execute_result"
    }
   ],
   "source": [
    "s = nova_df2.sort_values(\"nota\")\n",
    "s"
   ],
   "metadata": {
    "collapsed": false,
    "ExecuteTime": {
     "end_time": "2023-12-29T10:01:39.248515Z",
     "start_time": "2023-12-29T10:01:39.242779Z"
    }
   },
   "id": "8d8eb82541ebd746",
   "execution_count": 36
  },
  {
   "cell_type": "code",
   "outputs": [
    {
     "data": {
      "text/plain": "  index   Nome  nota  nota2        Data\n0    v1   Joao    20    NaN  2023-12-29\n3     0    Rui    20   20.0  2023-12-29\n4     1  Pedro    20   20.0  2023-12-29\n2    V2   Rita    14    NaN  2023-12-29\n1    V2  Maria    10    NaN  2023-12-29",
      "text/html": "<div>\n<style scoped>\n    .dataframe tbody tr th:only-of-type {\n        vertical-align: middle;\n    }\n\n    .dataframe tbody tr th {\n        vertical-align: top;\n    }\n\n    .dataframe thead th {\n        text-align: right;\n    }\n</style>\n<table border=\"1\" class=\"dataframe\">\n  <thead>\n    <tr style=\"text-align: right;\">\n      <th></th>\n      <th>index</th>\n      <th>Nome</th>\n      <th>nota</th>\n      <th>nota2</th>\n      <th>Data</th>\n    </tr>\n  </thead>\n  <tbody>\n    <tr>\n      <th>0</th>\n      <td>v1</td>\n      <td>Joao</td>\n      <td>20</td>\n      <td>NaN</td>\n      <td>2023-12-29</td>\n    </tr>\n    <tr>\n      <th>3</th>\n      <td>0</td>\n      <td>Rui</td>\n      <td>20</td>\n      <td>20.0</td>\n      <td>2023-12-29</td>\n    </tr>\n    <tr>\n      <th>4</th>\n      <td>1</td>\n      <td>Pedro</td>\n      <td>20</td>\n      <td>20.0</td>\n      <td>2023-12-29</td>\n    </tr>\n    <tr>\n      <th>2</th>\n      <td>V2</td>\n      <td>Rita</td>\n      <td>14</td>\n      <td>NaN</td>\n      <td>2023-12-29</td>\n    </tr>\n    <tr>\n      <th>1</th>\n      <td>V2</td>\n      <td>Maria</td>\n      <td>10</td>\n      <td>NaN</td>\n      <td>2023-12-29</td>\n    </tr>\n  </tbody>\n</table>\n</div>"
     },
     "execution_count": 37,
     "metadata": {},
     "output_type": "execute_result"
    }
   ],
   "source": [
    "s = nova_df2.sort_values(\"nota\", ascending=False)\n",
    "s"
   ],
   "metadata": {
    "collapsed": false,
    "ExecuteTime": {
     "end_time": "2023-12-29T10:02:15.553936Z",
     "start_time": "2023-12-29T10:02:15.545118Z"
    }
   },
   "id": "457941e2b4d9ed6",
   "execution_count": 37
  },
  {
   "cell_type": "code",
   "outputs": [
    {
     "data": {
      "text/plain": "  index   Nome  nota  nota2        Data\n0    v1   Joao    20    0.0  2023-12-29\n1    V2  Maria    10    0.0  2023-12-29\n2    V2   Rita    14    0.0  2023-12-29\n3     0    Rui    20   20.0  2023-12-29\n4     1  Pedro    20   20.0  2023-12-29",
      "text/html": "<div>\n<style scoped>\n    .dataframe tbody tr th:only-of-type {\n        vertical-align: middle;\n    }\n\n    .dataframe tbody tr th {\n        vertical-align: top;\n    }\n\n    .dataframe thead th {\n        text-align: right;\n    }\n</style>\n<table border=\"1\" class=\"dataframe\">\n  <thead>\n    <tr style=\"text-align: right;\">\n      <th></th>\n      <th>index</th>\n      <th>Nome</th>\n      <th>nota</th>\n      <th>nota2</th>\n      <th>Data</th>\n    </tr>\n  </thead>\n  <tbody>\n    <tr>\n      <th>0</th>\n      <td>v1</td>\n      <td>Joao</td>\n      <td>20</td>\n      <td>0.0</td>\n      <td>2023-12-29</td>\n    </tr>\n    <tr>\n      <th>1</th>\n      <td>V2</td>\n      <td>Maria</td>\n      <td>10</td>\n      <td>0.0</td>\n      <td>2023-12-29</td>\n    </tr>\n    <tr>\n      <th>2</th>\n      <td>V2</td>\n      <td>Rita</td>\n      <td>14</td>\n      <td>0.0</td>\n      <td>2023-12-29</td>\n    </tr>\n    <tr>\n      <th>3</th>\n      <td>0</td>\n      <td>Rui</td>\n      <td>20</td>\n      <td>20.0</td>\n      <td>2023-12-29</td>\n    </tr>\n    <tr>\n      <th>4</th>\n      <td>1</td>\n      <td>Pedro</td>\n      <td>20</td>\n      <td>20.0</td>\n      <td>2023-12-29</td>\n    </tr>\n  </tbody>\n</table>\n</div>"
     },
     "execution_count": 38,
     "metadata": {},
     "output_type": "execute_result"
    }
   ],
   "source": [
    "n = nova_df2.fillna(0)\n",
    "\n",
    "n"
   ],
   "metadata": {
    "collapsed": false,
    "ExecuteTime": {
     "end_time": "2023-12-29T10:03:32.839659Z",
     "start_time": "2023-12-29T10:03:32.836045Z"
    }
   },
   "id": "991cd942f2ae3f8c",
   "execution_count": 38
  }
 ],
 "metadata": {
  "kernelspec": {
   "display_name": "Python 3",
   "language": "python",
   "name": "python3"
  },
  "language_info": {
   "codemirror_mode": {
    "name": "ipython",
    "version": 2
   },
   "file_extension": ".py",
   "mimetype": "text/x-python",
   "name": "python",
   "nbconvert_exporter": "python",
   "pygments_lexer": "ipython2",
   "version": "2.7.6"
  }
 },
 "nbformat": 4,
 "nbformat_minor": 5
}
