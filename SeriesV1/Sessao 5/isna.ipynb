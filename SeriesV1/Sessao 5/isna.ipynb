{
 "cells": [
  {
   "cell_type": "code",
   "execution_count": 2,
   "id": "initial_id",
   "metadata": {
    "collapsed": true,
    "ExecuteTime": {
     "end_time": "2023-12-29T10:09:16.587111Z",
     "start_time": "2023-12-29T10:09:16.066285Z"
    }
   },
   "outputs": [],
   "source": [
    "import pandas as pd"
   ]
  },
  {
   "cell_type": "code",
   "outputs": [
    {
     "data": {
      "text/plain": "           UID iso2 iso3  code3     FIPS      Admin2 Province_State  \\\n0            4   AF  AFG    4.0      NaN         NaN            NaN   \n1            8   AL  ALB    8.0      NaN         NaN            NaN   \n2           10   AQ  ATA   10.0      NaN         NaN            NaN   \n3           12   DZ  DZA   12.0      NaN         NaN            NaN   \n4           20   AD  AND   20.0      NaN         NaN            NaN   \n...        ...  ...  ...    ...      ...         ...            ...   \n4316  84056037   US  USA  840.0  56037.0  Sweetwater        Wyoming   \n4317  84056039   US  USA  840.0  56039.0       Teton        Wyoming   \n4318  84056041   US  USA  840.0  56041.0       Uinta        Wyoming   \n4319  84056043   US  USA  840.0  56043.0    Washakie        Wyoming   \n4320  84056045   US  USA  840.0  56045.0      Weston        Wyoming   \n\n     Country_Region        Lat       Long_             Combined_Key  \\\n0       Afghanistan  33.939110   67.709953              Afghanistan   \n1           Albania  41.153300   20.168300                  Albania   \n2        Antarctica -71.949900   23.347000               Antarctica   \n3           Algeria  28.033900    1.659600                  Algeria   \n4           Andorra  42.506300    1.521800                  Andorra   \n...             ...        ...         ...                      ...   \n4316             US  41.659439 -108.882788  Sweetwater, Wyoming, US   \n4317             US  43.935225 -110.589080       Teton, Wyoming, US   \n4318             US  41.287818 -110.547578       Uinta, Wyoming, US   \n4319             US  43.904516 -107.680187    Washakie, Wyoming, US   \n4320             US  43.839612 -104.567488      Weston, Wyoming, US   \n\n      Population  \n0     38928341.0  \n1      2877800.0  \n2            NaN  \n3     43851043.0  \n4        77265.0  \n...          ...  \n4316     42343.0  \n4317     23464.0  \n4318     20226.0  \n4319      7805.0  \n4320      6927.0  \n\n[4321 rows x 12 columns]",
      "text/html": "<div>\n<style scoped>\n    .dataframe tbody tr th:only-of-type {\n        vertical-align: middle;\n    }\n\n    .dataframe tbody tr th {\n        vertical-align: top;\n    }\n\n    .dataframe thead th {\n        text-align: right;\n    }\n</style>\n<table border=\"1\" class=\"dataframe\">\n  <thead>\n    <tr style=\"text-align: right;\">\n      <th></th>\n      <th>UID</th>\n      <th>iso2</th>\n      <th>iso3</th>\n      <th>code3</th>\n      <th>FIPS</th>\n      <th>Admin2</th>\n      <th>Province_State</th>\n      <th>Country_Region</th>\n      <th>Lat</th>\n      <th>Long_</th>\n      <th>Combined_Key</th>\n      <th>Population</th>\n    </tr>\n  </thead>\n  <tbody>\n    <tr>\n      <th>0</th>\n      <td>4</td>\n      <td>AF</td>\n      <td>AFG</td>\n      <td>4.0</td>\n      <td>NaN</td>\n      <td>NaN</td>\n      <td>NaN</td>\n      <td>Afghanistan</td>\n      <td>33.939110</td>\n      <td>67.709953</td>\n      <td>Afghanistan</td>\n      <td>38928341.0</td>\n    </tr>\n    <tr>\n      <th>1</th>\n      <td>8</td>\n      <td>AL</td>\n      <td>ALB</td>\n      <td>8.0</td>\n      <td>NaN</td>\n      <td>NaN</td>\n      <td>NaN</td>\n      <td>Albania</td>\n      <td>41.153300</td>\n      <td>20.168300</td>\n      <td>Albania</td>\n      <td>2877800.0</td>\n    </tr>\n    <tr>\n      <th>2</th>\n      <td>10</td>\n      <td>AQ</td>\n      <td>ATA</td>\n      <td>10.0</td>\n      <td>NaN</td>\n      <td>NaN</td>\n      <td>NaN</td>\n      <td>Antarctica</td>\n      <td>-71.949900</td>\n      <td>23.347000</td>\n      <td>Antarctica</td>\n      <td>NaN</td>\n    </tr>\n    <tr>\n      <th>3</th>\n      <td>12</td>\n      <td>DZ</td>\n      <td>DZA</td>\n      <td>12.0</td>\n      <td>NaN</td>\n      <td>NaN</td>\n      <td>NaN</td>\n      <td>Algeria</td>\n      <td>28.033900</td>\n      <td>1.659600</td>\n      <td>Algeria</td>\n      <td>43851043.0</td>\n    </tr>\n    <tr>\n      <th>4</th>\n      <td>20</td>\n      <td>AD</td>\n      <td>AND</td>\n      <td>20.0</td>\n      <td>NaN</td>\n      <td>NaN</td>\n      <td>NaN</td>\n      <td>Andorra</td>\n      <td>42.506300</td>\n      <td>1.521800</td>\n      <td>Andorra</td>\n      <td>77265.0</td>\n    </tr>\n    <tr>\n      <th>...</th>\n      <td>...</td>\n      <td>...</td>\n      <td>...</td>\n      <td>...</td>\n      <td>...</td>\n      <td>...</td>\n      <td>...</td>\n      <td>...</td>\n      <td>...</td>\n      <td>...</td>\n      <td>...</td>\n      <td>...</td>\n    </tr>\n    <tr>\n      <th>4316</th>\n      <td>84056037</td>\n      <td>US</td>\n      <td>USA</td>\n      <td>840.0</td>\n      <td>56037.0</td>\n      <td>Sweetwater</td>\n      <td>Wyoming</td>\n      <td>US</td>\n      <td>41.659439</td>\n      <td>-108.882788</td>\n      <td>Sweetwater, Wyoming, US</td>\n      <td>42343.0</td>\n    </tr>\n    <tr>\n      <th>4317</th>\n      <td>84056039</td>\n      <td>US</td>\n      <td>USA</td>\n      <td>840.0</td>\n      <td>56039.0</td>\n      <td>Teton</td>\n      <td>Wyoming</td>\n      <td>US</td>\n      <td>43.935225</td>\n      <td>-110.589080</td>\n      <td>Teton, Wyoming, US</td>\n      <td>23464.0</td>\n    </tr>\n    <tr>\n      <th>4318</th>\n      <td>84056041</td>\n      <td>US</td>\n      <td>USA</td>\n      <td>840.0</td>\n      <td>56041.0</td>\n      <td>Uinta</td>\n      <td>Wyoming</td>\n      <td>US</td>\n      <td>41.287818</td>\n      <td>-110.547578</td>\n      <td>Uinta, Wyoming, US</td>\n      <td>20226.0</td>\n    </tr>\n    <tr>\n      <th>4319</th>\n      <td>84056043</td>\n      <td>US</td>\n      <td>USA</td>\n      <td>840.0</td>\n      <td>56043.0</td>\n      <td>Washakie</td>\n      <td>Wyoming</td>\n      <td>US</td>\n      <td>43.904516</td>\n      <td>-107.680187</td>\n      <td>Washakie, Wyoming, US</td>\n      <td>7805.0</td>\n    </tr>\n    <tr>\n      <th>4320</th>\n      <td>84056045</td>\n      <td>US</td>\n      <td>USA</td>\n      <td>840.0</td>\n      <td>56045.0</td>\n      <td>Weston</td>\n      <td>Wyoming</td>\n      <td>US</td>\n      <td>43.839612</td>\n      <td>-104.567488</td>\n      <td>Weston, Wyoming, US</td>\n      <td>6927.0</td>\n    </tr>\n  </tbody>\n</table>\n<p>4321 rows × 12 columns</p>\n</div>"
     },
     "execution_count": 3,
     "metadata": {},
     "output_type": "execute_result"
    }
   ],
   "source": [
    "df = pd.read_csv(\"UID_ISO_FIPS_LookUp_Table.csv\")\n",
    "\n",
    "df"
   ],
   "metadata": {
    "collapsed": false,
    "ExecuteTime": {
     "end_time": "2023-12-29T10:09:18.015198Z",
     "start_time": "2023-12-29T10:09:17.980355Z"
    }
   },
   "id": "e3f4d39c243ffbc2",
   "execution_count": 3
  },
  {
   "cell_type": "code",
   "outputs": [
    {
     "data": {
      "text/plain": "UID                 0\niso2                5\niso3                4\ncode3               4\nFIPS              937\nAdmin2            978\nProvince_State    202\nCountry_Region      0\nLat               148\nLong_             148\nCombined_Key        0\nPopulation        151\ndtype: int64"
     },
     "execution_count": 5,
     "metadata": {},
     "output_type": "execute_result"
    }
   ],
   "source": [
    "df.isna().sum()"
   ],
   "metadata": {
    "collapsed": false,
    "ExecuteTime": {
     "end_time": "2023-12-29T10:10:17.933796Z",
     "start_time": "2023-12-29T10:10:17.909638Z"
    }
   },
   "id": "5d6dc65eb03ed05",
   "execution_count": 5
  },
  {
   "cell_type": "code",
   "outputs": [
    {
     "data": {
      "text/plain": "2577"
     },
     "execution_count": 6,
     "metadata": {},
     "output_type": "execute_result"
    }
   ],
   "source": [
    "df.isna().sum().sum()"
   ],
   "metadata": {
    "collapsed": false,
    "ExecuteTime": {
     "end_time": "2023-12-29T10:11:58.952433Z",
     "start_time": "2023-12-29T10:11:58.947770Z"
    }
   },
   "id": "376cba39f7f08b7f",
   "execution_count": 6
  },
  {
   "cell_type": "code",
   "outputs": [
    {
     "data": {
      "text/plain": "           UID iso2 iso3  code3     FIPS      Admin2 Province_State  \\\n26        5610   BE  BEL   56.0      NaN         NaN        Unknown   \n63        7628   BR  BRA   76.0      NaN         NaN        Unknown   \n91       15217   CL  CHL  152.0      NaN         NaN        Unknown   \n126      17034   CO  COL  170.0      NaN         NaN        Unknown   \n139       9999  NaN  NaN    NaN      NaN         NaN            NaN   \n...        ...  ...  ...    ...      ...         ...            ...   \n1172  84090051   US  USA  840.0  90051.0  Unassigned       Virginia   \n1173  84090053   US  USA  840.0  90053.0  Unassigned     Washington   \n1174  84090054   US  USA  840.0  90054.0  Unassigned  West Virginia   \n1175  84090055   US  USA  840.0  90055.0  Unassigned      Wisconsin   \n1176  84090056   US  USA  840.0  90056.0  Unassigned        Wyoming   \n\n        Country_Region  Lat  Long_                   Combined_Key  Population  \n26             Belgium  NaN    NaN               Unknown, Belgium         NaN  \n63              Brazil  NaN    NaN                Unknown, Brazil         NaN  \n91               Chile  NaN    NaN                 Unknown, Chile         NaN  \n126           Colombia  NaN    NaN              Unknown, Colombia         NaN  \n139   Diamond Princess  NaN    NaN               Diamond Princess         NaN  \n...                ...  ...    ...                            ...         ...  \n1172                US  NaN    NaN       Unassigned, Virginia, US         NaN  \n1173                US  NaN    NaN     Unassigned, Washington, US         NaN  \n1174                US  NaN    NaN  Unassigned, West Virginia, US         NaN  \n1175                US  NaN    NaN      Unassigned, Wisconsin, US         NaN  \n1176                US  NaN    NaN        Unassigned, Wyoming, US         NaN  \n\n[148 rows x 12 columns]",
      "text/html": "<div>\n<style scoped>\n    .dataframe tbody tr th:only-of-type {\n        vertical-align: middle;\n    }\n\n    .dataframe tbody tr th {\n        vertical-align: top;\n    }\n\n    .dataframe thead th {\n        text-align: right;\n    }\n</style>\n<table border=\"1\" class=\"dataframe\">\n  <thead>\n    <tr style=\"text-align: right;\">\n      <th></th>\n      <th>UID</th>\n      <th>iso2</th>\n      <th>iso3</th>\n      <th>code3</th>\n      <th>FIPS</th>\n      <th>Admin2</th>\n      <th>Province_State</th>\n      <th>Country_Region</th>\n      <th>Lat</th>\n      <th>Long_</th>\n      <th>Combined_Key</th>\n      <th>Population</th>\n    </tr>\n  </thead>\n  <tbody>\n    <tr>\n      <th>26</th>\n      <td>5610</td>\n      <td>BE</td>\n      <td>BEL</td>\n      <td>56.0</td>\n      <td>NaN</td>\n      <td>NaN</td>\n      <td>Unknown</td>\n      <td>Belgium</td>\n      <td>NaN</td>\n      <td>NaN</td>\n      <td>Unknown, Belgium</td>\n      <td>NaN</td>\n    </tr>\n    <tr>\n      <th>63</th>\n      <td>7628</td>\n      <td>BR</td>\n      <td>BRA</td>\n      <td>76.0</td>\n      <td>NaN</td>\n      <td>NaN</td>\n      <td>Unknown</td>\n      <td>Brazil</td>\n      <td>NaN</td>\n      <td>NaN</td>\n      <td>Unknown, Brazil</td>\n      <td>NaN</td>\n    </tr>\n    <tr>\n      <th>91</th>\n      <td>15217</td>\n      <td>CL</td>\n      <td>CHL</td>\n      <td>152.0</td>\n      <td>NaN</td>\n      <td>NaN</td>\n      <td>Unknown</td>\n      <td>Chile</td>\n      <td>NaN</td>\n      <td>NaN</td>\n      <td>Unknown, Chile</td>\n      <td>NaN</td>\n    </tr>\n    <tr>\n      <th>126</th>\n      <td>17034</td>\n      <td>CO</td>\n      <td>COL</td>\n      <td>170.0</td>\n      <td>NaN</td>\n      <td>NaN</td>\n      <td>Unknown</td>\n      <td>Colombia</td>\n      <td>NaN</td>\n      <td>NaN</td>\n      <td>Unknown, Colombia</td>\n      <td>NaN</td>\n    </tr>\n    <tr>\n      <th>139</th>\n      <td>9999</td>\n      <td>NaN</td>\n      <td>NaN</td>\n      <td>NaN</td>\n      <td>NaN</td>\n      <td>NaN</td>\n      <td>NaN</td>\n      <td>Diamond Princess</td>\n      <td>NaN</td>\n      <td>NaN</td>\n      <td>Diamond Princess</td>\n      <td>NaN</td>\n    </tr>\n    <tr>\n      <th>...</th>\n      <td>...</td>\n      <td>...</td>\n      <td>...</td>\n      <td>...</td>\n      <td>...</td>\n      <td>...</td>\n      <td>...</td>\n      <td>...</td>\n      <td>...</td>\n      <td>...</td>\n      <td>...</td>\n      <td>...</td>\n    </tr>\n    <tr>\n      <th>1172</th>\n      <td>84090051</td>\n      <td>US</td>\n      <td>USA</td>\n      <td>840.0</td>\n      <td>90051.0</td>\n      <td>Unassigned</td>\n      <td>Virginia</td>\n      <td>US</td>\n      <td>NaN</td>\n      <td>NaN</td>\n      <td>Unassigned, Virginia, US</td>\n      <td>NaN</td>\n    </tr>\n    <tr>\n      <th>1173</th>\n      <td>84090053</td>\n      <td>US</td>\n      <td>USA</td>\n      <td>840.0</td>\n      <td>90053.0</td>\n      <td>Unassigned</td>\n      <td>Washington</td>\n      <td>US</td>\n      <td>NaN</td>\n      <td>NaN</td>\n      <td>Unassigned, Washington, US</td>\n      <td>NaN</td>\n    </tr>\n    <tr>\n      <th>1174</th>\n      <td>84090054</td>\n      <td>US</td>\n      <td>USA</td>\n      <td>840.0</td>\n      <td>90054.0</td>\n      <td>Unassigned</td>\n      <td>West Virginia</td>\n      <td>US</td>\n      <td>NaN</td>\n      <td>NaN</td>\n      <td>Unassigned, West Virginia, US</td>\n      <td>NaN</td>\n    </tr>\n    <tr>\n      <th>1175</th>\n      <td>84090055</td>\n      <td>US</td>\n      <td>USA</td>\n      <td>840.0</td>\n      <td>90055.0</td>\n      <td>Unassigned</td>\n      <td>Wisconsin</td>\n      <td>US</td>\n      <td>NaN</td>\n      <td>NaN</td>\n      <td>Unassigned, Wisconsin, US</td>\n      <td>NaN</td>\n    </tr>\n    <tr>\n      <th>1176</th>\n      <td>84090056</td>\n      <td>US</td>\n      <td>USA</td>\n      <td>840.0</td>\n      <td>90056.0</td>\n      <td>Unassigned</td>\n      <td>Wyoming</td>\n      <td>US</td>\n      <td>NaN</td>\n      <td>NaN</td>\n      <td>Unassigned, Wyoming, US</td>\n      <td>NaN</td>\n    </tr>\n  </tbody>\n</table>\n<p>148 rows × 12 columns</p>\n</div>"
     },
     "execution_count": 7,
     "metadata": {},
     "output_type": "execute_result"
    }
   ],
   "source": [
    "resp = df.query(\"Lat.isnull()\")\n",
    "\n",
    "resp"
   ],
   "metadata": {
    "collapsed": false,
    "ExecuteTime": {
     "end_time": "2023-12-29T10:13:11.160090Z",
     "start_time": "2023-12-29T10:13:11.142963Z"
    }
   },
   "id": "41400921f1bbcd40",
   "execution_count": 7
  },
  {
   "cell_type": "code",
   "outputs": [
    {
     "data": {
      "text/plain": "      UID iso2 iso3  code3  FIPS Admin2 Province_State        Country_Region  \\\n139  9999  NaN  NaN    NaN   NaN    NaN            NaN      Diamond Princess   \n444  8888  NaN  NaN    NaN   NaN    NaN            NaN            MS Zaandam   \n445   516  NaN  NAM  516.0   NaN    NaN            NaN               Namibia   \n512  2020  NaN  NaN    NaN   NaN    NaN            NaN  Summer Olympics 2020   \n513  2022  NaN  NaN    NaN   NaN    NaN            NaN  Winter Olympics 2022   \n\n         Lat     Long_          Combined_Key  Population  \n139      NaN       NaN      Diamond Princess         NaN  \n444      NaN       NaN            MS Zaandam         NaN  \n445 -22.9576   18.4904               Namibia   2540916.0  \n512  35.6491  139.7737  Summer Olympics 2020         NaN  \n513  39.9042  116.4074  Winter Olympics 2022         NaN  ",
      "text/html": "<div>\n<style scoped>\n    .dataframe tbody tr th:only-of-type {\n        vertical-align: middle;\n    }\n\n    .dataframe tbody tr th {\n        vertical-align: top;\n    }\n\n    .dataframe thead th {\n        text-align: right;\n    }\n</style>\n<table border=\"1\" class=\"dataframe\">\n  <thead>\n    <tr style=\"text-align: right;\">\n      <th></th>\n      <th>UID</th>\n      <th>iso2</th>\n      <th>iso3</th>\n      <th>code3</th>\n      <th>FIPS</th>\n      <th>Admin2</th>\n      <th>Province_State</th>\n      <th>Country_Region</th>\n      <th>Lat</th>\n      <th>Long_</th>\n      <th>Combined_Key</th>\n      <th>Population</th>\n    </tr>\n  </thead>\n  <tbody>\n    <tr>\n      <th>139</th>\n      <td>9999</td>\n      <td>NaN</td>\n      <td>NaN</td>\n      <td>NaN</td>\n      <td>NaN</td>\n      <td>NaN</td>\n      <td>NaN</td>\n      <td>Diamond Princess</td>\n      <td>NaN</td>\n      <td>NaN</td>\n      <td>Diamond Princess</td>\n      <td>NaN</td>\n    </tr>\n    <tr>\n      <th>444</th>\n      <td>8888</td>\n      <td>NaN</td>\n      <td>NaN</td>\n      <td>NaN</td>\n      <td>NaN</td>\n      <td>NaN</td>\n      <td>NaN</td>\n      <td>MS Zaandam</td>\n      <td>NaN</td>\n      <td>NaN</td>\n      <td>MS Zaandam</td>\n      <td>NaN</td>\n    </tr>\n    <tr>\n      <th>445</th>\n      <td>516</td>\n      <td>NaN</td>\n      <td>NAM</td>\n      <td>516.0</td>\n      <td>NaN</td>\n      <td>NaN</td>\n      <td>NaN</td>\n      <td>Namibia</td>\n      <td>-22.9576</td>\n      <td>18.4904</td>\n      <td>Namibia</td>\n      <td>2540916.0</td>\n    </tr>\n    <tr>\n      <th>512</th>\n      <td>2020</td>\n      <td>NaN</td>\n      <td>NaN</td>\n      <td>NaN</td>\n      <td>NaN</td>\n      <td>NaN</td>\n      <td>NaN</td>\n      <td>Summer Olympics 2020</td>\n      <td>35.6491</td>\n      <td>139.7737</td>\n      <td>Summer Olympics 2020</td>\n      <td>NaN</td>\n    </tr>\n    <tr>\n      <th>513</th>\n      <td>2022</td>\n      <td>NaN</td>\n      <td>NaN</td>\n      <td>NaN</td>\n      <td>NaN</td>\n      <td>NaN</td>\n      <td>NaN</td>\n      <td>Winter Olympics 2022</td>\n      <td>39.9042</td>\n      <td>116.4074</td>\n      <td>Winter Olympics 2022</td>\n      <td>NaN</td>\n    </tr>\n  </tbody>\n</table>\n</div>"
     },
     "execution_count": 8,
     "metadata": {},
     "output_type": "execute_result"
    }
   ],
   "source": [
    "resp = df.query(\"iso2.isnull()\")\n",
    "\n",
    "resp"
   ],
   "metadata": {
    "collapsed": false,
    "ExecuteTime": {
     "end_time": "2023-12-29T10:14:14.669821Z",
     "start_time": "2023-12-29T10:14:14.652828Z"
    }
   },
   "id": "15b58b574ce9725e",
   "execution_count": 8
  },
  {
   "cell_type": "code",
   "outputs": [
    {
     "data": {
      "text/plain": "0       AFG\n1       ALB\n2       ATA\n3       DZA\n4       AND\n       ... \n4316    USA\n4317    USA\n4318    USA\n4319    USA\n4320    USA\nName: iso3, Length: 4321, dtype: object"
     },
     "execution_count": 10,
     "metadata": {},
     "output_type": "execute_result"
    }
   ],
   "source": [
    "resp2 = df[\"iso3\"]\n",
    "resp2"
   ],
   "metadata": {
    "collapsed": false,
    "ExecuteTime": {
     "end_time": "2023-12-29T10:16:02.069435Z",
     "start_time": "2023-12-29T10:16:02.004161Z"
    }
   },
   "id": "6c569b5dc8451e50",
   "execution_count": 10
  },
  {
   "cell_type": "code",
   "outputs": [
    {
     "data": {
      "text/plain": "0       False\n1       False\n2       False\n3       False\n4       False\n        ...  \n4316    False\n4317    False\n4318    False\n4319    False\n4320    False\nName: iso3, Length: 4321, dtype: bool"
     },
     "execution_count": 11,
     "metadata": {},
     "output_type": "execute_result"
    }
   ],
   "source": [
    "resp2.isna()"
   ],
   "metadata": {
    "collapsed": false,
    "ExecuteTime": {
     "end_time": "2023-12-29T10:16:21.795820Z",
     "start_time": "2023-12-29T10:16:21.790839Z"
    }
   },
   "id": "1974aa9760c3c058",
   "execution_count": 11
  },
  {
   "cell_type": "code",
   "outputs": [
    {
     "data": {
      "text/plain": "0       AF\n1       AL\n2       AQ\n3       DZ\n4       AD\n        ..\n4316    US\n4317    US\n4318    US\n4319    US\n4320    US\nName: iso2, Length: 4316, dtype: object"
     },
     "execution_count": 14,
     "metadata": {},
     "output_type": "execute_result"
    }
   ],
   "source": [
    "resp_dropna = df['iso2'].dropna(axis=0)\n",
    "resp_dropna"
   ],
   "metadata": {
    "collapsed": false,
    "ExecuteTime": {
     "end_time": "2023-12-29T10:18:57.264313Z",
     "start_time": "2023-12-29T10:18:57.253492Z"
    }
   },
   "id": "9c307416511cde23",
   "execution_count": 14
  },
  {
   "cell_type": "code",
   "outputs": [
    {
     "data": {
      "text/plain": "UID               0\niso2              0\niso3              0\ncode3             0\nFIPS              0\nAdmin2            0\nProvince_State    0\nCountry_Region    0\nLat               0\nLong_             0\nCombined_Key      0\nPopulation        0\ndtype: int64"
     },
     "execution_count": 18,
     "metadata": {},
     "output_type": "execute_result"
    }
   ],
   "source": [
    "resp2 = df.dropna(axis=0)\n",
    "resp2.isna().sum()"
   ],
   "metadata": {
    "collapsed": false,
    "ExecuteTime": {
     "end_time": "2023-12-29T10:42:03.298417Z",
     "start_time": "2023-12-29T10:42:03.284407Z"
    }
   },
   "id": "b2c0309cbee91ce5",
   "execution_count": 18
  },
  {
   "cell_type": "markdown",
   "source": [
    "df..value_counts() <- conta os valreos"
   ],
   "metadata": {
    "collapsed": false
   },
   "id": "f0221dca91d94dbf"
  },
  {
   "cell_type": "code",
   "outputs": [
    {
     "data": {
      "text/plain": "202"
     },
     "execution_count": 28,
     "metadata": {},
     "output_type": "execute_result"
    }
   ],
   "source": [],
   "metadata": {
    "collapsed": false,
    "ExecuteTime": {
     "end_time": "2023-12-29T10:52:32.828836Z",
     "start_time": "2023-12-29T10:52:32.809763Z"
    }
   },
   "id": "759672919c3c0119",
   "execution_count": 28
  }
 ],
 "metadata": {
  "kernelspec": {
   "display_name": "Python 3",
   "language": "python",
   "name": "python3"
  },
  "language_info": {
   "codemirror_mode": {
    "name": "ipython",
    "version": 2
   },
   "file_extension": ".py",
   "mimetype": "text/x-python",
   "name": "python",
   "nbconvert_exporter": "python",
   "pygments_lexer": "ipython2",
   "version": "2.7.6"
  }
 },
 "nbformat": 4,
 "nbformat_minor": 5
}
