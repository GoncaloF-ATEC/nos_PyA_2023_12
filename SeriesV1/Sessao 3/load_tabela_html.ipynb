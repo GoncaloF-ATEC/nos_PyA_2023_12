{
 "cells": [
  {
   "cell_type": "code",
   "execution_count": 2,
   "id": "initial_id",
   "metadata": {
    "collapsed": true,
    "ExecuteTime": {
     "end_time": "2023-12-18T12:43:17.440569Z",
     "start_time": "2023-12-18T12:43:12.835735Z"
    }
   },
   "outputs": [],
   "source": [
    "import pandas as pd\n",
    "import requests\n",
    "import lxml\n",
    "#pip install lxml"
   ]
  },
  {
   "cell_type": "code",
   "execution_count": 3,
   "outputs": [],
   "source": [
    "url_str = \"https://guiadoscursos.uab.pt/cursos/licenciatura-em-matematica-aplicada-a-gestao/\"\n",
    "\n",
    "\n",
    "url = requests.get(url_str).content"
   ],
   "metadata": {
    "collapsed": false,
    "ExecuteTime": {
     "end_time": "2023-12-18T12:43:19.081777Z",
     "start_time": "2023-12-18T12:43:17.442592Z"
    }
   },
   "id": "d4893c46ed9ab74a"
  },
  {
   "cell_type": "code",
   "execution_count": 4,
   "outputs": [
    {
     "name": "stdout",
     "output_type": "stream",
     "text": [
      "3\n"
     ]
    }
   ],
   "source": [
    "dados = pd.read_html(url)\n",
    "\n",
    "print(dados.__len__())"
   ],
   "metadata": {
    "collapsed": false,
    "ExecuteTime": {
     "end_time": "2023-12-18T12:43:23.157326Z",
     "start_time": "2023-12-18T12:43:20.924200Z"
    }
   },
   "id": "bce666c1940f6fe"
  },
  {
   "cell_type": "code",
   "execution_count": 7,
   "outputs": [
    {
     "data": {
      "text/plain": "               Maior                    \\\n                 Ano          Semestre   \n   Bloco Opcionais A Bloco Opcionais A   \n                 Ano          Semestre   \n   Bloco Opcionais B Bloco Opcionais B   \n                 Ano          Semestre   \n   Bloco Opcionais C Bloco Opcionais C   \n                 Ano          Semestre   \n   Bloco Opcionais D Bloco Opcionais D   \n                 Ano          Semestre   \n0                3.0                S1   \n1                3.0                S1   \n2                3.0                S1   \n3                3.0                S1   \n4                NaN               NaN   \n5                3.0                S2   \n6                3.0                S2   \n7                3.0                S2   \n8                3.0                S2   \n9                3.0                S1   \n10               NaN               NaN   \n11               3.0                S2   \n12               3.0                S1   \n13               NaN               NaN   \n14               3.0                S2   \n15               3.0                S1   \n16               NaN               NaN   \n17               3.0                S2   \n18               3.0                S1   \n19               3.0                S1   \n20               3.0                S1   \n21               3.0                S1   \n22               3.0                S1   \n23               NaN               NaN   \n24               3.0                S2   \n25               3.0                S2   \n26               3.0                S2   \n27               3.0                S2   \n28               3.0                S2   \n\n                                                                         \\\n                                   Unidade Curricular              ECTS   \n                                    Bloco Opcionais A Bloco Opcionais A   \n                                   Unidade Curricular              ECTS   \n                                    Bloco Opcionais B Bloco Opcionais B   \n                                   Unidade Curricular              ECTS   \n                                    Bloco Opcionais C Bloco Opcionais C   \n                                   Unidade Curricular              ECTS   \n                                    Bloco Opcionais D Bloco Opcionais D   \n                                   Unidade Curricular              ECTS   \n0               21035 - Elementos de Análise Numérica               6.0   \n1            21089 - Processos Estocásticos Aplicados               6.0   \n2        21103 - Sistemas de Gestão de Bases de Dados               6.0   \n3                   61023 - Investimentos Financeiros               6.0   \n4                                                 NaN               NaN   \n5                   21043 - Estatística Computacional               6.0   \n6   21073 - Introdução à Probabilidade e Estatísti...               6.0   \n7       21163 - Elementos de Estatística Multivariada               6.0   \n8               61043 - Economia Digital e e-Business               6.0   \n9              61017 - Gestão de Produção e Operações               6.0   \n10                                                NaN               NaN   \n11                          61047 - Casos de Finanças               6.0   \n12                   21093 - Programação por Objectos               6.0   \n13                                                NaN               NaN   \n14  21179 - Laboratório de Desenvolvimento de Soft...               6.0   \n15                        21110 - Sistemas Multimédia               6.0   \n16                                                NaN               NaN   \n17       21071 - Introdução à Inteligência Artificial               6.0   \n18                  Opcionais LMAG - Bloco D (1º Sem)               6.0   \n19          * 21161 - Análise de Fourier e Aplicações               6.0   \n20  * 21167 - Introdução à Modelação Matemática e ...               6.0   \n21           * 61017 - Gestão de Produção e Operações               6.0   \n22                          * 61040 - Casos de Gestão               6.0   \n23                                                NaN               NaN   \n24                  Opcionais LMAG - Bloco D (2º Sem)               6.0   \n25    * 21033 - Elementos de Análise Infinitesimal IV               6.0   \n26                  * 21042 - Estatística Aplicada II               6.0   \n27                      * 61045 - Projeto Empresarial               6.0   \n28                        * 61047 - Casos de Finanças               6.0   \n\n                                                                \n                            Área Científica Unnamed: 5_level_1  \n                          Bloco Opcionais A  Bloco Opcionais A  \n                            Área Científica Unnamed: 5_level_3  \n                          Bloco Opcionais B  Bloco Opcionais B  \n                            Área Científica Unnamed: 5_level_5  \n                          Bloco Opcionais C  Bloco Opcionais C  \n                            Área Científica Unnamed: 5_level_7  \n                          Bloco Opcionais D  Bloco Opcionais D  \n                            Área Científica Unnamed: 5_level_9  \n0                                Matemática                NaN  \n1                                Matemática                NaN  \n2                    Engenharia Informática                NaN  \n3                                    Gestão                NaN  \n4                                       NaN                NaN  \n5                                Matemática                NaN  \n6                                Matemática                NaN  \n7                                Matemática                NaN  \n8                                    Gestão                NaN  \n9                                    Gestão                NaN  \n10                                      NaN                NaN  \n11                                   Gestão                NaN  \n12                   Engenharia Informática                NaN  \n13                                      NaN                NaN  \n14                   Engenharia Informática                NaN  \n15  Tecnologias de Informação e Comunicação                NaN  \n16                                      NaN                NaN  \n17                   Engenharia Informática                NaN  \n18                                      NaN                NaN  \n19                               Matemática                NaN  \n20                               Matemática                NaN  \n21                                   Gestão                NaN  \n22                                   Gestão                NaN  \n23                                      NaN                NaN  \n24                                      NaN                NaN  \n25                               Matemática                NaN  \n26                               Matemática                NaN  \n27                                   Gestão                NaN  \n28                                   Gestão                NaN  ",
      "text/html": "<div>\n<style scoped>\n    .dataframe tbody tr th:only-of-type {\n        vertical-align: middle;\n    }\n\n    .dataframe tbody tr th {\n        vertical-align: top;\n    }\n\n    .dataframe thead tr th {\n        text-align: left;\n    }\n</style>\n<table border=\"1\" class=\"dataframe\">\n  <thead>\n    <tr>\n      <th></th>\n      <th colspan=\"6\" halign=\"left\">Maior</th>\n    </tr>\n    <tr>\n      <th></th>\n      <th>Ano</th>\n      <th>Semestre</th>\n      <th>Unidade Curricular</th>\n      <th>ECTS</th>\n      <th>Área Científica</th>\n      <th>Unnamed: 5_level_1</th>\n    </tr>\n    <tr>\n      <th></th>\n      <th>Bloco Opcionais A</th>\n      <th>Bloco Opcionais A</th>\n      <th>Bloco Opcionais A</th>\n      <th>Bloco Opcionais A</th>\n      <th>Bloco Opcionais A</th>\n      <th>Bloco Opcionais A</th>\n    </tr>\n    <tr>\n      <th></th>\n      <th>Ano</th>\n      <th>Semestre</th>\n      <th>Unidade Curricular</th>\n      <th>ECTS</th>\n      <th>Área Científica</th>\n      <th>Unnamed: 5_level_3</th>\n    </tr>\n    <tr>\n      <th></th>\n      <th>Bloco Opcionais B</th>\n      <th>Bloco Opcionais B</th>\n      <th>Bloco Opcionais B</th>\n      <th>Bloco Opcionais B</th>\n      <th>Bloco Opcionais B</th>\n      <th>Bloco Opcionais B</th>\n    </tr>\n    <tr>\n      <th></th>\n      <th>Ano</th>\n      <th>Semestre</th>\n      <th>Unidade Curricular</th>\n      <th>ECTS</th>\n      <th>Área Científica</th>\n      <th>Unnamed: 5_level_5</th>\n    </tr>\n    <tr>\n      <th></th>\n      <th>Bloco Opcionais C</th>\n      <th>Bloco Opcionais C</th>\n      <th>Bloco Opcionais C</th>\n      <th>Bloco Opcionais C</th>\n      <th>Bloco Opcionais C</th>\n      <th>Bloco Opcionais C</th>\n    </tr>\n    <tr>\n      <th></th>\n      <th>Ano</th>\n      <th>Semestre</th>\n      <th>Unidade Curricular</th>\n      <th>ECTS</th>\n      <th>Área Científica</th>\n      <th>Unnamed: 5_level_7</th>\n    </tr>\n    <tr>\n      <th></th>\n      <th>Bloco Opcionais D</th>\n      <th>Bloco Opcionais D</th>\n      <th>Bloco Opcionais D</th>\n      <th>Bloco Opcionais D</th>\n      <th>Bloco Opcionais D</th>\n      <th>Bloco Opcionais D</th>\n    </tr>\n    <tr>\n      <th></th>\n      <th>Ano</th>\n      <th>Semestre</th>\n      <th>Unidade Curricular</th>\n      <th>ECTS</th>\n      <th>Área Científica</th>\n      <th>Unnamed: 5_level_9</th>\n    </tr>\n  </thead>\n  <tbody>\n    <tr>\n      <th>0</th>\n      <td>3.0</td>\n      <td>S1</td>\n      <td>21035 - Elementos de Análise Numérica</td>\n      <td>6.0</td>\n      <td>Matemática</td>\n      <td>NaN</td>\n    </tr>\n    <tr>\n      <th>1</th>\n      <td>3.0</td>\n      <td>S1</td>\n      <td>21089 - Processos Estocásticos Aplicados</td>\n      <td>6.0</td>\n      <td>Matemática</td>\n      <td>NaN</td>\n    </tr>\n    <tr>\n      <th>2</th>\n      <td>3.0</td>\n      <td>S1</td>\n      <td>21103 - Sistemas de Gestão de Bases de Dados</td>\n      <td>6.0</td>\n      <td>Engenharia Informática</td>\n      <td>NaN</td>\n    </tr>\n    <tr>\n      <th>3</th>\n      <td>3.0</td>\n      <td>S1</td>\n      <td>61023 - Investimentos Financeiros</td>\n      <td>6.0</td>\n      <td>Gestão</td>\n      <td>NaN</td>\n    </tr>\n    <tr>\n      <th>4</th>\n      <td>NaN</td>\n      <td>NaN</td>\n      <td>NaN</td>\n      <td>NaN</td>\n      <td>NaN</td>\n      <td>NaN</td>\n    </tr>\n    <tr>\n      <th>5</th>\n      <td>3.0</td>\n      <td>S2</td>\n      <td>21043 - Estatística Computacional</td>\n      <td>6.0</td>\n      <td>Matemática</td>\n      <td>NaN</td>\n    </tr>\n    <tr>\n      <th>6</th>\n      <td>3.0</td>\n      <td>S2</td>\n      <td>21073 - Introdução à Probabilidade e Estatísti...</td>\n      <td>6.0</td>\n      <td>Matemática</td>\n      <td>NaN</td>\n    </tr>\n    <tr>\n      <th>7</th>\n      <td>3.0</td>\n      <td>S2</td>\n      <td>21163 - Elementos de Estatística Multivariada</td>\n      <td>6.0</td>\n      <td>Matemática</td>\n      <td>NaN</td>\n    </tr>\n    <tr>\n      <th>8</th>\n      <td>3.0</td>\n      <td>S2</td>\n      <td>61043 - Economia Digital e e-Business</td>\n      <td>6.0</td>\n      <td>Gestão</td>\n      <td>NaN</td>\n    </tr>\n    <tr>\n      <th>9</th>\n      <td>3.0</td>\n      <td>S1</td>\n      <td>61017 - Gestão de Produção e Operações</td>\n      <td>6.0</td>\n      <td>Gestão</td>\n      <td>NaN</td>\n    </tr>\n    <tr>\n      <th>10</th>\n      <td>NaN</td>\n      <td>NaN</td>\n      <td>NaN</td>\n      <td>NaN</td>\n      <td>NaN</td>\n      <td>NaN</td>\n    </tr>\n    <tr>\n      <th>11</th>\n      <td>3.0</td>\n      <td>S2</td>\n      <td>61047 - Casos de Finanças</td>\n      <td>6.0</td>\n      <td>Gestão</td>\n      <td>NaN</td>\n    </tr>\n    <tr>\n      <th>12</th>\n      <td>3.0</td>\n      <td>S1</td>\n      <td>21093 - Programação por Objectos</td>\n      <td>6.0</td>\n      <td>Engenharia Informática</td>\n      <td>NaN</td>\n    </tr>\n    <tr>\n      <th>13</th>\n      <td>NaN</td>\n      <td>NaN</td>\n      <td>NaN</td>\n      <td>NaN</td>\n      <td>NaN</td>\n      <td>NaN</td>\n    </tr>\n    <tr>\n      <th>14</th>\n      <td>3.0</td>\n      <td>S2</td>\n      <td>21179 - Laboratório de Desenvolvimento de Soft...</td>\n      <td>6.0</td>\n      <td>Engenharia Informática</td>\n      <td>NaN</td>\n    </tr>\n    <tr>\n      <th>15</th>\n      <td>3.0</td>\n      <td>S1</td>\n      <td>21110 - Sistemas Multimédia</td>\n      <td>6.0</td>\n      <td>Tecnologias de Informação e Comunicação</td>\n      <td>NaN</td>\n    </tr>\n    <tr>\n      <th>16</th>\n      <td>NaN</td>\n      <td>NaN</td>\n      <td>NaN</td>\n      <td>NaN</td>\n      <td>NaN</td>\n      <td>NaN</td>\n    </tr>\n    <tr>\n      <th>17</th>\n      <td>3.0</td>\n      <td>S2</td>\n      <td>21071 - Introdução à Inteligência Artificial</td>\n      <td>6.0</td>\n      <td>Engenharia Informática</td>\n      <td>NaN</td>\n    </tr>\n    <tr>\n      <th>18</th>\n      <td>3.0</td>\n      <td>S1</td>\n      <td>Opcionais LMAG - Bloco D (1º Sem)</td>\n      <td>6.0</td>\n      <td>NaN</td>\n      <td>NaN</td>\n    </tr>\n    <tr>\n      <th>19</th>\n      <td>3.0</td>\n      <td>S1</td>\n      <td>* 21161 - Análise de Fourier e Aplicações</td>\n      <td>6.0</td>\n      <td>Matemática</td>\n      <td>NaN</td>\n    </tr>\n    <tr>\n      <th>20</th>\n      <td>3.0</td>\n      <td>S1</td>\n      <td>* 21167 - Introdução à Modelação Matemática e ...</td>\n      <td>6.0</td>\n      <td>Matemática</td>\n      <td>NaN</td>\n    </tr>\n    <tr>\n      <th>21</th>\n      <td>3.0</td>\n      <td>S1</td>\n      <td>* 61017 - Gestão de Produção e Operações</td>\n      <td>6.0</td>\n      <td>Gestão</td>\n      <td>NaN</td>\n    </tr>\n    <tr>\n      <th>22</th>\n      <td>3.0</td>\n      <td>S1</td>\n      <td>* 61040 - Casos de Gestão</td>\n      <td>6.0</td>\n      <td>Gestão</td>\n      <td>NaN</td>\n    </tr>\n    <tr>\n      <th>23</th>\n      <td>NaN</td>\n      <td>NaN</td>\n      <td>NaN</td>\n      <td>NaN</td>\n      <td>NaN</td>\n      <td>NaN</td>\n    </tr>\n    <tr>\n      <th>24</th>\n      <td>3.0</td>\n      <td>S2</td>\n      <td>Opcionais LMAG - Bloco D (2º Sem)</td>\n      <td>6.0</td>\n      <td>NaN</td>\n      <td>NaN</td>\n    </tr>\n    <tr>\n      <th>25</th>\n      <td>3.0</td>\n      <td>S2</td>\n      <td>* 21033 - Elementos de Análise Infinitesimal IV</td>\n      <td>6.0</td>\n      <td>Matemática</td>\n      <td>NaN</td>\n    </tr>\n    <tr>\n      <th>26</th>\n      <td>3.0</td>\n      <td>S2</td>\n      <td>* 21042 - Estatística Aplicada II</td>\n      <td>6.0</td>\n      <td>Matemática</td>\n      <td>NaN</td>\n    </tr>\n    <tr>\n      <th>27</th>\n      <td>3.0</td>\n      <td>S2</td>\n      <td>* 61045 - Projeto Empresarial</td>\n      <td>6.0</td>\n      <td>Gestão</td>\n      <td>NaN</td>\n    </tr>\n    <tr>\n      <th>28</th>\n      <td>3.0</td>\n      <td>S2</td>\n      <td>* 61047 - Casos de Finanças</td>\n      <td>6.0</td>\n      <td>Gestão</td>\n      <td>NaN</td>\n    </tr>\n  </tbody>\n</table>\n</div>"
     },
     "execution_count": 7,
     "metadata": {},
     "output_type": "execute_result"
    }
   ],
   "source": [
    "dados[2]"
   ],
   "metadata": {
    "collapsed": false,
    "ExecuteTime": {
     "end_time": "2023-12-18T12:44:09.232564Z",
     "start_time": "2023-12-18T12:44:09.076534Z"
    }
   },
   "id": "7226d7a84f11fdcd"
  }
 ],
 "metadata": {
  "kernelspec": {
   "display_name": "Python 3",
   "language": "python",
   "name": "python3"
  },
  "language_info": {
   "codemirror_mode": {
    "name": "ipython",
    "version": 2
   },
   "file_extension": ".py",
   "mimetype": "text/x-python",
   "name": "python",
   "nbconvert_exporter": "python",
   "pygments_lexer": "ipython2",
   "version": "2.7.6"
  }
 },
 "nbformat": 4,
 "nbformat_minor": 5
}
