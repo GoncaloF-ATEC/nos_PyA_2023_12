{
 "cells": [
  {
   "cell_type": "code",
   "execution_count": 8,
   "id": "initial_id",
   "metadata": {
    "collapsed": true,
    "ExecuteTime": {
     "end_time": "2023-12-18T12:54:44.284933Z",
     "start_time": "2023-12-18T12:54:44.279890Z"
    }
   },
   "outputs": [],
   "source": [
    "import pandas as pd\n",
    "import requests"
   ]
  },
  {
   "cell_type": "code",
   "execution_count": 9,
   "outputs": [
    {
     "data": {
      "text/plain": "<Response [200]>"
     },
     "execution_count": 9,
     "metadata": {},
     "output_type": "execute_result"
    }
   ],
   "source": [
    "url = \"https://covid-api.com/api/provinces/CHN\"\n",
    "resp = requests.get(url)\n",
    "resp"
   ],
   "metadata": {
    "collapsed": false,
    "ExecuteTime": {
     "end_time": "2023-12-18T12:54:45.078337Z",
     "start_time": "2023-12-18T12:54:44.283308Z"
    }
   },
   "id": "e69c6c1ff0503d8"
  },
  {
   "cell_type": "code",
   "execution_count": 10,
   "outputs": [
    {
     "data": {
      "text/plain": "[{'iso': 'CHN',\n  'name': 'China',\n  'province': 'Anhui',\n  'lat': '31.8257',\n  'long': '117.2264'},\n {'iso': 'CHN',\n  'name': 'China',\n  'province': 'Beijing',\n  'lat': '40.1824',\n  'long': '116.4142'},\n {'iso': 'CHN',\n  'name': 'China',\n  'province': 'Chongqing',\n  'lat': '30.0572',\n  'long': '107.8740'},\n {'iso': 'CHN',\n  'name': 'China',\n  'province': 'Fujian',\n  'lat': '26.0789',\n  'long': '117.9874'},\n {'iso': 'CHN',\n  'name': 'China',\n  'province': 'Gansu',\n  'lat': '36.0611',\n  'long': '103.8343'},\n {'iso': 'CHN',\n  'name': 'China',\n  'province': 'Guangdong',\n  'lat': '23.3417',\n  'long': '113.4244'},\n {'iso': 'CHN',\n  'name': 'China',\n  'province': 'Guangxi',\n  'lat': '23.8298',\n  'long': '108.7881'},\n {'iso': 'CHN',\n  'name': 'China',\n  'province': 'Guizhou',\n  'lat': '26.8154',\n  'long': '106.8748'},\n {'iso': 'CHN',\n  'name': 'China',\n  'province': 'Hainan',\n  'lat': '19.1959',\n  'long': '109.7453'},\n {'iso': 'CHN',\n  'name': 'China',\n  'province': 'Hebei',\n  'lat': '38.0428',\n  'long': '114.5149'},\n {'iso': 'CHN',\n  'name': 'China',\n  'province': 'Heilongjiang',\n  'lat': '47.8620',\n  'long': '127.7615'},\n {'iso': 'CHN',\n  'name': 'China',\n  'province': 'Henan',\n  'lat': '33.8820',\n  'long': '113.6140'},\n {'iso': 'CHN',\n  'name': 'China',\n  'province': 'Hong Kong',\n  'lat': '22.3000',\n  'long': '114.2000'},\n {'iso': 'CHN',\n  'name': 'China',\n  'province': 'Hong Kong SAR',\n  'lat': '22.3',\n  'long': '114.2'},\n {'iso': 'CHN',\n  'name': 'China',\n  'province': 'Hubei',\n  'lat': '30.9756',\n  'long': '112.2707'},\n {'iso': 'CHN',\n  'name': 'China',\n  'province': 'Hunan',\n  'lat': '27.6104',\n  'long': '111.7088'},\n {'iso': 'CHN',\n  'name': 'China',\n  'province': 'Inner Mongolia',\n  'lat': '44.0935',\n  'long': '113.9448'},\n {'iso': 'CHN',\n  'name': 'China',\n  'province': 'Jiangsu',\n  'lat': '32.9711',\n  'long': '119.4550'},\n {'iso': 'CHN',\n  'name': 'China',\n  'province': 'Jiangxi',\n  'lat': '27.6140',\n  'long': '115.7221'},\n {'iso': 'CHN',\n  'name': 'China',\n  'province': 'Jilin',\n  'lat': '43.6661',\n  'long': '126.1923'},\n {'iso': 'CHN',\n  'name': 'China',\n  'province': 'Liaoning',\n  'lat': '41.2956',\n  'long': '122.6085'},\n {'iso': 'CHN',\n  'name': 'China',\n  'province': 'Macau',\n  'lat': '22.1667',\n  'long': '113.5500'},\n {'iso': 'CHN',\n  'name': 'China',\n  'province': 'Macau SAR',\n  'lat': '22.1667',\n  'long': '113.55'},\n {'iso': 'CHN',\n  'name': 'China',\n  'province': 'Ningxia',\n  'lat': '37.2692',\n  'long': '106.1655'},\n {'iso': 'CHN',\n  'name': 'China',\n  'province': 'Qinghai',\n  'lat': '35.7452',\n  'long': '95.9956'},\n {'iso': 'CHN',\n  'name': 'China',\n  'province': 'Shaanxi',\n  'lat': '35.1917',\n  'long': '108.8701'},\n {'iso': 'CHN',\n  'name': 'China',\n  'province': 'Shandong',\n  'lat': '36.3427',\n  'long': '118.1498'},\n {'iso': 'CHN',\n  'name': 'China',\n  'province': 'Shanghai',\n  'lat': '31.2020',\n  'long': '121.4491'},\n {'iso': 'CHN',\n  'name': 'China',\n  'province': 'Shanxi',\n  'lat': '37.5777',\n  'long': '112.2922'},\n {'iso': 'CHN',\n  'name': 'China',\n  'province': 'Sichuan',\n  'lat': '30.6171',\n  'long': '102.7103'},\n {'iso': 'CHN',\n  'name': 'China',\n  'province': 'Tianjin',\n  'lat': '39.3054',\n  'long': '117.3230'},\n {'iso': 'CHN',\n  'name': 'China',\n  'province': 'Tibet',\n  'lat': '31.6927',\n  'long': '88.0924'},\n {'iso': 'CHN',\n  'name': 'China',\n  'province': 'Unknown',\n  'lat': None,\n  'long': None},\n {'iso': 'CHN',\n  'name': 'China',\n  'province': 'Xinjiang',\n  'lat': '41.1129',\n  'long': '85.2401'},\n {'iso': 'CHN',\n  'name': 'China',\n  'province': 'Yunnan',\n  'lat': '24.9740',\n  'long': '101.4870'},\n {'iso': 'CHN',\n  'name': 'China',\n  'province': 'Zhejiang',\n  'lat': '29.1832',\n  'long': '120.0934'}]"
     },
     "execution_count": 10,
     "metadata": {},
     "output_type": "execute_result"
    }
   ],
   "source": [
    "rec_data = resp.json()\n",
    "rec_data[\"data\"]"
   ],
   "metadata": {
    "collapsed": false,
    "ExecuteTime": {
     "end_time": "2023-12-18T12:54:45.200014Z",
     "start_time": "2023-12-18T12:54:45.197383Z"
    }
   },
   "id": "106e9b30ca5675a4"
  },
  {
   "cell_type": "code",
   "execution_count": 11,
   "outputs": [],
   "source": [
    "new_df = pd.DataFrame(rec_data[\"data\"])"
   ],
   "metadata": {
    "collapsed": false,
    "ExecuteTime": {
     "end_time": "2023-12-18T12:54:45.330090Z",
     "start_time": "2023-12-18T12:54:45.200591Z"
    }
   },
   "id": "84b72b70794e367f"
  },
  {
   "cell_type": "code",
   "execution_count": 12,
   "outputs": [
    {
     "data": {
      "text/plain": "    iso   name        province      lat      long\n0   CHN  China           Anhui  31.8257  117.2264\n1   CHN  China         Beijing  40.1824  116.4142\n2   CHN  China       Chongqing  30.0572  107.8740\n3   CHN  China          Fujian  26.0789  117.9874\n4   CHN  China           Gansu  36.0611  103.8343\n5   CHN  China       Guangdong  23.3417  113.4244\n6   CHN  China         Guangxi  23.8298  108.7881\n7   CHN  China         Guizhou  26.8154  106.8748\n8   CHN  China          Hainan  19.1959  109.7453\n9   CHN  China           Hebei  38.0428  114.5149\n10  CHN  China    Heilongjiang  47.8620  127.7615\n11  CHN  China           Henan  33.8820  113.6140\n12  CHN  China       Hong Kong  22.3000  114.2000\n13  CHN  China   Hong Kong SAR     22.3     114.2\n14  CHN  China           Hubei  30.9756  112.2707\n15  CHN  China           Hunan  27.6104  111.7088\n16  CHN  China  Inner Mongolia  44.0935  113.9448\n17  CHN  China         Jiangsu  32.9711  119.4550\n18  CHN  China         Jiangxi  27.6140  115.7221\n19  CHN  China           Jilin  43.6661  126.1923\n20  CHN  China        Liaoning  41.2956  122.6085\n21  CHN  China           Macau  22.1667  113.5500\n22  CHN  China       Macau SAR  22.1667    113.55\n23  CHN  China         Ningxia  37.2692  106.1655\n24  CHN  China         Qinghai  35.7452   95.9956\n25  CHN  China         Shaanxi  35.1917  108.8701\n26  CHN  China        Shandong  36.3427  118.1498\n27  CHN  China        Shanghai  31.2020  121.4491\n28  CHN  China          Shanxi  37.5777  112.2922\n29  CHN  China         Sichuan  30.6171  102.7103\n30  CHN  China         Tianjin  39.3054  117.3230\n31  CHN  China           Tibet  31.6927   88.0924\n32  CHN  China         Unknown     None      None\n33  CHN  China        Xinjiang  41.1129   85.2401\n34  CHN  China          Yunnan  24.9740  101.4870\n35  CHN  China        Zhejiang  29.1832  120.0934",
      "text/html": "<div>\n<style scoped>\n    .dataframe tbody tr th:only-of-type {\n        vertical-align: middle;\n    }\n\n    .dataframe tbody tr th {\n        vertical-align: top;\n    }\n\n    .dataframe thead th {\n        text-align: right;\n    }\n</style>\n<table border=\"1\" class=\"dataframe\">\n  <thead>\n    <tr style=\"text-align: right;\">\n      <th></th>\n      <th>iso</th>\n      <th>name</th>\n      <th>province</th>\n      <th>lat</th>\n      <th>long</th>\n    </tr>\n  </thead>\n  <tbody>\n    <tr>\n      <th>0</th>\n      <td>CHN</td>\n      <td>China</td>\n      <td>Anhui</td>\n      <td>31.8257</td>\n      <td>117.2264</td>\n    </tr>\n    <tr>\n      <th>1</th>\n      <td>CHN</td>\n      <td>China</td>\n      <td>Beijing</td>\n      <td>40.1824</td>\n      <td>116.4142</td>\n    </tr>\n    <tr>\n      <th>2</th>\n      <td>CHN</td>\n      <td>China</td>\n      <td>Chongqing</td>\n      <td>30.0572</td>\n      <td>107.8740</td>\n    </tr>\n    <tr>\n      <th>3</th>\n      <td>CHN</td>\n      <td>China</td>\n      <td>Fujian</td>\n      <td>26.0789</td>\n      <td>117.9874</td>\n    </tr>\n    <tr>\n      <th>4</th>\n      <td>CHN</td>\n      <td>China</td>\n      <td>Gansu</td>\n      <td>36.0611</td>\n      <td>103.8343</td>\n    </tr>\n    <tr>\n      <th>5</th>\n      <td>CHN</td>\n      <td>China</td>\n      <td>Guangdong</td>\n      <td>23.3417</td>\n      <td>113.4244</td>\n    </tr>\n    <tr>\n      <th>6</th>\n      <td>CHN</td>\n      <td>China</td>\n      <td>Guangxi</td>\n      <td>23.8298</td>\n      <td>108.7881</td>\n    </tr>\n    <tr>\n      <th>7</th>\n      <td>CHN</td>\n      <td>China</td>\n      <td>Guizhou</td>\n      <td>26.8154</td>\n      <td>106.8748</td>\n    </tr>\n    <tr>\n      <th>8</th>\n      <td>CHN</td>\n      <td>China</td>\n      <td>Hainan</td>\n      <td>19.1959</td>\n      <td>109.7453</td>\n    </tr>\n    <tr>\n      <th>9</th>\n      <td>CHN</td>\n      <td>China</td>\n      <td>Hebei</td>\n      <td>38.0428</td>\n      <td>114.5149</td>\n    </tr>\n    <tr>\n      <th>10</th>\n      <td>CHN</td>\n      <td>China</td>\n      <td>Heilongjiang</td>\n      <td>47.8620</td>\n      <td>127.7615</td>\n    </tr>\n    <tr>\n      <th>11</th>\n      <td>CHN</td>\n      <td>China</td>\n      <td>Henan</td>\n      <td>33.8820</td>\n      <td>113.6140</td>\n    </tr>\n    <tr>\n      <th>12</th>\n      <td>CHN</td>\n      <td>China</td>\n      <td>Hong Kong</td>\n      <td>22.3000</td>\n      <td>114.2000</td>\n    </tr>\n    <tr>\n      <th>13</th>\n      <td>CHN</td>\n      <td>China</td>\n      <td>Hong Kong SAR</td>\n      <td>22.3</td>\n      <td>114.2</td>\n    </tr>\n    <tr>\n      <th>14</th>\n      <td>CHN</td>\n      <td>China</td>\n      <td>Hubei</td>\n      <td>30.9756</td>\n      <td>112.2707</td>\n    </tr>\n    <tr>\n      <th>15</th>\n      <td>CHN</td>\n      <td>China</td>\n      <td>Hunan</td>\n      <td>27.6104</td>\n      <td>111.7088</td>\n    </tr>\n    <tr>\n      <th>16</th>\n      <td>CHN</td>\n      <td>China</td>\n      <td>Inner Mongolia</td>\n      <td>44.0935</td>\n      <td>113.9448</td>\n    </tr>\n    <tr>\n      <th>17</th>\n      <td>CHN</td>\n      <td>China</td>\n      <td>Jiangsu</td>\n      <td>32.9711</td>\n      <td>119.4550</td>\n    </tr>\n    <tr>\n      <th>18</th>\n      <td>CHN</td>\n      <td>China</td>\n      <td>Jiangxi</td>\n      <td>27.6140</td>\n      <td>115.7221</td>\n    </tr>\n    <tr>\n      <th>19</th>\n      <td>CHN</td>\n      <td>China</td>\n      <td>Jilin</td>\n      <td>43.6661</td>\n      <td>126.1923</td>\n    </tr>\n    <tr>\n      <th>20</th>\n      <td>CHN</td>\n      <td>China</td>\n      <td>Liaoning</td>\n      <td>41.2956</td>\n      <td>122.6085</td>\n    </tr>\n    <tr>\n      <th>21</th>\n      <td>CHN</td>\n      <td>China</td>\n      <td>Macau</td>\n      <td>22.1667</td>\n      <td>113.5500</td>\n    </tr>\n    <tr>\n      <th>22</th>\n      <td>CHN</td>\n      <td>China</td>\n      <td>Macau SAR</td>\n      <td>22.1667</td>\n      <td>113.55</td>\n    </tr>\n    <tr>\n      <th>23</th>\n      <td>CHN</td>\n      <td>China</td>\n      <td>Ningxia</td>\n      <td>37.2692</td>\n      <td>106.1655</td>\n    </tr>\n    <tr>\n      <th>24</th>\n      <td>CHN</td>\n      <td>China</td>\n      <td>Qinghai</td>\n      <td>35.7452</td>\n      <td>95.9956</td>\n    </tr>\n    <tr>\n      <th>25</th>\n      <td>CHN</td>\n      <td>China</td>\n      <td>Shaanxi</td>\n      <td>35.1917</td>\n      <td>108.8701</td>\n    </tr>\n    <tr>\n      <th>26</th>\n      <td>CHN</td>\n      <td>China</td>\n      <td>Shandong</td>\n      <td>36.3427</td>\n      <td>118.1498</td>\n    </tr>\n    <tr>\n      <th>27</th>\n      <td>CHN</td>\n      <td>China</td>\n      <td>Shanghai</td>\n      <td>31.2020</td>\n      <td>121.4491</td>\n    </tr>\n    <tr>\n      <th>28</th>\n      <td>CHN</td>\n      <td>China</td>\n      <td>Shanxi</td>\n      <td>37.5777</td>\n      <td>112.2922</td>\n    </tr>\n    <tr>\n      <th>29</th>\n      <td>CHN</td>\n      <td>China</td>\n      <td>Sichuan</td>\n      <td>30.6171</td>\n      <td>102.7103</td>\n    </tr>\n    <tr>\n      <th>30</th>\n      <td>CHN</td>\n      <td>China</td>\n      <td>Tianjin</td>\n      <td>39.3054</td>\n      <td>117.3230</td>\n    </tr>\n    <tr>\n      <th>31</th>\n      <td>CHN</td>\n      <td>China</td>\n      <td>Tibet</td>\n      <td>31.6927</td>\n      <td>88.0924</td>\n    </tr>\n    <tr>\n      <th>32</th>\n      <td>CHN</td>\n      <td>China</td>\n      <td>Unknown</td>\n      <td>None</td>\n      <td>None</td>\n    </tr>\n    <tr>\n      <th>33</th>\n      <td>CHN</td>\n      <td>China</td>\n      <td>Xinjiang</td>\n      <td>41.1129</td>\n      <td>85.2401</td>\n    </tr>\n    <tr>\n      <th>34</th>\n      <td>CHN</td>\n      <td>China</td>\n      <td>Yunnan</td>\n      <td>24.9740</td>\n      <td>101.4870</td>\n    </tr>\n    <tr>\n      <th>35</th>\n      <td>CHN</td>\n      <td>China</td>\n      <td>Zhejiang</td>\n      <td>29.1832</td>\n      <td>120.0934</td>\n    </tr>\n  </tbody>\n</table>\n</div>"
     },
     "execution_count": 12,
     "metadata": {},
     "output_type": "execute_result"
    }
   ],
   "source": [
    "new_df"
   ],
   "metadata": {
    "collapsed": false,
    "ExecuteTime": {
     "end_time": "2023-12-18T12:54:56.182571Z",
     "start_time": "2023-12-18T12:54:56.168786Z"
    }
   },
   "id": "c1c76042848552c4"
  }
 ],
 "metadata": {
  "kernelspec": {
   "display_name": "Python 3",
   "language": "python",
   "name": "python3"
  },
  "language_info": {
   "codemirror_mode": {
    "name": "ipython",
    "version": 2
   },
   "file_extension": ".py",
   "mimetype": "text/x-python",
   "name": "python",
   "nbconvert_exporter": "python",
   "pygments_lexer": "ipython2",
   "version": "2.7.6"
  }
 },
 "nbformat": 4,
 "nbformat_minor": 5
}
