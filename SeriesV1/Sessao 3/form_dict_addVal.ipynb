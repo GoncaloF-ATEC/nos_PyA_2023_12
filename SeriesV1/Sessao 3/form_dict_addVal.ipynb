{
 "cells": [
  {
   "cell_type": "code",
   "execution_count": 62,
   "id": "initial_id",
   "metadata": {
    "collapsed": true,
    "ExecuteTime": {
     "end_time": "2023-12-18T10:53:27.441609Z",
     "start_time": "2023-12-18T10:53:27.433703Z"
    }
   },
   "outputs": [],
   "source": [
    "import pandas as pd"
   ]
  },
  {
   "cell_type": "code",
   "execution_count": 63,
   "outputs": [
    {
     "data": {
      "text/plain": "'2.0.3'"
     },
     "execution_count": 63,
     "metadata": {},
     "output_type": "execute_result"
    }
   ],
   "source": [
    "pd.__version__"
   ],
   "metadata": {
    "collapsed": false,
    "ExecuteTime": {
     "end_time": "2023-12-18T10:53:27.459837Z",
     "start_time": "2023-12-18T10:53:27.439528Z"
    }
   },
   "id": "ab8c78fa749d5152"
  },
  {
   "cell_type": "code",
   "execution_count": 64,
   "outputs": [
    {
     "data": {
      "text/plain": "    Nome  nota\n0   Joao    20\n1  Maria    10\n2  Paula    14",
      "text/html": "<div>\n<style scoped>\n    .dataframe tbody tr th:only-of-type {\n        vertical-align: middle;\n    }\n\n    .dataframe tbody tr th {\n        vertical-align: top;\n    }\n\n    .dataframe thead th {\n        text-align: right;\n    }\n</style>\n<table border=\"1\" class=\"dataframe\">\n  <thead>\n    <tr style=\"text-align: right;\">\n      <th></th>\n      <th>Nome</th>\n      <th>nota</th>\n    </tr>\n  </thead>\n  <tbody>\n    <tr>\n      <th>0</th>\n      <td>Joao</td>\n      <td>20</td>\n    </tr>\n    <tr>\n      <th>1</th>\n      <td>Maria</td>\n      <td>10</td>\n    </tr>\n    <tr>\n      <th>2</th>\n      <td>Paula</td>\n      <td>14</td>\n    </tr>\n  </tbody>\n</table>\n</div>"
     },
     "execution_count": 64,
     "metadata": {},
     "output_type": "execute_result"
    }
   ],
   "source": [
    "dict = {\"Nome\":[\"Joao\", \"Maria\", \"Paula\"], \"nota\":[20,10,14]}\n",
    "df = pd.DataFrame(dict)\n",
    "\n",
    "df"
   ],
   "metadata": {
    "collapsed": false,
    "ExecuteTime": {
     "end_time": "2023-12-18T10:53:27.500461Z",
     "start_time": "2023-12-18T10:53:27.447554Z"
    }
   },
   "id": "8eaabc534f6794ff"
  },
  {
   "cell_type": "code",
   "execution_count": 65,
   "outputs": [
    {
     "data": {
      "text/plain": "    Nome  nota\n0   Joao    20\n1  Maria    10\n2  Paula    14\n3  Pedro    17",
      "text/html": "<div>\n<style scoped>\n    .dataframe tbody tr th:only-of-type {\n        vertical-align: middle;\n    }\n\n    .dataframe tbody tr th {\n        vertical-align: top;\n    }\n\n    .dataframe thead th {\n        text-align: right;\n    }\n</style>\n<table border=\"1\" class=\"dataframe\">\n  <thead>\n    <tr style=\"text-align: right;\">\n      <th></th>\n      <th>Nome</th>\n      <th>nota</th>\n    </tr>\n  </thead>\n  <tbody>\n    <tr>\n      <th>0</th>\n      <td>Joao</td>\n      <td>20</td>\n    </tr>\n    <tr>\n      <th>1</th>\n      <td>Maria</td>\n      <td>10</td>\n    </tr>\n    <tr>\n      <th>2</th>\n      <td>Paula</td>\n      <td>14</td>\n    </tr>\n    <tr>\n      <th>3</th>\n      <td>Pedro</td>\n      <td>17</td>\n    </tr>\n  </tbody>\n</table>\n</div>"
     },
     "execution_count": 65,
     "metadata": {},
     "output_type": "execute_result"
    }
   ],
   "source": [
    "nova_nota = [\"Pedro\", 17]\n",
    "\n",
    "df.loc[len(df)] = nova_nota\n",
    "\n",
    "\n",
    "df"
   ],
   "metadata": {
    "collapsed": false,
    "ExecuteTime": {
     "end_time": "2023-12-18T10:53:27.521356Z",
     "start_time": "2023-12-18T10:53:27.469455Z"
    }
   },
   "id": "8a13a64f6a40e608"
  },
  {
   "cell_type": "code",
   "execution_count": 66,
   "outputs": [
    {
     "data": {
      "text/plain": "      Nome  nota\nal1   Joao    20\nal2  Maria    10\nal3  Paula    14",
      "text/html": "<div>\n<style scoped>\n    .dataframe tbody tr th:only-of-type {\n        vertical-align: middle;\n    }\n\n    .dataframe tbody tr th {\n        vertical-align: top;\n    }\n\n    .dataframe thead th {\n        text-align: right;\n    }\n</style>\n<table border=\"1\" class=\"dataframe\">\n  <thead>\n    <tr style=\"text-align: right;\">\n      <th></th>\n      <th>Nome</th>\n      <th>nota</th>\n    </tr>\n  </thead>\n  <tbody>\n    <tr>\n      <th>al1</th>\n      <td>Joao</td>\n      <td>20</td>\n    </tr>\n    <tr>\n      <th>al2</th>\n      <td>Maria</td>\n      <td>10</td>\n    </tr>\n    <tr>\n      <th>al3</th>\n      <td>Paula</td>\n      <td>14</td>\n    </tr>\n  </tbody>\n</table>\n</div>"
     },
     "execution_count": 66,
     "metadata": {},
     "output_type": "execute_result"
    }
   ],
   "source": [
    "dict = {\"Nome\":[\"Joao\", \"Maria\", \"Paula\"], \"nota\":[20,10,14]}\n",
    "df = pd.DataFrame(dict, index=[\"al1\", \"al2\", \"al3\"])\n",
    "\n",
    "df"
   ],
   "metadata": {
    "collapsed": false,
    "ExecuteTime": {
     "end_time": "2023-12-18T10:53:27.592982Z",
     "start_time": "2023-12-18T10:53:27.526644Z"
    }
   },
   "id": "ea45f9bd16dbf034"
  },
  {
   "cell_type": "code",
   "execution_count": 67,
   "outputs": [
    {
     "data": {
      "text/plain": "      Nome  nota\nal1  Marco    20\nal2   Luis    20",
      "text/html": "<div>\n<style scoped>\n    .dataframe tbody tr th:only-of-type {\n        vertical-align: middle;\n    }\n\n    .dataframe tbody tr th {\n        vertical-align: top;\n    }\n\n    .dataframe thead th {\n        text-align: right;\n    }\n</style>\n<table border=\"1\" class=\"dataframe\">\n  <thead>\n    <tr style=\"text-align: right;\">\n      <th></th>\n      <th>Nome</th>\n      <th>nota</th>\n    </tr>\n  </thead>\n  <tbody>\n    <tr>\n      <th>al1</th>\n      <td>Marco</td>\n      <td>20</td>\n    </tr>\n    <tr>\n      <th>al2</th>\n      <td>Luis</td>\n      <td>20</td>\n    </tr>\n  </tbody>\n</table>\n</div>"
     },
     "execution_count": 67,
     "metadata": {},
     "output_type": "execute_result"
    }
   ],
   "source": [
    "nova_nota = {\"Nome\":[\"Marco\", \"Luis\"], \"nota\":[20,20]}\n",
    "\n",
    "tempDF = pd.DataFrame(nova_nota, index=['al1', 'al2'])\n",
    "\n",
    "tempDF"
   ],
   "metadata": {
    "collapsed": false,
    "ExecuteTime": {
     "end_time": "2023-12-18T10:53:27.653914Z",
     "start_time": "2023-12-18T10:53:27.560255Z"
    }
   },
   "id": "8897655b7cc5a4b0"
  },
  {
   "cell_type": "code",
   "execution_count": 68,
   "outputs": [
    {
     "data": {
      "text/plain": "      Nome  nota\nal1   Joao    20\nal2  Maria    10\nal3  Paula    14\nal1  Marco    20\nal2   Luis    20",
      "text/html": "<div>\n<style scoped>\n    .dataframe tbody tr th:only-of-type {\n        vertical-align: middle;\n    }\n\n    .dataframe tbody tr th {\n        vertical-align: top;\n    }\n\n    .dataframe thead th {\n        text-align: right;\n    }\n</style>\n<table border=\"1\" class=\"dataframe\">\n  <thead>\n    <tr style=\"text-align: right;\">\n      <th></th>\n      <th>Nome</th>\n      <th>nota</th>\n    </tr>\n  </thead>\n  <tbody>\n    <tr>\n      <th>al1</th>\n      <td>Joao</td>\n      <td>20</td>\n    </tr>\n    <tr>\n      <th>al2</th>\n      <td>Maria</td>\n      <td>10</td>\n    </tr>\n    <tr>\n      <th>al3</th>\n      <td>Paula</td>\n      <td>14</td>\n    </tr>\n    <tr>\n      <th>al1</th>\n      <td>Marco</td>\n      <td>20</td>\n    </tr>\n    <tr>\n      <th>al2</th>\n      <td>Luis</td>\n      <td>20</td>\n    </tr>\n  </tbody>\n</table>\n</div>"
     },
     "execution_count": 68,
     "metadata": {},
     "output_type": "execute_result"
    }
   ],
   "source": [
    "novoDF = pd.concat([df, tempDF])\n",
    "\n",
    "novoDF"
   ],
   "metadata": {
    "collapsed": false,
    "ExecuteTime": {
     "end_time": "2023-12-18T10:53:27.697782Z",
     "start_time": "2023-12-18T10:53:27.629735Z"
    }
   },
   "id": "2727a2f4cfc16e90"
  },
  {
   "cell_type": "code",
   "execution_count": 69,
   "outputs": [],
   "source": [
    "dict = {\"Nome\":[\"Joao\", \"Maria\", \"Paula\"], \"nota\":[20,10,14]}\n",
    "df = pd.DataFrame(dict, index=[\"al1\", \"al2\", \"al3\"])\n",
    "\n",
    "nova_nota = {\"Nome\":[\"Marco\", \"Luis\"], \"nota\":[20,20]}\n",
    "tempDF = pd.DataFrame(nova_nota, index=['al1', 'al2'])"
   ],
   "metadata": {
    "collapsed": false,
    "ExecuteTime": {
     "end_time": "2023-12-18T10:53:27.770679Z",
     "start_time": "2023-12-18T10:53:27.702315Z"
    }
   },
   "id": "7e0067f29f63d5ee"
  },
  {
   "cell_type": "code",
   "execution_count": 70,
   "outputs": [
    {
     "data": {
      "text/plain": "    Nome  nota\n0   Joao    20\n1  Maria    10\n2  Paula    14\n3  Marco    20\n4   Luis    20",
      "text/html": "<div>\n<style scoped>\n    .dataframe tbody tr th:only-of-type {\n        vertical-align: middle;\n    }\n\n    .dataframe tbody tr th {\n        vertical-align: top;\n    }\n\n    .dataframe thead th {\n        text-align: right;\n    }\n</style>\n<table border=\"1\" class=\"dataframe\">\n  <thead>\n    <tr style=\"text-align: right;\">\n      <th></th>\n      <th>Nome</th>\n      <th>nota</th>\n    </tr>\n  </thead>\n  <tbody>\n    <tr>\n      <th>0</th>\n      <td>Joao</td>\n      <td>20</td>\n    </tr>\n    <tr>\n      <th>1</th>\n      <td>Maria</td>\n      <td>10</td>\n    </tr>\n    <tr>\n      <th>2</th>\n      <td>Paula</td>\n      <td>14</td>\n    </tr>\n    <tr>\n      <th>3</th>\n      <td>Marco</td>\n      <td>20</td>\n    </tr>\n    <tr>\n      <th>4</th>\n      <td>Luis</td>\n      <td>20</td>\n    </tr>\n  </tbody>\n</table>\n</div>"
     },
     "execution_count": 70,
     "metadata": {},
     "output_type": "execute_result"
    }
   ],
   "source": [
    "novoDF = pd.concat([df, tempDF], ignore_index=True)\n",
    "novoDF"
   ],
   "metadata": {
    "collapsed": false,
    "ExecuteTime": {
     "end_time": "2023-12-18T10:53:27.853307Z",
     "start_time": "2023-12-18T10:53:27.760809Z"
    }
   },
   "id": "490d71339c4168e9"
  },
  {
   "cell_type": "code",
   "execution_count": 71,
   "outputs": [],
   "source": [
    "dict = {\"Nome\":[\"Joao\", \"Maria\", \"Paula\"], \"nota\":[16,10,14]}\n",
    "df = pd.DataFrame(dict, index=[\"al1\", \"al2\", \"al3\"])\n",
    "\n",
    "nova_nota = {\"Nome\":[\"Marco\", \"Luis\"], \"nota\":[18,8]}\n",
    "tempDF = pd.DataFrame(nova_nota, index=['al1', 'al2'])\n",
    "\n",
    "novoDF = pd.concat([df, tempDF])"
   ],
   "metadata": {
    "collapsed": false,
    "ExecuteTime": {
     "end_time": "2023-12-18T10:53:27.924249Z",
     "start_time": "2023-12-18T10:53:27.841065Z"
    }
   },
   "id": "a974f1d2cdc2a0d7"
  },
  {
   "cell_type": "code",
   "execution_count": 72,
   "outputs": [
    {
     "data": {
      "text/plain": "  index   Nome  nota\n0   al1   Joao    16\n1   al2  Maria    10\n2   al3  Paula    14\n3   al1  Marco    18\n4   al2   Luis     8",
      "text/html": "<div>\n<style scoped>\n    .dataframe tbody tr th:only-of-type {\n        vertical-align: middle;\n    }\n\n    .dataframe tbody tr th {\n        vertical-align: top;\n    }\n\n    .dataframe thead th {\n        text-align: right;\n    }\n</style>\n<table border=\"1\" class=\"dataframe\">\n  <thead>\n    <tr style=\"text-align: right;\">\n      <th></th>\n      <th>index</th>\n      <th>Nome</th>\n      <th>nota</th>\n    </tr>\n  </thead>\n  <tbody>\n    <tr>\n      <th>0</th>\n      <td>al1</td>\n      <td>Joao</td>\n      <td>16</td>\n    </tr>\n    <tr>\n      <th>1</th>\n      <td>al2</td>\n      <td>Maria</td>\n      <td>10</td>\n    </tr>\n    <tr>\n      <th>2</th>\n      <td>al3</td>\n      <td>Paula</td>\n      <td>14</td>\n    </tr>\n    <tr>\n      <th>3</th>\n      <td>al1</td>\n      <td>Marco</td>\n      <td>18</td>\n    </tr>\n    <tr>\n      <th>4</th>\n      <td>al2</td>\n      <td>Luis</td>\n      <td>8</td>\n    </tr>\n  </tbody>\n</table>\n</div>"
     },
     "execution_count": 72,
     "metadata": {},
     "output_type": "execute_result"
    }
   ],
   "source": [
    "novoDF2 = novoDF.reset_index()\n",
    "novoDF2"
   ],
   "metadata": {
    "collapsed": false,
    "ExecuteTime": {
     "end_time": "2023-12-18T10:53:27.986185Z",
     "start_time": "2023-12-18T10:53:27.932791Z"
    }
   },
   "id": "209f5999fbf896ee"
  },
  {
   "cell_type": "code",
   "execution_count": 73,
   "outputs": [
    {
     "data": {
      "text/plain": "  index   Nome  nota\n0   al1   Joao    16\n1   al2  Maria    10\n2   al3  Paula    14\n3   al1  Marco    18\n4   al2   Luis     8",
      "text/html": "<div>\n<style scoped>\n    .dataframe tbody tr th:only-of-type {\n        vertical-align: middle;\n    }\n\n    .dataframe tbody tr th {\n        vertical-align: top;\n    }\n\n    .dataframe thead th {\n        text-align: right;\n    }\n</style>\n<table border=\"1\" class=\"dataframe\">\n  <thead>\n    <tr style=\"text-align: right;\">\n      <th></th>\n      <th>index</th>\n      <th>Nome</th>\n      <th>nota</th>\n    </tr>\n  </thead>\n  <tbody>\n    <tr>\n      <th>0</th>\n      <td>al1</td>\n      <td>Joao</td>\n      <td>16</td>\n    </tr>\n    <tr>\n      <th>1</th>\n      <td>al2</td>\n      <td>Maria</td>\n      <td>10</td>\n    </tr>\n    <tr>\n      <th>2</th>\n      <td>al3</td>\n      <td>Paula</td>\n      <td>14</td>\n    </tr>\n    <tr>\n      <th>3</th>\n      <td>al1</td>\n      <td>Marco</td>\n      <td>18</td>\n    </tr>\n    <tr>\n      <th>4</th>\n      <td>al2</td>\n      <td>Luis</td>\n      <td>8</td>\n    </tr>\n  </tbody>\n</table>\n</div>"
     },
     "execution_count": 73,
     "metadata": {},
     "output_type": "execute_result"
    }
   ],
   "source": [
    "novoDF.reset_index(inplace=True)\n",
    "novoDF"
   ],
   "metadata": {
    "collapsed": false,
    "ExecuteTime": {
     "end_time": "2023-12-18T10:53:28.068201Z",
     "start_time": "2023-12-18T10:53:27.951438Z"
    }
   },
   "id": "cd3d0c7e6ccb22b5"
  },
  {
   "cell_type": "code",
   "execution_count": 74,
   "outputs": [
    {
     "data": {
      "text/plain": "     Nome  nota\n0    Joao    10\n1  Carlos    13",
      "text/html": "<div>\n<style scoped>\n    .dataframe tbody tr th:only-of-type {\n        vertical-align: middle;\n    }\n\n    .dataframe tbody tr th {\n        vertical-align: top;\n    }\n\n    .dataframe thead th {\n        text-align: right;\n    }\n</style>\n<table border=\"1\" class=\"dataframe\">\n  <thead>\n    <tr style=\"text-align: right;\">\n      <th></th>\n      <th>Nome</th>\n      <th>nota</th>\n    </tr>\n  </thead>\n  <tbody>\n    <tr>\n      <th>0</th>\n      <td>Joao</td>\n      <td>10</td>\n    </tr>\n    <tr>\n      <th>1</th>\n      <td>Carlos</td>\n      <td>13</td>\n    </tr>\n  </tbody>\n</table>\n</div>"
     },
     "execution_count": 74,
     "metadata": {},
     "output_type": "execute_result"
    }
   ],
   "source": [
    "df = pd.DataFrame({\"Nome\":[\"Joao\", \"Carlos\"], \"nota\":[10,13]})\n",
    "df"
   ],
   "metadata": {
    "collapsed": false,
    "ExecuteTime": {
     "end_time": "2023-12-18T10:53:28.071965Z",
     "start_time": "2023-12-18T10:53:27.995124Z"
    }
   },
   "id": "17437ea8f0b4e289"
  },
  {
   "cell_type": "code",
   "execution_count": 75,
   "outputs": [
    {
     "data": {
      "text/plain": "  variable   value\n0     Nome    Joao\n1     Nome  Carlos\n2     nota      10\n3     nota      13",
      "text/html": "<div>\n<style scoped>\n    .dataframe tbody tr th:only-of-type {\n        vertical-align: middle;\n    }\n\n    .dataframe tbody tr th {\n        vertical-align: top;\n    }\n\n    .dataframe thead th {\n        text-align: right;\n    }\n</style>\n<table border=\"1\" class=\"dataframe\">\n  <thead>\n    <tr style=\"text-align: right;\">\n      <th></th>\n      <th>variable</th>\n      <th>value</th>\n    </tr>\n  </thead>\n  <tbody>\n    <tr>\n      <th>0</th>\n      <td>Nome</td>\n      <td>Joao</td>\n    </tr>\n    <tr>\n      <th>1</th>\n      <td>Nome</td>\n      <td>Carlos</td>\n    </tr>\n    <tr>\n      <th>2</th>\n      <td>nota</td>\n      <td>10</td>\n    </tr>\n    <tr>\n      <th>3</th>\n      <td>nota</td>\n      <td>13</td>\n    </tr>\n  </tbody>\n</table>\n</div>"
     },
     "execution_count": 75,
     "metadata": {},
     "output_type": "execute_result"
    }
   ],
   "source": [
    "df = pd.DataFrame({\"Nome\":[\"Joao\", \"Carlos\"], \"nota\":[10,13]})\n",
    "\n",
    "out  = pd.melt(df)\n",
    "\n",
    "out"
   ],
   "metadata": {
    "collapsed": false,
    "ExecuteTime": {
     "end_time": "2023-12-18T10:53:28.188983Z",
     "start_time": "2023-12-18T10:53:28.078692Z"
    }
   },
   "id": "74ac5013b2330ed6"
  },
  {
   "cell_type": "code",
   "execution_count": 76,
   "outputs": [
    {
     "data": {
      "text/plain": "  index   Nome  nota\n0   al1   Joao    16\n1   al2  Maria    10\n2   al3  Paula    14\n3   al1  Marco    18\n4   al2   Luis     8",
      "text/html": "<div>\n<style scoped>\n    .dataframe tbody tr th:only-of-type {\n        vertical-align: middle;\n    }\n\n    .dataframe tbody tr th {\n        vertical-align: top;\n    }\n\n    .dataframe thead th {\n        text-align: right;\n    }\n</style>\n<table border=\"1\" class=\"dataframe\">\n  <thead>\n    <tr style=\"text-align: right;\">\n      <th></th>\n      <th>index</th>\n      <th>Nome</th>\n      <th>nota</th>\n    </tr>\n  </thead>\n  <tbody>\n    <tr>\n      <th>0</th>\n      <td>al1</td>\n      <td>Joao</td>\n      <td>16</td>\n    </tr>\n    <tr>\n      <th>1</th>\n      <td>al2</td>\n      <td>Maria</td>\n      <td>10</td>\n    </tr>\n    <tr>\n      <th>2</th>\n      <td>al3</td>\n      <td>Paula</td>\n      <td>14</td>\n    </tr>\n    <tr>\n      <th>3</th>\n      <td>al1</td>\n      <td>Marco</td>\n      <td>18</td>\n    </tr>\n    <tr>\n      <th>4</th>\n      <td>al2</td>\n      <td>Luis</td>\n      <td>8</td>\n    </tr>\n  </tbody>\n</table>\n</div>"
     },
     "execution_count": 76,
     "metadata": {},
     "output_type": "execute_result"
    }
   ],
   "source": [
    "novoDF"
   ],
   "metadata": {
    "collapsed": false,
    "ExecuteTime": {
     "end_time": "2023-12-18T10:53:28.292855Z",
     "start_time": "2023-12-18T10:53:28.155702Z"
    }
   },
   "id": "e5c2aebef2fb9111"
  },
  {
   "cell_type": "code",
   "execution_count": 77,
   "outputs": [
    {
     "data": {
      "text/plain": "  index   Nome  nota  Estado\n0   al1   Joao    16    True\n1   al2  Maria    10    True\n2   al3  Paula    14    True\n3   al1  Marco    18    True\n4   al2   Luis     8    True",
      "text/html": "<div>\n<style scoped>\n    .dataframe tbody tr th:only-of-type {\n        vertical-align: middle;\n    }\n\n    .dataframe tbody tr th {\n        vertical-align: top;\n    }\n\n    .dataframe thead th {\n        text-align: right;\n    }\n</style>\n<table border=\"1\" class=\"dataframe\">\n  <thead>\n    <tr style=\"text-align: right;\">\n      <th></th>\n      <th>index</th>\n      <th>Nome</th>\n      <th>nota</th>\n      <th>Estado</th>\n    </tr>\n  </thead>\n  <tbody>\n    <tr>\n      <th>0</th>\n      <td>al1</td>\n      <td>Joao</td>\n      <td>16</td>\n      <td>True</td>\n    </tr>\n    <tr>\n      <th>1</th>\n      <td>al2</td>\n      <td>Maria</td>\n      <td>10</td>\n      <td>True</td>\n    </tr>\n    <tr>\n      <th>2</th>\n      <td>al3</td>\n      <td>Paula</td>\n      <td>14</td>\n      <td>True</td>\n    </tr>\n    <tr>\n      <th>3</th>\n      <td>al1</td>\n      <td>Marco</td>\n      <td>18</td>\n      <td>True</td>\n    </tr>\n    <tr>\n      <th>4</th>\n      <td>al2</td>\n      <td>Luis</td>\n      <td>8</td>\n      <td>True</td>\n    </tr>\n  </tbody>\n</table>\n</div>"
     },
     "execution_count": 77,
     "metadata": {},
     "output_type": "execute_result"
    }
   ],
   "source": [
    "novoDF2 = pd.DataFrame({\"Estado\": [True, True,True, True, False]})\n",
    "\n",
    "out = pd.concat([novoDF, novoDF2], axis=1)\n",
    "\n",
    "out"
   ],
   "metadata": {
    "collapsed": false,
    "ExecuteTime": {
     "end_time": "2023-12-18T10:53:28.389389Z",
     "start_time": "2023-12-18T10:53:28.301193Z"
    }
   },
   "id": "d5e2eae1808bc0b9"
  },
  {
   "cell_type": "code",
   "execution_count": 78,
   "outputs": [
    {
     "data": {
      "text/plain": "  index   Nome  nota  Estado\n0   al1   Joao    16    True\n3   al1  Marco    18    True",
      "text/html": "<div>\n<style scoped>\n    .dataframe tbody tr th:only-of-type {\n        vertical-align: middle;\n    }\n\n    .dataframe tbody tr th {\n        vertical-align: top;\n    }\n\n    .dataframe thead th {\n        text-align: right;\n    }\n</style>\n<table border=\"1\" class=\"dataframe\">\n  <thead>\n    <tr style=\"text-align: right;\">\n      <th></th>\n      <th>index</th>\n      <th>Nome</th>\n      <th>nota</th>\n      <th>Estado</th>\n    </tr>\n  </thead>\n  <tbody>\n    <tr>\n      <th>0</th>\n      <td>al1</td>\n      <td>Joao</td>\n      <td>16</td>\n      <td>True</td>\n    </tr>\n    <tr>\n      <th>3</th>\n      <td>al1</td>\n      <td>Marco</td>\n      <td>18</td>\n      <td>True</td>\n    </tr>\n  </tbody>\n</table>\n</div>"
     },
     "execution_count": 78,
     "metadata": {},
     "output_type": "execute_result"
    }
   ],
   "source": [
    "out.query(\"nota >= 15\")"
   ],
   "metadata": {
    "collapsed": false,
    "ExecuteTime": {
     "end_time": "2023-12-18T10:54:33.792645Z",
     "start_time": "2023-12-18T10:54:33.779386Z"
    }
   },
   "id": "b329433860db5170"
  },
  {
   "cell_type": "code",
   "execution_count": 79,
   "outputs": [
    {
     "data": {
      "text/plain": "  index   Nome  nota  Estado\n0   al1   Joao    16    True\n1   al2  Maria    10    True\n2   al3  Paula    14    True\n3   al1  Marco    18    True\n4   al2   Luis     8    True",
      "text/html": "<div>\n<style scoped>\n    .dataframe tbody tr th:only-of-type {\n        vertical-align: middle;\n    }\n\n    .dataframe tbody tr th {\n        vertical-align: top;\n    }\n\n    .dataframe thead th {\n        text-align: right;\n    }\n</style>\n<table border=\"1\" class=\"dataframe\">\n  <thead>\n    <tr style=\"text-align: right;\">\n      <th></th>\n      <th>index</th>\n      <th>Nome</th>\n      <th>nota</th>\n      <th>Estado</th>\n    </tr>\n  </thead>\n  <tbody>\n    <tr>\n      <th>0</th>\n      <td>al1</td>\n      <td>Joao</td>\n      <td>16</td>\n      <td>True</td>\n    </tr>\n    <tr>\n      <th>1</th>\n      <td>al2</td>\n      <td>Maria</td>\n      <td>10</td>\n      <td>True</td>\n    </tr>\n    <tr>\n      <th>2</th>\n      <td>al3</td>\n      <td>Paula</td>\n      <td>14</td>\n      <td>True</td>\n    </tr>\n    <tr>\n      <th>3</th>\n      <td>al1</td>\n      <td>Marco</td>\n      <td>18</td>\n      <td>True</td>\n    </tr>\n    <tr>\n      <th>4</th>\n      <td>al2</td>\n      <td>Luis</td>\n      <td>8</td>\n      <td>True</td>\n    </tr>\n  </tbody>\n</table>\n</div>"
     },
     "execution_count": 79,
     "metadata": {},
     "output_type": "execute_result"
    }
   ],
   "source": [
    "out"
   ],
   "metadata": {
    "collapsed": false,
    "ExecuteTime": {
     "end_time": "2023-12-18T11:25:22.842351Z",
     "start_time": "2023-12-18T11:25:22.833920Z"
    }
   },
   "id": "ef42b00abd9fb6a5"
  },
  {
   "cell_type": "code",
   "execution_count": 83,
   "outputs": [
    {
     "data": {
      "text/plain": "  index   Nome  nota  Estado\n3   al1  Marco    18    True\n0   al1   Joao    16    True\n2   al3  Paula    14    True\n1   al2  Maria    10    True\n4   al2   Luis     8    True",
      "text/html": "<div>\n<style scoped>\n    .dataframe tbody tr th:only-of-type {\n        vertical-align: middle;\n    }\n\n    .dataframe tbody tr th {\n        vertical-align: top;\n    }\n\n    .dataframe thead th {\n        text-align: right;\n    }\n</style>\n<table border=\"1\" class=\"dataframe\">\n  <thead>\n    <tr style=\"text-align: right;\">\n      <th></th>\n      <th>index</th>\n      <th>Nome</th>\n      <th>nota</th>\n      <th>Estado</th>\n    </tr>\n  </thead>\n  <tbody>\n    <tr>\n      <th>3</th>\n      <td>al1</td>\n      <td>Marco</td>\n      <td>18</td>\n      <td>True</td>\n    </tr>\n    <tr>\n      <th>0</th>\n      <td>al1</td>\n      <td>Joao</td>\n      <td>16</td>\n      <td>True</td>\n    </tr>\n    <tr>\n      <th>2</th>\n      <td>al3</td>\n      <td>Paula</td>\n      <td>14</td>\n      <td>True</td>\n    </tr>\n    <tr>\n      <th>1</th>\n      <td>al2</td>\n      <td>Maria</td>\n      <td>10</td>\n      <td>True</td>\n    </tr>\n    <tr>\n      <th>4</th>\n      <td>al2</td>\n      <td>Luis</td>\n      <td>8</td>\n      <td>True</td>\n    </tr>\n  </tbody>\n</table>\n</div>"
     },
     "execution_count": 83,
     "metadata": {},
     "output_type": "execute_result"
    }
   ],
   "source": [
    "out_sort = out.sort_values('nota', ascending=False)\n",
    "\n",
    "out_sort"
   ],
   "metadata": {
    "collapsed": false,
    "ExecuteTime": {
     "end_time": "2023-12-18T11:29:40.296115Z",
     "start_time": "2023-12-18T11:29:40.274735Z"
    }
   },
   "id": "7355284d0890690e"
  }
 ],
 "metadata": {
  "kernelspec": {
   "display_name": "Python 3",
   "language": "python",
   "name": "python3"
  },
  "language_info": {
   "codemirror_mode": {
    "name": "ipython",
    "version": 2
   },
   "file_extension": ".py",
   "mimetype": "text/x-python",
   "name": "python",
   "nbconvert_exporter": "python",
   "pygments_lexer": "ipython2",
   "version": "2.7.6"
  }
 },
 "nbformat": 4,
 "nbformat_minor": 5
}
