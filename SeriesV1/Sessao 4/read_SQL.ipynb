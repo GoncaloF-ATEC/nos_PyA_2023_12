{
 "cells": [
  {
   "cell_type": "code",
   "execution_count": 21,
   "id": "initial_id",
   "metadata": {
    "collapsed": true,
    "ExecuteTime": {
     "end_time": "2023-12-22T09:58:11.886025Z",
     "start_time": "2023-12-22T09:58:11.879939Z"
    }
   },
   "outputs": [],
   "source": [
    "import pandas as pd\n",
    "from sqlite3 import connect"
   ]
  },
  {
   "cell_type": "markdown",
   "source": [
    "para SQL server ->Eventualmente -> https://docs.devart.com/odbc/sqlserver/python.htm "
   ],
   "metadata": {
    "collapsed": false
   },
   "id": "5eff51d8b96d8986"
  },
  {
   "cell_type": "code",
   "execution_count": 22,
   "outputs": [
    {
     "data": {
      "text/plain": "<sqlite3.Cursor at 0x7f83e066a9d0>"
     },
     "execution_count": 22,
     "metadata": {},
     "output_type": "execute_result"
    }
   ],
   "source": [
    "conn = connect('test2.db')\n",
    "cur = conn.cursor()\n",
    "\n",
    "# create a table\n",
    "cur.execute('''CREATE TABLE IF NOT EXISTS STUDENT\n",
    "(student_id INTEGER PRIMARY KEY,\n",
    "student_name TEXT,\n",
    "course TEXT,\n",
    "marks INTEGER)\n",
    "''')\n"
   ],
   "metadata": {
    "collapsed": false,
    "ExecuteTime": {
     "end_time": "2023-12-22T09:58:11.899254Z",
     "start_time": "2023-12-22T09:58:11.883704Z"
    }
   },
   "id": "afbf8d0e2eeb5367"
  },
  {
   "cell_type": "code",
   "execution_count": 23,
   "outputs": [
    {
     "ename": "IntegrityError",
     "evalue": "UNIQUE constraint failed: STUDENT.student_id",
     "output_type": "error",
     "traceback": [
      "\u001B[0;31m---------------------------------------------------------------------------\u001B[0m",
      "\u001B[0;31mIntegrityError\u001B[0m                            Traceback (most recent call last)",
      "Cell \u001B[0;32mIn[23], line 1\u001B[0m\n\u001B[0;32m----> 1\u001B[0m \u001B[43mcur\u001B[49m\u001B[38;5;241;43m.\u001B[39;49m\u001B[43mexecute\u001B[49m\u001B[43m(\u001B[49m\u001B[38;5;124;43m'''\u001B[39;49m\u001B[38;5;124;43mINSERT INTO STUDENT (student_id, student_name, course, marks)\u001B[39;49m\n\u001B[1;32m      2\u001B[0m \u001B[38;5;124;43mVALUES (1, \u001B[39;49m\u001B[38;5;124;43m'\u001B[39;49m\u001B[38;5;124;43mMark\u001B[39;49m\u001B[38;5;124;43m'\u001B[39;49m\u001B[38;5;124;43m, \u001B[39;49m\u001B[38;5;124;43m'\u001B[39;49m\u001B[38;5;124;43mPython\u001B[39;49m\u001B[38;5;124;43m'\u001B[39;49m\u001B[38;5;124;43m, 65),\u001B[39;49m\n\u001B[1;32m      3\u001B[0m \u001B[38;5;124;43m(2, \u001B[39;49m\u001B[38;5;124;43m'\u001B[39;49m\u001B[38;5;124;43mAlice\u001B[39;49m\u001B[38;5;124;43m'\u001B[39;49m\u001B[38;5;124;43m, \u001B[39;49m\u001B[38;5;124;43m'\u001B[39;49m\u001B[38;5;124;43mMaths\u001B[39;49m\u001B[38;5;124;43m'\u001B[39;49m\u001B[38;5;124;43m, 55),\u001B[39;49m\n\u001B[1;32m      4\u001B[0m \u001B[38;5;124;43m(3, \u001B[39;49m\u001B[38;5;124;43m'\u001B[39;49m\u001B[38;5;124;43mBob\u001B[39;49m\u001B[38;5;124;43m'\u001B[39;49m\u001B[38;5;124;43m, \u001B[39;49m\u001B[38;5;124;43m'\u001B[39;49m\u001B[38;5;124;43mLinux\u001B[39;49m\u001B[38;5;124;43m'\u001B[39;49m\u001B[38;5;124;43m, 68),\u001B[39;49m\n\u001B[1;32m      5\u001B[0m \u001B[38;5;124;43m(4, \u001B[39;49m\u001B[38;5;124;43m'\u001B[39;49m\u001B[38;5;124;43mEmily\u001B[39;49m\u001B[38;5;124;43m'\u001B[39;49m\u001B[38;5;124;43m, \u001B[39;49m\u001B[38;5;124;43m'\u001B[39;49m\u001B[38;5;124;43mEnglish\u001B[39;49m\u001B[38;5;124;43m'\u001B[39;49m\u001B[38;5;124;43m, 50)\u001B[39;49m\n\u001B[1;32m      6\u001B[0m \u001B[38;5;124;43m'''\u001B[39;49m\u001B[43m)\u001B[49m\n\u001B[1;32m      8\u001B[0m conn\u001B[38;5;241m.\u001B[39mcommit()\n",
      "\u001B[0;31mIntegrityError\u001B[0m: UNIQUE constraint failed: STUDENT.student_id"
     ]
    }
   ],
   "source": [
    "cur.execute('''INSERT INTO STUDENT (student_id, student_name, course, marks)\n",
    "VALUES (1, 'Mark', 'Python', 65),\n",
    "(2, 'Alice', 'Maths', 55),\n",
    "(3, 'Bob', 'Linux', 68),\n",
    "(4, 'Emily', 'English', 50)\n",
    "''')\n",
    "\n",
    "conn.commit()"
   ],
   "metadata": {
    "collapsed": false,
    "ExecuteTime": {
     "end_time": "2023-12-22T09:58:11.906658Z",
     "start_time": "2023-12-22T09:58:11.890799Z"
    }
   },
   "id": "fec27821cc01b655"
  },
  {
   "cell_type": "markdown",
   "source": [],
   "metadata": {
    "collapsed": false
   },
   "id": "e06ed7e38cbd26ff"
  },
  {
   "cell_type": "code",
   "execution_count": 24,
   "outputs": [
    {
     "data": {
      "text/plain": "   student_id student_name   course  marks\n0           1         Mark   Python     65\n1           2        Alice    Maths     55\n2           3          Bob    Linux     68\n3           4        Emily  English     50",
      "text/html": "<div>\n<style scoped>\n    .dataframe tbody tr th:only-of-type {\n        vertical-align: middle;\n    }\n\n    .dataframe tbody tr th {\n        vertical-align: top;\n    }\n\n    .dataframe thead th {\n        text-align: right;\n    }\n</style>\n<table border=\"1\" class=\"dataframe\">\n  <thead>\n    <tr style=\"text-align: right;\">\n      <th></th>\n      <th>student_id</th>\n      <th>student_name</th>\n      <th>course</th>\n      <th>marks</th>\n    </tr>\n  </thead>\n  <tbody>\n    <tr>\n      <th>0</th>\n      <td>1</td>\n      <td>Mark</td>\n      <td>Python</td>\n      <td>65</td>\n    </tr>\n    <tr>\n      <th>1</th>\n      <td>2</td>\n      <td>Alice</td>\n      <td>Maths</td>\n      <td>55</td>\n    </tr>\n    <tr>\n      <th>2</th>\n      <td>3</td>\n      <td>Bob</td>\n      <td>Linux</td>\n      <td>68</td>\n    </tr>\n    <tr>\n      <th>3</th>\n      <td>4</td>\n      <td>Emily</td>\n      <td>English</td>\n      <td>50</td>\n    </tr>\n  </tbody>\n</table>\n</div>"
     },
     "execution_count": 24,
     "metadata": {},
     "output_type": "execute_result"
    }
   ],
   "source": [
    "sql_query = pd.read_sql_query(\"Select * from STUDENT\", conn)\n",
    "\n",
    "df = pd.DataFrame(sql_query)\n",
    "\n",
    "df"
   ],
   "metadata": {
    "collapsed": false,
    "ExecuteTime": {
     "end_time": "2023-12-22T09:58:21.881476Z",
     "start_time": "2023-12-22T09:58:21.845928Z"
    }
   },
   "id": "f7962ef6a15bb6c4"
  },
  {
   "cell_type": "code",
   "execution_count": 28,
   "outputs": [
    {
     "data": {
      "text/plain": "           student_name   course  marks\nstudent_id                             \n1                  Mark   Python     65\n2                 Alice    Maths     55\n3                   Bob    Linux     68\n4                 Emily  English     50",
      "text/html": "<div>\n<style scoped>\n    .dataframe tbody tr th:only-of-type {\n        vertical-align: middle;\n    }\n\n    .dataframe tbody tr th {\n        vertical-align: top;\n    }\n\n    .dataframe thead th {\n        text-align: right;\n    }\n</style>\n<table border=\"1\" class=\"dataframe\">\n  <thead>\n    <tr style=\"text-align: right;\">\n      <th></th>\n      <th>student_name</th>\n      <th>course</th>\n      <th>marks</th>\n    </tr>\n    <tr>\n      <th>student_id</th>\n      <th></th>\n      <th></th>\n      <th></th>\n    </tr>\n  </thead>\n  <tbody>\n    <tr>\n      <th>1</th>\n      <td>Mark</td>\n      <td>Python</td>\n      <td>65</td>\n    </tr>\n    <tr>\n      <th>2</th>\n      <td>Alice</td>\n      <td>Maths</td>\n      <td>55</td>\n    </tr>\n    <tr>\n      <th>3</th>\n      <td>Bob</td>\n      <td>Linux</td>\n      <td>68</td>\n    </tr>\n    <tr>\n      <th>4</th>\n      <td>Emily</td>\n      <td>English</td>\n      <td>50</td>\n    </tr>\n  </tbody>\n</table>\n</div>"
     },
     "execution_count": 28,
     "metadata": {},
     "output_type": "execute_result"
    }
   ],
   "source": [
    "sql_query = pd.read_sql('SELECT * FROM STUDENT', conn, index_col=\"student_id\")\n",
    "\n",
    "sql_query"
   ],
   "metadata": {
    "collapsed": false,
    "ExecuteTime": {
     "end_time": "2023-12-22T10:02:06.962680Z",
     "start_time": "2023-12-22T10:02:06.927647Z"
    }
   },
   "id": "d657c2bcfa4d9bae"
  },
  {
   "cell_type": "code",
   "execution_count": 29,
   "outputs": [
    {
     "data": {
      "text/plain": "  student_name  marks\n0         Mark     65\n1        Alice     55\n2          Bob     68\n3        Emily     50",
      "text/html": "<div>\n<style scoped>\n    .dataframe tbody tr th:only-of-type {\n        vertical-align: middle;\n    }\n\n    .dataframe tbody tr th {\n        vertical-align: top;\n    }\n\n    .dataframe thead th {\n        text-align: right;\n    }\n</style>\n<table border=\"1\" class=\"dataframe\">\n  <thead>\n    <tr style=\"text-align: right;\">\n      <th></th>\n      <th>student_name</th>\n      <th>marks</th>\n    </tr>\n  </thead>\n  <tbody>\n    <tr>\n      <th>0</th>\n      <td>Mark</td>\n      <td>65</td>\n    </tr>\n    <tr>\n      <th>1</th>\n      <td>Alice</td>\n      <td>55</td>\n    </tr>\n    <tr>\n      <th>2</th>\n      <td>Bob</td>\n      <td>68</td>\n    </tr>\n    <tr>\n      <th>3</th>\n      <td>Emily</td>\n      <td>50</td>\n    </tr>\n  </tbody>\n</table>\n</div>"
     },
     "execution_count": 29,
     "metadata": {},
     "output_type": "execute_result"
    }
   ],
   "source": [
    "sql_query = pd.read_sql_query(\"Select * from STUDENT\", conn)\n",
    "df = pd.DataFrame(sql_query, columns=[\"student_name\", \"marks\"])\n",
    "df"
   ],
   "metadata": {
    "collapsed": false,
    "ExecuteTime": {
     "end_time": "2023-12-22T10:03:38.746998Z",
     "start_time": "2023-12-22T10:03:38.738011Z"
    }
   },
   "id": "3bca1c8f44985b3"
  },
  {
   "cell_type": "code",
   "execution_count": 30,
   "outputs": [
    {
     "data": {
      "text/plain": "  student_name  marks\n0         Mark     65\n1        Alice     55\n2          Bob     68\n3        Emily     50",
      "text/html": "<div>\n<style scoped>\n    .dataframe tbody tr th:only-of-type {\n        vertical-align: middle;\n    }\n\n    .dataframe tbody tr th {\n        vertical-align: top;\n    }\n\n    .dataframe thead th {\n        text-align: right;\n    }\n</style>\n<table border=\"1\" class=\"dataframe\">\n  <thead>\n    <tr style=\"text-align: right;\">\n      <th></th>\n      <th>student_name</th>\n      <th>marks</th>\n    </tr>\n  </thead>\n  <tbody>\n    <tr>\n      <th>0</th>\n      <td>Mark</td>\n      <td>65</td>\n    </tr>\n    <tr>\n      <th>1</th>\n      <td>Alice</td>\n      <td>55</td>\n    </tr>\n    <tr>\n      <th>2</th>\n      <td>Bob</td>\n      <td>68</td>\n    </tr>\n    <tr>\n      <th>3</th>\n      <td>Emily</td>\n      <td>50</td>\n    </tr>\n  </tbody>\n</table>\n</div>"
     },
     "execution_count": 30,
     "metadata": {},
     "output_type": "execute_result"
    }
   ],
   "source": [
    "sql_query = pd.read_sql('SELECT student_name, marks FROM STUDENT', conn)\n",
    "\n",
    "sql_query"
   ],
   "metadata": {
    "collapsed": false,
    "ExecuteTime": {
     "end_time": "2023-12-22T10:04:22.983035Z",
     "start_time": "2023-12-22T10:04:22.966940Z"
    }
   },
   "id": "e86727dcc63c912f"
  }
 ],
 "metadata": {
  "kernelspec": {
   "display_name": "Python 3",
   "language": "python",
   "name": "python3"
  },
  "language_info": {
   "codemirror_mode": {
    "name": "ipython",
    "version": 2
   },
   "file_extension": ".py",
   "mimetype": "text/x-python",
   "name": "python",
   "nbconvert_exporter": "python",
   "pygments_lexer": "ipython2",
   "version": "2.7.6"
  }
 },
 "nbformat": 4,
 "nbformat_minor": 5
}
