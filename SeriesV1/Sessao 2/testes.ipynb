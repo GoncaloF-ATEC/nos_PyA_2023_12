{
 "cells": [
  {
   "cell_type": "code",
   "execution_count": 12,
   "id": "initial_id",
   "metadata": {
    "collapsed": true,
    "ExecuteTime": {
     "end_time": "2023-12-15T12:10:41.819331Z",
     "start_time": "2023-12-15T12:10:41.816222Z"
    }
   },
   "outputs": [],
   "source": [
    "import pandas as pd"
   ]
  },
  {
   "cell_type": "code",
   "execution_count": 13,
   "outputs": [
    {
     "data": {
      "text/plain": "k1  1000     91\n    1500     12\nk2  1000     33\n    1500     14\nk3  3000    315\nName: tempos, dtype: int64"
     },
     "execution_count": 13,
     "metadata": {},
     "output_type": "execute_result"
    }
   ],
   "source": [
    "myData2 = pd.Series([91,12,33,14, 315],\n",
    "                    index= pd.MultiIndex.from_tuples(\n",
    "                        [(\"k1\", 1000),\n",
    "                         (\"k1\", 1500),\n",
    "                         (\"k2\", 1000),\n",
    "                         (\"k2\", 1500),\n",
    "                         (\"k3\", 3000)]\n",
    "                    ),\n",
    "                    name=\"tempos\"\n",
    "                    )\n",
    "\n",
    "myData2"
   ],
   "metadata": {
    "collapsed": false,
    "ExecuteTime": {
     "end_time": "2023-12-15T12:10:41.856984Z",
     "start_time": "2023-12-15T12:10:41.825071Z"
    }
   },
   "id": "12eede7f05cd9825"
  },
  {
   "cell_type": "code",
   "execution_count": 24,
   "outputs": [
    {
     "data": {
      "text/plain": "k1  1600    91\nName: tempos, dtype: int64"
     },
     "execution_count": 24,
     "metadata": {},
     "output_type": "execute_result"
    }
   ],
   "source": [
    "myData3 = pd.Series([91],\n",
    "                    index= pd.MultiIndex.from_tuples(\n",
    "                        [(\"k1\", 1600)]\n",
    "                    ),\n",
    "                    name=\"tempos\"\n",
    "                    )\n",
    "myData3"
   ],
   "metadata": {
    "collapsed": false,
    "ExecuteTime": {
     "end_time": "2023-12-15T12:17:07.323165Z",
     "start_time": "2023-12-15T12:17:07.311040Z"
    }
   },
   "id": "a54351c48ce31fff"
  },
  {
   "cell_type": "markdown",
   "source": [
    "myData2._append(myData3, ignore_index=False, verify_integrity=False)\n",
    "ignore_index <- remove os index da Series\n",
    "verify_integrity <- valida se o index ja existe"
   ],
   "metadata": {
    "collapsed": false
   },
   "id": "a35f569aa164549"
  },
  {
   "cell_type": "code",
   "execution_count": 29,
   "outputs": [],
   "source": [
    "novaData = myData2._append(myData3, ignore_index=False, verify_integrity=False)"
   ],
   "metadata": {
    "collapsed": false,
    "ExecuteTime": {
     "end_time": "2023-12-15T12:18:04.850917Z",
     "start_time": "2023-12-15T12:18:04.844533Z"
    }
   },
   "id": "5a0858f7bb3a0a04"
  },
  {
   "cell_type": "code",
   "execution_count": 32,
   "outputs": [
    {
     "data": {
      "text/plain": "k1  1000     91\n    1500     12\n    1600     91\nk2  1000     33\n    1500     14\nk3  3000    315\nName: tempos, dtype: int64"
     },
     "execution_count": 32,
     "metadata": {},
     "output_type": "execute_result"
    }
   ],
   "source": [
    "novaData.sort_index(inplace=True)\n",
    "novaData"
   ],
   "metadata": {
    "collapsed": false,
    "ExecuteTime": {
     "end_time": "2023-12-15T12:18:32.392698Z",
     "start_time": "2023-12-15T12:18:32.381952Z"
    }
   },
   "id": "8606d7c2b1163c"
  },
  {
   "cell_type": "code",
   "execution_count": 33,
   "outputs": [
    {
     "name": "stdout",
     "output_type": "stream",
     "text": [
      "k1  1000     91\n",
      "    1500     12\n",
      "    1600     91\n",
      "k2  1000     33\n",
      "    1500     14\n",
      "k3  3000    315\n",
      "Name: tempos, dtype: int64\n"
     ]
    }
   ],
   "source": [
    "print(novaData)"
   ],
   "metadata": {
    "collapsed": false,
    "ExecuteTime": {
     "end_time": "2023-12-15T12:19:12.963168Z",
     "start_time": "2023-12-15T12:19:12.957062Z"
    }
   },
   "id": "da0fe761ce1b173f"
  }
 ],
 "metadata": {
  "kernelspec": {
   "display_name": "Python 3",
   "language": "python",
   "name": "python3"
  },
  "language_info": {
   "codemirror_mode": {
    "name": "ipython",
    "version": 2
   },
   "file_extension": ".py",
   "mimetype": "text/x-python",
   "name": "python",
   "nbconvert_exporter": "python",
   "pygments_lexer": "ipython2",
   "version": "2.7.6"
  }
 },
 "nbformat": 4,
 "nbformat_minor": 5
}
